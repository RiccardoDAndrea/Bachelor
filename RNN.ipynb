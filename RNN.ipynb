{
 "cells": [
  {
   "cell_type": "code",
   "execution_count": null,
   "metadata": {},
   "outputs": [],
   "source": []
  },
  {
   "cell_type": "markdown",
   "metadata": {},
   "source": [
    "https://github.com/bnsreenu/python_for_microscopists/blob/master/166a-Intro_to_time_series_Forecasting_using_LSTM.py"
   ]
  },
  {
   "cell_type": "code",
   "execution_count": 15,
   "metadata": {},
   "outputs": [],
   "source": [
    "import numpy as np\n",
    "import matplotlib.pyplot as plt\n",
    "import math\n",
    "import pandas as pd\n",
    "from keras.models import Sequential\n",
    "from keras.layers import Dense\n",
    "from keras.layers import LSTM, Flatten, SimpleRNN, GRU, Dropout\n",
    "from sklearn.preprocessing import MinMaxScaler\n",
    "from sklearn.metrics import mean_squared_error\n",
    "from keras.optimizers import Adam"
   ]
  },
  {
   "cell_type": "code",
   "execution_count": 16,
   "metadata": {},
   "outputs": [
    {
     "name": "stdout",
     "output_type": "stream",
     "text": [
      "TensorFlow version: 2.13.0\n",
      "Keras version: 2.13.1\n"
     ]
    }
   ],
   "source": [
    "import tensorflow as tf\n",
    "import keras as keras\n",
    "print(\"TensorFlow version:\", tf.__version__)\n",
    "print(\"Keras version:\", keras.__version__)"
   ]
  },
  {
   "cell_type": "code",
   "execution_count": 17,
   "metadata": {},
   "outputs": [
    {
     "data": {
      "text/plain": [
       "(9213, 1)"
      ]
     },
     "execution_count": 17,
     "metadata": {},
     "output_type": "execute_result"
    }
   ],
   "source": [
    "dataframe = pd.read_csv(\"data/raw/DAX_Data.csv\", usecols=[1])\n",
    "dataframe = dataframe.dropna()\n",
    "#plt.plot(dataframe)\n",
    "dataframe.shape"
   ]
  },
  {
   "cell_type": "code",
   "execution_count": 18,
   "metadata": {},
   "outputs": [
    {
     "data": {
      "text/plain": [
       "(9213, 1)"
      ]
     },
     "execution_count": 18,
     "metadata": {},
     "output_type": "execute_result"
    }
   ],
   "source": [
    "#Convert pandas dataframe to numpy array\n",
    "dataset = dataframe.values\n",
    "dataset = dataset.astype('float32')\n",
    "dataset.shape\n",
    "# Datentypen ändern von int64 zu float32\n",
    "# sobald die values sind die bereits float 64 "
   ]
  },
  {
   "cell_type": "code",
   "execution_count": 19,
   "metadata": {},
   "outputs": [
    {
     "name": "stdout",
     "output_type": "stream",
     "text": [
      "(9213, 1)\n"
     ]
    },
    {
     "data": {
      "text/plain": [
       "array([[ 1005.19],\n",
       "       [  956.49],\n",
       "       [  996.1 ],\n",
       "       ...,\n",
       "       [18406.06],\n",
       "       [18576.58],\n",
       "       [18649.08]], dtype=float32)"
      ]
     },
     "execution_count": 19,
     "metadata": {},
     "output_type": "execute_result"
    }
   ],
   "source": [
    "print(dataset.shape)\n",
    "dataset"
   ]
  },
  {
   "cell_type": "code",
   "execution_count": 20,
   "metadata": {},
   "outputs": [
    {
     "data": {
      "text/plain": [
       "(9213, 1)"
      ]
     },
     "execution_count": 20,
     "metadata": {},
     "output_type": "execute_result"
    }
   ],
   "source": [
    "# LSTM uses sigmoid and tanh that are sensitive to magnitude so values need to be normalized\n",
    "# normalize the dataset\n",
    "scaler = MinMaxScaler(feature_range=(0, 1)) #Also try QuantileTransformer\n",
    "dataset = scaler.fit_transform(dataset)\n",
    "dataset.shape\n",
    "\n",
    "# Daten umarrangerien damit sie eine Saklierung haben von 0 bis 1. Wobei 1 = max und 0 = min\n",
    "#scaler.fit = transformiert erst die daten die zeile davor"
   ]
  },
  {
   "cell_type": "code",
   "execution_count": 21,
   "metadata": {},
   "outputs": [],
   "source": [
    "train_size = int(len(dataset) * 0.66)\n",
    "test_size = len(dataset) - train_size\n",
    "train, test = dataset[0:train_size,:], dataset[train_size:len(dataset),:]\n",
    "\n",
    "\n",
    "# daten aufteilen in train und test\n",
    "# validation data kommt er später"
   ]
  },
  {
   "cell_type": "code",
   "execution_count": 22,
   "metadata": {},
   "outputs": [],
   "source": [
    "def to_sequences(dataset, seq_size=1):\n",
    "    x = []\n",
    "    y = []\n",
    "\n",
    "    for i in range(len(dataset)-seq_size-1):\n",
    "        #print(i)\n",
    "        window = dataset[i:(i+seq_size), 0]\n",
    "        x.append(window)\n",
    "        y.append(dataset[i+seq_size, 0])\n",
    "        \n",
    "    return np.array(x),np.array(y)\n",
    "\n",
    "\n",
    "# Dieser Prozess hilft dem RNN-Modell, zeitliche Abhängigkeiten \n",
    "# und Muster im Datensatz zu lernen, indem es auf frühere Werte in \n",
    "# den Sequenzen zurückgreift, um zukünftige Werte vorherzusagen."
   ]
  },
  {
   "cell_type": "code",
   "execution_count": 23,
   "metadata": {},
   "outputs": [
    {
     "name": "stdout",
     "output_type": "stream",
     "text": [
      "Shape of training set: (6074, 5)\n",
      "Shape of test set: (3127, 5)\n"
     ]
    }
   ],
   "source": [
    "seq_size = 5  # Number of time steps to look back \n",
    "#Larger sequences (look further back) may improve forecasting.\n",
    "\n",
    "trainX, trainY = to_sequences(train, seq_size)\n",
    "testX, testY = to_sequences(test, seq_size)\n",
    "\n",
    "\n",
    "\n",
    "print(\"Shape of training set: {}\".format(trainX.shape))\n",
    "print(\"Shape of test set: {}\".format(testX.shape))"
   ]
  },
  {
   "cell_type": "code",
   "execution_count": 24,
   "metadata": {},
   "outputs": [],
   "source": [
    "# Reshape input to be [samples, time steps, features]\n",
    "trainX = np.reshape(trainX, (trainX.shape[0], 1, trainX.shape[1]))\n",
    "testX = np.reshape(testX, (testX.shape[0], 1, testX.shape[1]))"
   ]
  },
  {
   "cell_type": "code",
   "execution_count": 25,
   "metadata": {},
   "outputs": [
    {
     "name": "stdout",
     "output_type": "stream",
     "text": [
      "Model: \"sequential_1\"\n",
      "_________________________________________________________________\n",
      " Layer (type)                Output Shape              Param #   \n",
      "=================================================================\n",
      " lstm_1 (LSTM)               (None, 64)                17920     \n",
      "                                                                 \n",
      " dense_2 (Dense)             (None, 32)                2080      \n",
      "                                                                 \n",
      " dense_3 (Dense)             (None, 1)                 33        \n",
      "                                                                 \n",
      "=================================================================\n",
      "Total params: 20033 (78.25 KB)\n",
      "Trainable params: 20033 (78.25 KB)\n",
      "Non-trainable params: 0 (0.00 Byte)\n",
      "_________________________________________________________________\n"
     ]
    }
   ],
   "source": [
    "model = Sequential()\n",
    "model.add(LSTM(64, input_shape=(None, seq_size)))\n",
    "model.add(Dense(32))\n",
    "model.add(Dense(1))\n",
    "model.compile(loss='mean_squared_error', optimizer='adam')\n",
    "# Optimizer mit spezifischer Lernrate\n",
    "#optimizer = Adam(learning_rate=0.1)\n",
    "\n",
    "# Modell kompilieren mit geeigneten Metriken\n",
    "model.compile(loss='mean_squared_error', optimizer='adam')\n",
    "\n",
    "\n",
    "model.summary()"
   ]
  },
  {
   "cell_type": "code",
   "execution_count": 12,
   "metadata": {},
   "outputs": [
    {
     "name": "stdout",
     "output_type": "stream",
     "text": [
      "Epoch 1/10\n",
      "190/190 - 1s - loss: 0.0014 - val_loss: 2.1623e-04 - 1s/epoch - 6ms/step\n",
      "Epoch 2/10\n",
      "190/190 - 0s - loss: 3.1856e-05 - val_loss: 1.5531e-04 - 182ms/epoch - 958us/step\n",
      "Epoch 3/10\n",
      "190/190 - 0s - loss: 3.1157e-05 - val_loss: 1.4351e-04 - 176ms/epoch - 928us/step\n",
      "Epoch 4/10\n",
      "190/190 - 0s - loss: 2.9846e-05 - val_loss: 1.4341e-04 - 205ms/epoch - 1ms/step\n",
      "Epoch 5/10\n",
      "190/190 - 0s - loss: 2.8852e-05 - val_loss: 1.3478e-04 - 201ms/epoch - 1ms/step\n",
      "Epoch 6/10\n",
      "190/190 - 0s - loss: 2.8137e-05 - val_loss: 2.0853e-04 - 170ms/epoch - 897us/step\n",
      "Epoch 7/10\n",
      "190/190 - 0s - loss: 2.7871e-05 - val_loss: 2.0637e-04 - 167ms/epoch - 878us/step\n",
      "Epoch 8/10\n",
      "190/190 - 0s - loss: 2.5948e-05 - val_loss: 1.4642e-04 - 166ms/epoch - 874us/step\n",
      "Epoch 9/10\n",
      "190/190 - 0s - loss: 2.5656e-05 - val_loss: 2.5735e-04 - 196ms/epoch - 1ms/step\n",
      "Epoch 10/10\n",
      "190/190 - 0s - loss: 2.5607e-05 - val_loss: 2.4425e-04 - 167ms/epoch - 879us/step\n"
     ]
    },
    {
     "data": {
      "text/plain": [
       "<keras.src.callbacks.History at 0x292b24130>"
      ]
     },
     "execution_count": 12,
     "metadata": {},
     "output_type": "execute_result"
    }
   ],
   "source": [
    "model.fit(trainX, trainY, validation_data=(testX, testY), verbose=2, epochs=10)"
   ]
  },
  {
   "cell_type": "code",
   "execution_count": 30,
   "metadata": {},
   "outputs": [
    {
     "name": "stdout",
     "output_type": "stream",
     "text": [
      "Epoch 1/10\n",
      "190/190 - 0s - loss: 1.9664e-05 - val_loss: 2.1638e-04 - 213ms/epoch - 1ms/step\n",
      "Epoch 2/10\n",
      "190/190 - 0s - loss: 2.0484e-05 - val_loss: 1.0164e-04 - 183ms/epoch - 965us/step\n",
      "Epoch 3/10\n",
      "190/190 - 0s - loss: 1.9807e-05 - val_loss: 1.8277e-04 - 183ms/epoch - 961us/step\n",
      "Epoch 4/10\n",
      "190/190 - 0s - loss: 1.8274e-05 - val_loss: 8.4875e-05 - 174ms/epoch - 918us/step\n",
      "Epoch 5/10\n",
      "190/190 - 0s - loss: 1.9625e-05 - val_loss: 2.2022e-04 - 167ms/epoch - 880us/step\n",
      "Epoch 6/10\n",
      "190/190 - 0s - loss: 1.7896e-05 - val_loss: 1.1454e-04 - 169ms/epoch - 887us/step\n",
      "Epoch 7/10\n",
      "190/190 - 0s - loss: 1.9372e-05 - val_loss: 7.2512e-05 - 168ms/epoch - 886us/step\n",
      "Epoch 8/10\n",
      "190/190 - 0s - loss: 1.7221e-05 - val_loss: 2.0536e-04 - 167ms/epoch - 878us/step\n",
      "Epoch 9/10\n",
      "190/190 - 0s - loss: 1.7158e-05 - val_loss: 1.7193e-04 - 167ms/epoch - 876us/step\n",
      "Epoch 10/10\n",
      "190/190 - 0s - loss: 1.9029e-05 - val_loss: 1.0678e-04 - 165ms/epoch - 870us/step\n"
     ]
    }
   ],
   "source": [
    "model = model.fit(trainX, trainY, validation_data=(testX, testY), verbose=2, epochs=10)\n",
    "\n",
    "# Accessing loss history\n",
    "loss = model.history['loss']\n",
    "val_loss = model.history['val_loss']\n",
    "\n",
    "# Optionally, you can also access other metrics if specified\n",
    "# For example, if you had accuracy as a metric:\n",
    "# acc = history.history['accuracy']\n",
    "# val_acc = history.history['val_accuracy']\n"
   ]
  },
  {
   "cell_type": "code",
   "execution_count": 31,
   "metadata": {},
   "outputs": [
    {
     "data": {
      "image/png": "[encoded data removed]",
      "text/plain": [
       "<Figure size 1000x700 with 1 Axes>"
      ]
     },
     "metadata": {},
     "output_type": "display_data"
    }
   ],
   "source": [
    "plt.figure(figsize =(10,7))\n",
    "plt.plot(model.history[\"loss\"])\n",
    "plt.plot(model.history[\"val_loss\"])\n",
    "plt.xlabel(\"Epochs\")\n",
    "plt.ylabel(\"Losses\")\n",
    "plt.title(\"Simple RNN model, Loss vs Epoch\")\n",
    "plt.show()"
   ]
  },
  {
   "cell_type": "code",
   "execution_count": null,
   "metadata": {},
   "outputs": [],
   "source": [
    "print(trainX.shape, trainY.shape, testX.shape, testY.shape)"
   ]
  },
  {
   "cell_type": "code",
   "execution_count": null,
   "metadata": {},
   "outputs": [],
   "source": [
    "trainPredict = model.predict(trainX)\n",
    "testPredict = model.predict(testX)\n",
    "trainPredict.shape, testPredict.shape"
   ]
  },
  {
   "cell_type": "code",
   "execution_count": null,
   "metadata": {},
   "outputs": [],
   "source": [
    "trainX.shape, trainY.shape, testX.shape, testY.shape\n"
   ]
  },
  {
   "cell_type": "code",
   "execution_count": null,
   "metadata": {},
   "outputs": [],
   "source": [
    "trainPredict = scaler.inverse_transform(trainPredict)\n",
    "trainY = scaler.inverse_transform([trainY])\n",
    "testPredict = scaler.inverse_transform(testPredict)\n",
    "testY = scaler.inverse_transform([testY])"
   ]
  },
  {
   "cell_type": "code",
   "execution_count": null,
   "metadata": {},
   "outputs": [],
   "source": [
    "print(trainPredict.shape, trainY.shape)\n",
    "testPredict.shape, testY.shape"
   ]
  },
  {
   "cell_type": "code",
   "execution_count": null,
   "metadata": {},
   "outputs": [],
   "source": [
    "trainPredict[:,0].shape, trainPredict.shape\n"
   ]
  },
  {
   "cell_type": "code",
   "execution_count": null,
   "metadata": {},
   "outputs": [],
   "source": [
    "trainPredict[:,0]"
   ]
  },
  {
   "cell_type": "code",
   "execution_count": null,
   "metadata": {},
   "outputs": [],
   "source": [
    "# Anzahl der zukünftigen Tage, die vorhergesagt werden sollen\n",
    "future_days = 10\n",
    "\n",
    "# Liste zur Speicherung der zukünftigen Vorhersagen\n",
    "futurePredict = []\n",
    "\n",
    "# Nehmen Sie die letzten bekannten Daten aus dem Datensatz\n",
    "last_known_data = testX[-1]  # Das letzte bekannte Fenster von Daten\n",
    "\n",
    "# Schleife, um die zukünftigen Werte zu generieren\n",
    "for _ in range(future_days):\n",
    "    # Machen Sie eine Vorhersage für den nächsten Tag\n",
    "    next_pred = model.predict(last_known_data.reshape(1, seq_size, 1))\n",
    "    \n",
    "    # Speichern Sie die Vorhersage\n",
    "    futurePredict.append(next_pred[0, 0])\n",
    "    \n",
    "    # Fügen Sie die Vorhersage an das Ende der Eingabedaten und entfernen Sie das erste Element\n",
    "    last_known_data = np.append(last_known_data[1:], next_pred)\n",
    "\n",
    "# Rücktransformation der zukünftigen Vorhersagen zu den ursprünglichen Werten\n",
    "futurePredict = np.array(futurePredict).reshape(-1, 1)\n",
    "futurePredict = scaler.inverse_transform(futurePredict)\n",
    "\n",
    "# Anzeigen der zukünftigen Vorhersagen\n",
    "print(f\"Future predictions for the next {future_days} days:\")\n",
    "for i, pred in enumerate(futurePredict):\n",
    "    print(f\"Day {i+1}: {pred[0]}\")\n"
   ]
  },
  {
   "cell_type": "code",
   "execution_count": null,
   "metadata": {},
   "outputs": [],
   "source": [
    "# calculate root mean squared error\n",
    "trainScore = math.sqrt(mean_squared_error(trainY[0], trainPredict[:,0]))\n",
    "print('Train Score: %.2f RMSE' % (trainScore))\n",
    "\n",
    "testScore = math.sqrt(mean_squared_error(testY[0], testPredict[:,0]))\n",
    "print('Test Score: %.2f RMSE' % (testScore))"
   ]
  },
  {
   "cell_type": "code",
   "execution_count": null,
   "metadata": {},
   "outputs": [],
   "source": [
    "# shift train predictions for plotting\n",
    "#we must shift the predictions so that they align on the x-axis with the original dataset. \n",
    "trainPredictPlot = np.empty_like(dataset)\n",
    "trainPredictPlot[:, :] = np.nan\n",
    "trainPredictPlot[seq_size:len(trainPredict)+seq_size, :] = trainPredict"
   ]
  },
  {
   "cell_type": "code",
   "execution_count": null,
   "metadata": {},
   "outputs": [],
   "source": [
    "# shift test predictions for plotting\n",
    "testPredictPlot = np.empty_like(dataset)\n",
    "testPredictPlot[:, :] = np.nan\n",
    "testPredictPlot[len(trainPredict)+(seq_size*2)+1:len(dataset)-1, :] = testPredict"
   ]
  },
  {
   "cell_type": "code",
   "execution_count": null,
   "metadata": {},
   "outputs": [],
   "source": [
    "# plot baseline and predictions\n",
    "#plt.plot(scaler.inverse_transform(dataset))\n",
    "plt.plot(trainPredictPlot)\n",
    "plt.plot(testPredictPlot)\n",
    "plt.show()"
   ]
  },
  {
   "cell_type": "code",
   "execution_count": null,
   "metadata": {},
   "outputs": [],
   "source": []
  },
  {
   "cell_type": "code",
   "execution_count": null,
   "metadata": {},
   "outputs": [],
   "source": []
  },
  {
   "cell_type": "code",
   "execution_count": null,
   "metadata": {},
   "outputs": [],
   "source": []
  },
  {
   "cell_type": "code",
   "execution_count": null,
   "metadata": {},
   "outputs": [],
   "source": []
  },
  {
   "cell_type": "code",
   "execution_count": null,
   "metadata": {},
   "outputs": [],
   "source": []
  }
 ],
 "metadata": {
  "kernelspec": {
   "display_name": "test_",
   "language": "python",
   "name": "python3"
  },
  "language_info": {
   "codemirror_mode": {
    "name": "ipython",
    "version": 3
   },
   "file_extension": ".py",
   "mimetype": "text/x-python",
   "name": "python",
   "nbconvert_exporter": "python",
   "pygments_lexer": "ipython3",
   "version": "3.10.5"
  }
 },
 "nbformat": 4,
 "nbformat_minor": 2
}
