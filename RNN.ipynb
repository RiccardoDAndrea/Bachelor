{
 "cells": [
  {
   "cell_type": "code",
   "execution_count": null,
   "metadata": {},
   "outputs": [],
   "source": []
  },
  {
   "cell_type": "markdown",
   "metadata": {},
   "source": [
    "https://github.com/bnsreenu/python_for_microscopists/blob/master/166a-Intro_to_time_series_Forecasting_using_LSTM.py"
   ]
  },
  {
   "cell_type": "code",
   "execution_count": 18,
   "metadata": {},
   "outputs": [],
   "source": [
    "import numpy as np\n",
    "import matplotlib.pyplot as plt\n",
    "import math\n",
    "import pandas as pd\n",
    "from keras.models import Sequential\n",
    "from keras.layers import Dense\n",
    "from keras.layers import LSTM, Flatten, GlobalAveragePooling1D, SimpleRNN, TimeDistributed\n",
    "from sklearn.preprocessing import MinMaxScaler\n",
    "from sklearn.metrics import mean_squared_error\n",
    "from keras.optimizers import Adam"
   ]
  },
  {
   "cell_type": "code",
   "execution_count": 2,
   "metadata": {},
   "outputs": [
    {
     "name": "stdout",
     "output_type": "stream",
     "text": [
      "TensorFlow version: 2.13.0\n",
      "Keras version: 2.13.1\n"
     ]
    }
   ],
   "source": [
    "import tensorflow as tf\n",
    "import keras as keras\n",
    "print(\"TensorFlow version:\", tf.__version__)\n",
    "print(\"Keras version:\", keras.__version__)"
   ]
  },
  {
   "cell_type": "code",
   "execution_count": 3,
   "metadata": {},
   "outputs": [
    {
     "data": {
      "text/plain": [
       "(9213, 1)"
      ]
     },
     "execution_count": 3,
     "metadata": {},
     "output_type": "execute_result"
    }
   ],
   "source": [
    "dataframe = pd.read_csv(\"data/raw/DAX_Data.csv\", usecols=[1])\n",
    "dataframe = dataframe.dropna()\n",
    "#plt.plot(dataframe)\n",
    "dataframe.shape"
   ]
  },
  {
   "cell_type": "code",
   "execution_count": 4,
   "metadata": {},
   "outputs": [
    {
     "data": {
      "text/plain": [
       "(9213, 1)"
      ]
     },
     "execution_count": 4,
     "metadata": {},
     "output_type": "execute_result"
    }
   ],
   "source": [
    "#Convert pandas dataframe to numpy array\n",
    "dataset = dataframe.values\n",
    "dataset = dataset.astype('float32')\n",
    "dataset.shape\n",
    "# Datentypen ändern von int64 zu float32\n",
    "# sobald die values sind die bereits float 64 "
   ]
  },
  {
   "cell_type": "code",
   "execution_count": 5,
   "metadata": {},
   "outputs": [
    {
     "name": "stdout",
     "output_type": "stream",
     "text": [
      "(9213, 1)\n"
     ]
    },
    {
     "data": {
      "text/plain": [
       "array([[ 1005.19],\n",
       "       [  956.49],\n",
       "       [  996.1 ],\n",
       "       ...,\n",
       "       [18406.06],\n",
       "       [18576.58],\n",
       "       [18649.08]], dtype=float32)"
      ]
     },
     "execution_count": 5,
     "metadata": {},
     "output_type": "execute_result"
    }
   ],
   "source": [
    "print(dataset.shape)\n",
    "dataset"
   ]
  },
  {
   "cell_type": "code",
   "execution_count": 6,
   "metadata": {},
   "outputs": [
    {
     "data": {
      "text/plain": [
       "(9213, 1)"
      ]
     },
     "execution_count": 6,
     "metadata": {},
     "output_type": "execute_result"
    }
   ],
   "source": [
    "# LSTM uses sigmoid and tanh that are sensitive to magnitude so values need to be normalized\n",
    "# normalize the dataset\n",
    "scaler = MinMaxScaler(feature_range=(0, 1)) #Also try QuantileTransformer\n",
    "dataset = scaler.fit_transform(dataset)\n",
    "dataset.shape\n",
    "\n",
    "# Daten umarrangerien damit sie eine Saklierung haben von 0 bis 1. Wobei 1 = max und 0 = min\n",
    "#scaler.fit = transformiert erst die daten die zeile davor"
   ]
  },
  {
   "cell_type": "code",
   "execution_count": 7,
   "metadata": {},
   "outputs": [],
   "source": [
    "train_size = int(len(dataset) * 0.66)\n",
    "test_size = len(dataset) - train_size\n",
    "train, test = dataset[0:train_size,:], dataset[train_size:len(dataset),:]\n",
    "\n",
    "\n",
    "# daten aufteilen in train und test\n",
    "# validation data kommt er später"
   ]
  },
  {
   "cell_type": "code",
   "execution_count": 8,
   "metadata": {},
   "outputs": [],
   "source": [
    "def to_sequences(dataset, seq_size=1):\n",
    "    x = []\n",
    "    y = []\n",
    "\n",
    "    for i in range(len(dataset)-seq_size-1):\n",
    "        #print(i)\n",
    "        window = dataset[i:(i+seq_size), 0]\n",
    "        x.append(window)\n",
    "        y.append(dataset[i+seq_size, 0])\n",
    "        \n",
    "    return np.array(x),np.array(y)\n",
    "\n",
    "\n",
    "# Dieser Prozess hilft dem RNN-Modell, zeitliche Abhängigkeiten \n",
    "# und Muster im Datensatz zu lernen, indem es auf frühere Werte in \n",
    "# den Sequenzen zurückgreift, um zukünftige Werte vorherzusagen."
   ]
  },
  {
   "cell_type": "code",
   "execution_count": 9,
   "metadata": {},
   "outputs": [
    {
     "name": "stdout",
     "output_type": "stream",
     "text": [
      "Shape of training set: (6074, 5)\n",
      "Shape of test set: (3127, 5)\n"
     ]
    }
   ],
   "source": [
    "seq_size = 5  # Number of time steps to look back \n",
    "#Larger sequences (look further back) may improve forecasting.\n",
    "\n",
    "trainX, trainY = to_sequences(train, seq_size)\n",
    "testX, testY = to_sequences(test, seq_size)\n",
    "\n",
    "\n",
    "\n",
    "print(\"Shape of training set: {}\".format(trainX.shape))\n",
    "print(\"Shape of test set: {}\".format(testX.shape))"
   ]
  },
  {
   "cell_type": "code",
   "execution_count": 10,
   "metadata": {},
   "outputs": [],
   "source": [
    "# Reshape input to be [samples, time steps, features]\n",
    "trainX = np.reshape(trainX, (trainX.shape[0], 1, trainX.shape[1]))\n",
    "testX = np.reshape(testX, (testX.shape[0], 1, testX.shape[1]))"
   ]
  },
  {
   "cell_type": "code",
   "execution_count": 28,
   "metadata": {},
   "outputs": [
    {
     "name": "stderr",
     "output_type": "stream",
     "text": [
      "WARNING:absl:At this time, the v2.11+ optimizer `tf.keras.optimizers.Adam` runs slowly on M1/M2 Macs, please use the legacy Keras optimizer instead, located at `tf.keras.optimizers.legacy.Adam`.\n",
      "WARNING:absl:There is a known slowdown when using v2.11+ Keras optimizers on M1/M2 Macs. Falling back to the legacy Keras optimizer, i.e., `tf.keras.optimizers.legacy.Adam`.\n"
     ]
    },
    {
     "name": "stdout",
     "output_type": "stream",
     "text": [
      "Model: \"sequential_9\"\n",
      "_________________________________________________________________\n",
      " Layer (type)                Output Shape              Param #   \n",
      "=================================================================\n",
      " lstm_16 (LSTM)              (None, 64)                17920     \n",
      "                                                                 \n",
      " dense_18 (Dense)            (None, 32)                2080      \n",
      "                                                                 \n",
      " dense_19 (Dense)            (None, 1)                 33        \n",
      "                                                                 \n",
      "=================================================================\n",
      "Total params: 20033 (78.25 KB)\n",
      "Trainable params: 20033 (78.25 KB)\n",
      "Non-trainable params: 0 (0.00 Byte)\n",
      "_________________________________________________________________\n"
     ]
    }
   ],
   "source": [
    "model = Sequential()\n",
    "model.add(LSTM(64, input_shape=(None, seq_size)))\n",
    "model.add(Dense(32))\n",
    "model.add(Dense(1))\n",
    "model.compile(loss='mean_squared_error', optimizer='adam')\n",
    "# Optimizer mit spezifischer Lernrate\n",
    "optimizer = Adam(learning_rate=0.1)\n",
    "\n",
    "# Modell kompilieren mit geeigneten Metriken\n",
    "model.compile(loss='mean_squared_error', optimizer=optimizer)\n",
    "\n",
    "\n",
    "model.summary()"
   ]
  },
  {
   "cell_type": "code",
   "execution_count": 29,
   "metadata": {},
   "outputs": [
    {
     "name": "stdout",
     "output_type": "stream",
     "text": [
      "Epoch 1/40\n",
      "190/190 - 1s - loss: 0.0450 - val_loss: 0.0499 - 924ms/epoch - 5ms/step\n",
      "Epoch 2/40\n",
      "190/190 - 0s - loss: 7.1371e-05 - val_loss: 0.0424 - 173ms/epoch - 909us/step\n",
      "Epoch 3/40\n",
      "190/190 - 0s - loss: 6.5946e-05 - val_loss: 0.0394 - 171ms/epoch - 900us/step\n",
      "Epoch 4/40\n",
      "190/190 - 0s - loss: 6.2025e-05 - val_loss: 0.0375 - 166ms/epoch - 876us/step\n",
      "Epoch 5/40\n",
      "190/190 - 0s - loss: 6.3571e-05 - val_loss: 0.0369 - 165ms/epoch - 869us/step\n",
      "Epoch 6/40\n",
      "190/190 - 0s - loss: 6.0023e-05 - val_loss: 0.0350 - 165ms/epoch - 868us/step\n",
      "Epoch 7/40\n",
      "190/190 - 0s - loss: 6.2322e-05 - val_loss: 0.0354 - 163ms/epoch - 860us/step\n",
      "Epoch 8/40\n",
      "190/190 - 0s - loss: 5.5217e-05 - val_loss: 0.0324 - 167ms/epoch - 878us/step\n",
      "Epoch 9/40\n",
      "190/190 - 0s - loss: 5.2944e-05 - val_loss: 0.0324 - 163ms/epoch - 855us/step\n",
      "Epoch 10/40\n",
      "190/190 - 0s - loss: 5.9676e-05 - val_loss: 0.0306 - 164ms/epoch - 864us/step\n",
      "Epoch 11/40\n",
      "190/190 - 0s - loss: 5.7836e-05 - val_loss: 0.0276 - 168ms/epoch - 885us/step\n",
      "Epoch 12/40\n",
      "190/190 - 0s - loss: 5.7903e-05 - val_loss: 0.0281 - 171ms/epoch - 899us/step\n",
      "Epoch 13/40\n",
      "190/190 - 0s - loss: 4.7833e-05 - val_loss: 0.0250 - 173ms/epoch - 909us/step\n",
      "Epoch 14/40\n",
      "190/190 - 0s - loss: 4.7065e-05 - val_loss: 0.0233 - 165ms/epoch - 869us/step\n",
      "Epoch 15/40\n",
      "190/190 - 0s - loss: 4.7086e-05 - val_loss: 0.0231 - 166ms/epoch - 873us/step\n",
      "Epoch 16/40\n",
      "190/190 - 0s - loss: 4.9201e-05 - val_loss: 0.0225 - 163ms/epoch - 860us/step\n",
      "Epoch 17/40\n",
      "190/190 - 0s - loss: 5.9364e-05 - val_loss: 0.0218 - 167ms/epoch - 882us/step\n",
      "Epoch 18/40\n",
      "190/190 - 0s - loss: 5.5565e-05 - val_loss: 0.0195 - 205ms/epoch - 1ms/step\n",
      "Epoch 19/40\n",
      "190/190 - 0s - loss: 4.8207e-05 - val_loss: 0.0237 - 164ms/epoch - 864us/step\n",
      "Epoch 20/40\n",
      "190/190 - 0s - loss: 5.8287e-05 - val_loss: 0.0184 - 165ms/epoch - 870us/step\n",
      "Epoch 21/40\n",
      "190/190 - 0s - loss: 5.6092e-05 - val_loss: 0.0190 - 167ms/epoch - 881us/step\n",
      "Epoch 22/40\n",
      "190/190 - 0s - loss: 5.3354e-05 - val_loss: 0.0201 - 169ms/epoch - 889us/step\n",
      "Epoch 23/40\n",
      "190/190 - 0s - loss: 5.9420e-05 - val_loss: 0.0209 - 168ms/epoch - 884us/step\n",
      "Epoch 24/40\n",
      "190/190 - 0s - loss: 8.5556e-05 - val_loss: 0.0207 - 168ms/epoch - 882us/step\n",
      "Epoch 25/40\n",
      "190/190 - 0s - loss: 8.4386e-05 - val_loss: 0.0224 - 164ms/epoch - 865us/step\n",
      "Epoch 26/40\n",
      "190/190 - 0s - loss: 7.9286e-05 - val_loss: 0.0228 - 165ms/epoch - 867us/step\n",
      "Epoch 27/40\n",
      "190/190 - 0s - loss: 9.5009e-05 - val_loss: 0.0182 - 165ms/epoch - 866us/step\n",
      "Epoch 28/40\n",
      "190/190 - 0s - loss: 2.6970e-04 - val_loss: 0.0284 - 164ms/epoch - 865us/step\n",
      "Epoch 29/40\n",
      "190/190 - 0s - loss: 2.8836e-04 - val_loss: 0.0528 - 164ms/epoch - 865us/step\n",
      "Epoch 30/40\n",
      "190/190 - 0s - loss: 3.7166e-04 - val_loss: 0.0294 - 163ms/epoch - 860us/step\n",
      "Epoch 31/40\n",
      "190/190 - 0s - loss: 2.4288e-04 - val_loss: 0.0352 - 161ms/epoch - 849us/step\n",
      "Epoch 32/40\n",
      "190/190 - 0s - loss: 1.4944e-04 - val_loss: 0.0239 - 161ms/epoch - 845us/step\n",
      "Epoch 33/40\n",
      "190/190 - 0s - loss: 0.2421 - val_loss: 0.2225 - 170ms/epoch - 897us/step\n",
      "Epoch 34/40\n",
      "190/190 - 0s - loss: 0.0128 - val_loss: 0.2222 - 166ms/epoch - 875us/step\n",
      "Epoch 35/40\n",
      "190/190 - 0s - loss: 0.0121 - val_loss: 0.2133 - 169ms/epoch - 891us/step\n",
      "Epoch 36/40\n",
      "190/190 - 0s - loss: 0.0051 - val_loss: 0.0532 - 167ms/epoch - 877us/step\n",
      "Epoch 37/40\n",
      "190/190 - 0s - loss: 1.5585e-04 - val_loss: 0.0344 - 172ms/epoch - 907us/step\n",
      "Epoch 38/40\n",
      "190/190 - 0s - loss: 6.6464e-05 - val_loss: 0.0328 - 164ms/epoch - 865us/step\n",
      "Epoch 39/40\n",
      "190/190 - 0s - loss: 5.7287e-05 - val_loss: 0.0286 - 167ms/epoch - 879us/step\n",
      "Epoch 40/40\n",
      "190/190 - 0s - loss: 7.1148e-05 - val_loss: 0.0318 - 164ms/epoch - 863us/step\n"
     ]
    },
    {
     "data": {
      "text/plain": [
       "<keras.src.callbacks.History at 0x29ab0f9d0>"
      ]
     },
     "execution_count": 29,
     "metadata": {},
     "output_type": "execute_result"
    }
   ],
   "source": [
    "model.fit(trainX, trainY, validation_data=(testX, testY), verbose=2, epochs=40)"
   ]
  },
  {
   "cell_type": "code",
   "execution_count": 30,
   "metadata": {},
   "outputs": [
    {
     "name": "stdout",
     "output_type": "stream",
     "text": [
      "(6074, 1, 5) (6074,) (3127, 1, 5) (3127,)\n"
     ]
    }
   ],
   "source": [
    "print(trainX.shape, trainY.shape, testX.shape, testY.shape)"
   ]
  },
  {
   "cell_type": "code",
   "execution_count": null,
   "metadata": {},
   "outputs": [],
   "source": [
    "trainPredict = model.predict(trainX)\n",
    "testPredict = model.predict(testX)\n",
    "trainPredict.shape, testPredict.shape"
   ]
  },
  {
   "cell_type": "code",
   "execution_count": null,
   "metadata": {},
   "outputs": [],
   "source": [
    "trainX.shape, trainY.shape, testX.shape, testY.shape\n"
   ]
  },
  {
   "cell_type": "code",
   "execution_count": null,
   "metadata": {},
   "outputs": [],
   "source": [
    "trainPredict = scaler.inverse_transform(trainPredict)\n",
    "trainY = scaler.inverse_transform([trainY])\n",
    "testPredict = scaler.inverse_transform(testPredict)\n",
    "testY = scaler.inverse_transform([testY])"
   ]
  },
  {
   "cell_type": "code",
   "execution_count": null,
   "metadata": {},
   "outputs": [],
   "source": [
    "print(trainPredict.shape, trainY.shape)\n",
    "testPredict.shape, testY.shape"
   ]
  },
  {
   "cell_type": "code",
   "execution_count": null,
   "metadata": {},
   "outputs": [],
   "source": [
    "trainPredict[:,0].shape, trainPredict.shape\n"
   ]
  },
  {
   "cell_type": "code",
   "execution_count": null,
   "metadata": {},
   "outputs": [],
   "source": [
    "# calculate root mean squared error\n",
    "trainScore = math.sqrt(mean_squared_error(trainY[0], trainPredict[:,0]))\n",
    "print('Train Score: %.2f RMSE' % (trainScore))\n",
    "\n",
    "testScore = math.sqrt(mean_squared_error(testY[0], testPredict[:,0]))\n",
    "print('Test Score: %.2f RMSE' % (testScore))"
   ]
  },
  {
   "cell_type": "code",
   "execution_count": null,
   "metadata": {},
   "outputs": [],
   "source": [
    "# shift train predictions for plotting\n",
    "#we must shift the predictions so that they align on the x-axis with the original dataset. \n",
    "trainPredictPlot = np.empty_like(dataset)\n",
    "trainPredictPlot[:, :] = np.nan\n",
    "trainPredictPlot[seq_size:len(trainPredict)+seq_size, :] = trainPredict"
   ]
  },
  {
   "cell_type": "code",
   "execution_count": null,
   "metadata": {},
   "outputs": [],
   "source": [
    "# shift test predictions for plotting\n",
    "testPredictPlot = np.empty_like(dataset)\n",
    "testPredictPlot[:, :] = np.nan\n",
    "testPredictPlot[len(trainPredict)+(seq_size*2)+1:len(dataset)-1, :] = testPredict"
   ]
  },
  {
   "cell_type": "code",
   "execution_count": null,
   "metadata": {},
   "outputs": [],
   "source": [
    "# plot baseline and predictions\n",
    "#plt.plot(scaler.inverse_transform(dataset))\n",
    "plt.plot(trainPredictPlot)\n",
    "plt.plot(testPredictPlot)\n",
    "plt.show()"
   ]
  },
  {
   "cell_type": "code",
   "execution_count": null,
   "metadata": {},
   "outputs": [],
   "source": []
  },
  {
   "cell_type": "code",
   "execution_count": null,
   "metadata": {},
   "outputs": [],
   "source": []
  },
  {
   "cell_type": "code",
   "execution_count": null,
   "metadata": {},
   "outputs": [],
   "source": []
  },
  {
   "cell_type": "code",
   "execution_count": null,
   "metadata": {},
   "outputs": [],
   "source": []
  },
  {
   "cell_type": "code",
   "execution_count": null,
   "metadata": {},
   "outputs": [],
   "source": []
  }
 ],
 "metadata": {
  "kernelspec": {
   "display_name": "test_",
   "language": "python",
   "name": "python3"
  },
  "language_info": {
   "codemirror_mode": {
    "name": "ipython",
    "version": 3
   },
   "file_extension": ".py",
   "mimetype": "text/x-python",
   "name": "python",
   "nbconvert_exporter": "python",
   "pygments_lexer": "ipython3",
   "version": "3.10.5"
  }
 },
 "nbformat": 4,
 "nbformat_minor": 2
}
