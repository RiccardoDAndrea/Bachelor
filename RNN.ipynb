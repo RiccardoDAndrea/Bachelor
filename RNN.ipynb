{
 "cells": [
  {
   "cell_type": "code",
   "execution_count": null,
   "metadata": {},
   "outputs": [],
   "source": []
  },
  {
   "cell_type": "markdown",
   "metadata": {},
   "source": [
    "https://github.com/bnsreenu/python_for_microscopists/blob/master/166a-Intro_to_time_series_Forecasting_using_LSTM.py"
   ]
  },
  {
   "cell_type": "code",
   "execution_count": 1,
   "metadata": {},
   "outputs": [],
   "source": [
    "import numpy as np\n",
    "import matplotlib.pyplot as plt\n",
    "import math\n",
    "import pandas as pd\n",
    "from keras.models import Sequential\n",
    "from keras.layers import Dense\n",
    "from keras.layers import LSTM, Flatten, GlobalAveragePooling1D, SimpleRNN, TimeDistributed\n",
    "from sklearn.preprocessing import MinMaxScaler\n",
    "from sklearn.metrics import mean_squared_error\n",
    "from keras.optimizers import Adam"
   ]
  },
  {
   "cell_type": "code",
   "execution_count": 2,
   "metadata": {},
   "outputs": [
    {
     "name": "stdout",
     "output_type": "stream",
     "text": [
      "TensorFlow version: 2.13.0\n",
      "Keras version: 2.13.1\n"
     ]
    }
   ],
   "source": [
    "import tensorflow as tf\n",
    "import keras as keras\n",
    "print(\"TensorFlow version:\", tf.__version__)\n",
    "print(\"Keras version:\", keras.__version__)"
   ]
  },
  {
   "cell_type": "code",
   "execution_count": 3,
   "metadata": {},
   "outputs": [
    {
     "data": {
      "text/plain": [
       "(9213, 1)"
      ]
     },
     "execution_count": 3,
     "metadata": {},
     "output_type": "execute_result"
    }
   ],
   "source": [
    "dataframe = pd.read_csv(\"data/raw/DAX_Data.csv\", usecols=[1])\n",
    "dataframe = dataframe.dropna()\n",
    "#plt.plot(dataframe)\n",
    "dataframe.shape"
   ]
  },
  {
   "cell_type": "code",
   "execution_count": 4,
   "metadata": {},
   "outputs": [
    {
     "data": {
      "text/plain": [
       "(9213, 1)"
      ]
     },
     "execution_count": 4,
     "metadata": {},
     "output_type": "execute_result"
    }
   ],
   "source": [
    "#Convert pandas dataframe to numpy array\n",
    "dataset = dataframe.values\n",
    "dataset = dataset.astype('float32')\n",
    "dataset.shape\n",
    "# Datentypen ändern von int64 zu float32\n",
    "# sobald die values sind die bereits float 64 "
   ]
  },
  {
   "cell_type": "code",
   "execution_count": 5,
   "metadata": {},
   "outputs": [
    {
     "name": "stdout",
     "output_type": "stream",
     "text": [
      "(9213, 1)\n"
     ]
    },
    {
     "data": {
      "text/plain": [
       "array([[ 1005.19],\n",
       "       [  956.49],\n",
       "       [  996.1 ],\n",
       "       ...,\n",
       "       [18406.06],\n",
       "       [18576.58],\n",
       "       [18649.08]], dtype=float32)"
      ]
     },
     "execution_count": 5,
     "metadata": {},
     "output_type": "execute_result"
    }
   ],
   "source": [
    "print(dataset.shape)\n",
    "dataset"
   ]
  },
  {
   "cell_type": "code",
   "execution_count": 6,
   "metadata": {},
   "outputs": [
    {
     "data": {
      "text/plain": [
       "(9213, 1)"
      ]
     },
     "execution_count": 6,
     "metadata": {},
     "output_type": "execute_result"
    }
   ],
   "source": [
    "# LSTM uses sigmoid and tanh that are sensitive to magnitude so values need to be normalized\n",
    "# normalize the dataset\n",
    "scaler = MinMaxScaler(feature_range=(0, 1)) #Also try QuantileTransformer\n",
    "dataset = scaler.fit_transform(dataset)\n",
    "dataset.shape\n",
    "\n",
    "# Daten umarrangerien damit sie eine Saklierung haben von 0 bis 1. Wobei 1 = max und 0 = min\n",
    "#scaler.fit = transformiert erst die daten die zeile davor"
   ]
  },
  {
   "cell_type": "code",
   "execution_count": 7,
   "metadata": {},
   "outputs": [],
   "source": [
    "train_size = int(len(dataset) * 0.66)\n",
    "test_size = len(dataset) - train_size\n",
    "train, test = dataset[0:train_size,:], dataset[train_size:len(dataset),:]\n",
    "\n",
    "\n",
    "# daten aufteilen in train und test\n",
    "# validation data kommt er später"
   ]
  },
  {
   "cell_type": "code",
   "execution_count": 8,
   "metadata": {},
   "outputs": [],
   "source": [
    "def to_sequences(dataset, seq_size=1):\n",
    "    x = []\n",
    "    y = []\n",
    "\n",
    "    for i in range(len(dataset)-seq_size-1):\n",
    "        #print(i)\n",
    "        window = dataset[i:(i+seq_size), 0]\n",
    "        x.append(window)\n",
    "        y.append(dataset[i+seq_size, 0])\n",
    "        \n",
    "    return np.array(x),np.array(y)\n",
    "\n",
    "\n",
    "# Dieser Prozess hilft dem RNN-Modell, zeitliche Abhängigkeiten \n",
    "# und Muster im Datensatz zu lernen, indem es auf frühere Werte in \n",
    "# den Sequenzen zurückgreift, um zukünftige Werte vorherzusagen."
   ]
  },
  {
   "cell_type": "code",
   "execution_count": 9,
   "metadata": {},
   "outputs": [
    {
     "name": "stdout",
     "output_type": "stream",
     "text": [
      "Shape of training set: (6074, 5)\n",
      "Shape of test set: (3127, 5)\n"
     ]
    }
   ],
   "source": [
    "seq_size = 5  # Number of time steps to look back \n",
    "#Larger sequences (look further back) may improve forecasting.\n",
    "\n",
    "trainX, trainY = to_sequences(train, seq_size)\n",
    "testX, testY = to_sequences(test, seq_size)\n",
    "\n",
    "\n",
    "\n",
    "print(\"Shape of training set: {}\".format(trainX.shape))\n",
    "print(\"Shape of test set: {}\".format(testX.shape))"
   ]
  },
  {
   "cell_type": "code",
   "execution_count": 10,
   "metadata": {},
   "outputs": [],
   "source": [
    "# Reshape input to be [samples, time steps, features]\n",
    "trainX = np.reshape(trainX, (trainX.shape[0], 1, trainX.shape[1]))\n",
    "testX = np.reshape(testX, (testX.shape[0], 1, testX.shape[1]))"
   ]
  },
  {
   "cell_type": "code",
   "execution_count": 12,
   "metadata": {},
   "outputs": [
    {
     "name": "stdout",
     "output_type": "stream",
     "text": [
      "Model: \"sequential_1\"\n",
      "_________________________________________________________________\n",
      " Layer (type)                Output Shape              Param #   \n",
      "=================================================================\n",
      " lstm_1 (LSTM)               (None, 64)                17920     \n",
      "                                                                 \n",
      " dense_2 (Dense)             (None, 32)                2080      \n",
      "                                                                 \n",
      " dense_3 (Dense)             (None, 1)                 33        \n",
      "                                                                 \n",
      "=================================================================\n",
      "Total params: 20033 (78.25 KB)\n",
      "Trainable params: 20033 (78.25 KB)\n",
      "Non-trainable params: 0 (0.00 Byte)\n",
      "_________________________________________________________________\n"
     ]
    }
   ],
   "source": [
    "model = Sequential()\n",
    "model.add(LSTM(64, input_shape=(None, seq_size)))\n",
    "model.add(Dense(32))\n",
    "model.add(Dense(1))\n",
    "model.compile(loss='mean_squared_error', optimizer='adam')\n",
    "# Optimizer mit spezifischer Lernrate\n",
    "#optimizer = Adam(learning_rate=0.1)\n",
    "\n",
    "# Modell kompilieren mit geeigneten Metriken\n",
    "model.compile(loss='mean_squared_error', optimizer='adam')\n",
    "\n",
    "\n",
    "model.summary()"
   ]
  },
  {
   "cell_type": "code",
   "execution_count": 13,
   "metadata": {},
   "outputs": [
    {
     "name": "stdout",
     "output_type": "stream",
     "text": [
      "Epoch 1/40\n",
      "190/190 - 1s - loss: 0.0018 - val_loss: 2.4231e-04 - 1s/epoch - 6ms/step\n",
      "Epoch 2/40\n",
      "190/190 - 0s - loss: 2.7292e-05 - val_loss: 1.8262e-04 - 171ms/epoch - 898us/step\n",
      "Epoch 3/40\n",
      "190/190 - 0s - loss: 2.6933e-05 - val_loss: 1.4496e-04 - 171ms/epoch - 898us/step\n",
      "Epoch 4/40\n",
      "190/190 - 0s - loss: 2.6119e-05 - val_loss: 1.2581e-04 - 165ms/epoch - 866us/step\n",
      "Epoch 5/40\n",
      "190/190 - 0s - loss: 2.6935e-05 - val_loss: 1.4094e-04 - 164ms/epoch - 862us/step\n",
      "Epoch 6/40\n",
      "190/190 - 0s - loss: 2.5831e-05 - val_loss: 2.0944e-04 - 164ms/epoch - 861us/step\n",
      "Epoch 7/40\n",
      "190/190 - 0s - loss: 2.4642e-05 - val_loss: 2.3610e-04 - 164ms/epoch - 864us/step\n",
      "Epoch 8/40\n",
      "190/190 - 0s - loss: 2.3983e-05 - val_loss: 2.2522e-04 - 164ms/epoch - 863us/step\n",
      "Epoch 9/40\n",
      "190/190 - 0s - loss: 2.3213e-05 - val_loss: 2.7546e-04 - 169ms/epoch - 890us/step\n",
      "Epoch 10/40\n",
      "190/190 - 0s - loss: 2.4309e-05 - val_loss: 1.8469e-04 - 167ms/epoch - 877us/step\n",
      "Epoch 11/40\n",
      "190/190 - 0s - loss: 2.2141e-05 - val_loss: 2.6874e-04 - 168ms/epoch - 887us/step\n",
      "Epoch 12/40\n",
      "190/190 - 0s - loss: 2.1338e-05 - val_loss: 1.0998e-04 - 169ms/epoch - 890us/step\n",
      "Epoch 13/40\n",
      "190/190 - 0s - loss: 2.4180e-05 - val_loss: 1.3101e-04 - 171ms/epoch - 898us/step\n",
      "Epoch 14/40\n",
      "190/190 - 0s - loss: 2.0951e-05 - val_loss: 2.3117e-04 - 168ms/epoch - 884us/step\n",
      "Epoch 15/40\n",
      "190/190 - 0s - loss: 2.1985e-05 - val_loss: 9.2347e-05 - 165ms/epoch - 869us/step\n",
      "Epoch 16/40\n",
      "190/190 - 0s - loss: 2.0022e-05 - val_loss: 1.6353e-04 - 167ms/epoch - 877us/step\n",
      "Epoch 17/40\n",
      "190/190 - 0s - loss: 1.9267e-05 - val_loss: 4.9744e-04 - 167ms/epoch - 881us/step\n",
      "Epoch 18/40\n",
      "190/190 - 0s - loss: 2.1267e-05 - val_loss: 4.4169e-04 - 170ms/epoch - 895us/step\n",
      "Epoch 19/40\n",
      "190/190 - 0s - loss: 2.0968e-05 - val_loss: 1.2699e-04 - 172ms/epoch - 908us/step\n",
      "Epoch 20/40\n",
      "190/190 - 0s - loss: 1.8455e-05 - val_loss: 2.6207e-04 - 166ms/epoch - 874us/step\n",
      "Epoch 21/40\n",
      "190/190 - 0s - loss: 1.7995e-05 - val_loss: 1.1235e-04 - 170ms/epoch - 897us/step\n",
      "Epoch 22/40\n",
      "190/190 - 0s - loss: 1.8777e-05 - val_loss: 1.1281e-04 - 164ms/epoch - 865us/step\n",
      "Epoch 23/40\n",
      "190/190 - 0s - loss: 1.8769e-05 - val_loss: 3.5079e-04 - 163ms/epoch - 860us/step\n",
      "Epoch 24/40\n",
      "190/190 - 0s - loss: 1.8873e-05 - val_loss: 1.1656e-04 - 162ms/epoch - 855us/step\n",
      "Epoch 25/40\n",
      "190/190 - 0s - loss: 1.8742e-05 - val_loss: 2.5102e-04 - 195ms/epoch - 1ms/step\n",
      "Epoch 26/40\n",
      "190/190 - 0s - loss: 1.9022e-05 - val_loss: 1.5047e-04 - 164ms/epoch - 863us/step\n",
      "Epoch 27/40\n",
      "190/190 - 0s - loss: 2.0731e-05 - val_loss: 8.1886e-05 - 163ms/epoch - 855us/step\n",
      "Epoch 28/40\n",
      "190/190 - 0s - loss: 1.7775e-05 - val_loss: 1.8471e-04 - 163ms/epoch - 860us/step\n",
      "Epoch 29/40\n",
      "190/190 - 0s - loss: 1.9045e-05 - val_loss: 1.1682e-04 - 164ms/epoch - 862us/step\n",
      "Epoch 30/40\n",
      "190/190 - 0s - loss: 1.9464e-05 - val_loss: 1.4057e-04 - 163ms/epoch - 856us/step\n",
      "Epoch 31/40\n",
      "190/190 - 0s - loss: 1.7400e-05 - val_loss: 8.2572e-05 - 165ms/epoch - 867us/step\n",
      "Epoch 32/40\n",
      "190/190 - 0s - loss: 1.9291e-05 - val_loss: 9.8482e-05 - 164ms/epoch - 863us/step\n",
      "Epoch 33/40\n",
      "190/190 - 0s - loss: 1.6851e-05 - val_loss: 8.9830e-05 - 170ms/epoch - 894us/step\n",
      "Epoch 34/40\n",
      "190/190 - 0s - loss: 1.7072e-05 - val_loss: 8.1606e-05 - 164ms/epoch - 863us/step\n",
      "Epoch 35/40\n",
      "190/190 - 0s - loss: 1.9232e-05 - val_loss: 2.3538e-04 - 165ms/epoch - 867us/step\n",
      "Epoch 36/40\n",
      "190/190 - 0s - loss: 1.7419e-05 - val_loss: 1.4584e-04 - 167ms/epoch - 881us/step\n",
      "Epoch 37/40\n",
      "190/190 - 0s - loss: 1.7289e-05 - val_loss: 1.0306e-04 - 168ms/epoch - 885us/step\n",
      "Epoch 38/40\n",
      "190/190 - 0s - loss: 2.0997e-05 - val_loss: 1.2440e-04 - 170ms/epoch - 896us/step\n",
      "Epoch 39/40\n",
      "190/190 - 0s - loss: 1.9878e-05 - val_loss: 2.0570e-04 - 165ms/epoch - 870us/step\n",
      "Epoch 40/40\n",
      "190/190 - 0s - loss: 1.8859e-05 - val_loss: 1.6614e-04 - 166ms/epoch - 872us/step\n"
     ]
    },
    {
     "data": {
      "text/plain": [
       "<keras.src.callbacks.History at 0x290ed19c0>"
      ]
     },
     "execution_count": 13,
     "metadata": {},
     "output_type": "execute_result"
    }
   ],
   "source": [
    "model.fit(trainX, trainY, validation_data=(testX, testY), verbose=2, epochs=40)"
   ]
  },
  {
   "cell_type": "code",
   "execution_count": 14,
   "metadata": {},
   "outputs": [
    {
     "name": "stdout",
     "output_type": "stream",
     "text": [
      "(6074, 1, 5) (6074,) (3127, 1, 5) (3127,)\n"
     ]
    }
   ],
   "source": [
    "print(trainX.shape, trainY.shape, testX.shape, testY.shape)"
   ]
  },
  {
   "cell_type": "code",
   "execution_count": 15,
   "metadata": {},
   "outputs": [
    {
     "name": "stdout",
     "output_type": "stream",
     "text": [
      "190/190 [==============================] - 0s 390us/step\n",
      "98/98 [==============================] - 0s 362us/step\n"
     ]
    },
    {
     "data": {
      "text/plain": [
       "((6074, 1), (3127, 1))"
      ]
     },
     "execution_count": 15,
     "metadata": {},
     "output_type": "execute_result"
    }
   ],
   "source": [
    "trainPredict = model.predict(trainX)\n",
    "testPredict = model.predict(testX)\n",
    "trainPredict.shape, testPredict.shape"
   ]
  },
  {
   "cell_type": "code",
   "execution_count": 16,
   "metadata": {},
   "outputs": [
    {
     "data": {
      "text/plain": [
       "((6074, 1, 5), (6074,), (3127, 1, 5), (3127,))"
      ]
     },
     "execution_count": 16,
     "metadata": {},
     "output_type": "execute_result"
    }
   ],
   "source": [
    "trainX.shape, trainY.shape, testX.shape, testY.shape\n"
   ]
  },
  {
   "cell_type": "code",
   "execution_count": 17,
   "metadata": {},
   "outputs": [],
   "source": [
    "trainPredict = scaler.inverse_transform(trainPredict)\n",
    "trainY = scaler.inverse_transform([trainY])\n",
    "testPredict = scaler.inverse_transform(testPredict)\n",
    "testY = scaler.inverse_transform([testY])"
   ]
  },
  {
   "cell_type": "code",
   "execution_count": 18,
   "metadata": {},
   "outputs": [
    {
     "name": "stdout",
     "output_type": "stream",
     "text": [
      "(6074, 1) (1, 6074)\n"
     ]
    },
    {
     "data": {
      "text/plain": [
       "((3127, 1), (1, 3127))"
      ]
     },
     "execution_count": 18,
     "metadata": {},
     "output_type": "execute_result"
    }
   ],
   "source": [
    "print(trainPredict.shape, trainY.shape)\n",
    "testPredict.shape, testY.shape"
   ]
  },
  {
   "cell_type": "code",
   "execution_count": 19,
   "metadata": {},
   "outputs": [
    {
     "data": {
      "text/plain": [
       "((6074,), (6074, 1))"
      ]
     },
     "execution_count": 19,
     "metadata": {},
     "output_type": "execute_result"
    }
   ],
   "source": [
    "trainPredict[:,0].shape, trainPredict.shape\n"
   ]
  },
  {
   "cell_type": "code",
   "execution_count": 20,
   "metadata": {},
   "outputs": [
    {
     "name": "stdout",
     "output_type": "stream",
     "text": [
      "Train Score: 67.89 RMSE\n",
      "Test Score: 231.22 RMSE\n"
     ]
    }
   ],
   "source": [
    "# calculate root mean squared error\n",
    "trainScore = math.sqrt(mean_squared_error(trainY[0], trainPredict[:,0]))\n",
    "print('Train Score: %.2f RMSE' % (trainScore))\n",
    "\n",
    "testScore = math.sqrt(mean_squared_error(testY[0], testPredict[:,0]))\n",
    "print('Test Score: %.2f RMSE' % (testScore))"
   ]
  },
  {
   "cell_type": "code",
   "execution_count": null,
   "metadata": {},
   "outputs": [],
   "source": [
    "# shift train predictions for plotting\n",
    "#we must shift the predictions so that they align on the x-axis with the original dataset. \n",
    "trainPredictPlot = np.empty_like(dataset)\n",
    "trainPredictPlot[:, :] = np.nan\n",
    "trainPredictPlot[seq_size:len(trainPredict)+seq_size, :] = trainPredict"
   ]
  },
  {
   "cell_type": "code",
   "execution_count": null,
   "metadata": {},
   "outputs": [],
   "source": [
    "# shift test predictions for plotting\n",
    "testPredictPlot = np.empty_like(dataset)\n",
    "testPredictPlot[:, :] = np.nan\n",
    "testPredictPlot[len(trainPredict)+(seq_size*2)+1:len(dataset)-1, :] = testPredict"
   ]
  },
  {
   "cell_type": "code",
   "execution_count": null,
   "metadata": {},
   "outputs": [],
   "source": [
    "# plot baseline and predictions\n",
    "#plt.plot(scaler.inverse_transform(dataset))\n",
    "plt.plot(trainPredictPlot)\n",
    "plt.plot(testPredictPlot)\n",
    "plt.show()"
   ]
  },
  {
   "cell_type": "code",
   "execution_count": null,
   "metadata": {},
   "outputs": [],
   "source": []
  },
  {
   "cell_type": "code",
   "execution_count": null,
   "metadata": {},
   "outputs": [],
   "source": []
  },
  {
   "cell_type": "code",
   "execution_count": null,
   "metadata": {},
   "outputs": [],
   "source": []
  },
  {
   "cell_type": "code",
   "execution_count": null,
   "metadata": {},
   "outputs": [],
   "source": []
  },
  {
   "cell_type": "code",
   "execution_count": null,
   "metadata": {},
   "outputs": [],
   "source": []
  }
 ],
 "metadata": {
  "kernelspec": {
   "display_name": "test_",
   "language": "python",
   "name": "python3"
  },
  "language_info": {
   "codemirror_mode": {
    "name": "ipython",
    "version": 3
   },
   "file_extension": ".py",
   "mimetype": "text/x-python",
   "name": "python",
   "nbconvert_exporter": "python",
   "pygments_lexer": "ipython3",
   "version": "3.10.5"
  }
 },
 "nbformat": 4,
 "nbformat_minor": 2
}
