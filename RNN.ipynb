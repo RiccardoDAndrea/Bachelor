{
 "cells": [
  {
   "cell_type": "code",
   "execution_count": null,
   "metadata": {},
   "outputs": [],
   "source": []
  },
  {
   "cell_type": "markdown",
   "metadata": {},
   "source": [
    "https://github.com/bnsreenu/python_for_microscopists/blob/master/166a-Intro_to_time_series_Forecasting_using_LSTM.py"
   ]
  },
  {
   "cell_type": "code",
   "execution_count": 1,
   "metadata": {},
   "outputs": [],
   "source": [
    "import numpy as np\n",
    "import matplotlib.pyplot as plt\n",
    "import math\n",
    "import pandas as pd\n",
    "from keras.models import Sequential\n",
    "from keras.layers import Dense\n",
    "from keras.layers import LSTM, Flatten, GlobalAveragePooling1D, SimpleRNN, TimeDistributed\n",
    "from sklearn.preprocessing import MinMaxScaler\n",
    "from sklearn.metrics import mean_squared_error"
   ]
  },
  {
   "cell_type": "code",
   "execution_count": 2,
   "metadata": {},
   "outputs": [
    {
     "name": "stdout",
     "output_type": "stream",
     "text": [
      "TensorFlow version: 2.13.0\n",
      "Keras version: 2.13.1\n"
     ]
    }
   ],
   "source": [
    "import tensorflow as tf\n",
    "import keras as keras\n",
    "print(\"TensorFlow version:\", tf.__version__)\n",
    "print(\"Keras version:\", keras.__version__)"
   ]
  },
  {
   "cell_type": "code",
   "execution_count": 3,
   "metadata": {},
   "outputs": [
    {
     "data": {
      "text/plain": [
       "(9213, 1)"
      ]
     },
     "execution_count": 3,
     "metadata": {},
     "output_type": "execute_result"
    }
   ],
   "source": [
    "dataframe = pd.read_csv(\"data/raw/DAX_Data.csv\", usecols=[1])\n",
    "dataframe = dataframe.dropna()\n",
    "#plt.plot(dataframe)\n",
    "dataframe.shape"
   ]
  },
  {
   "cell_type": "code",
   "execution_count": 4,
   "metadata": {},
   "outputs": [
    {
     "data": {
      "text/plain": [
       "(9213, 1)"
      ]
     },
     "execution_count": 4,
     "metadata": {},
     "output_type": "execute_result"
    }
   ],
   "source": [
    "#Convert pandas dataframe to numpy array\n",
    "dataset = dataframe.values\n",
    "dataset = dataset.astype('float32')\n",
    "dataset.shape\n",
    "# Datentypen ändern von int64 zu float32\n",
    "# sobald die values sind die bereits float 64 "
   ]
  },
  {
   "cell_type": "code",
   "execution_count": 5,
   "metadata": {},
   "outputs": [
    {
     "name": "stdout",
     "output_type": "stream",
     "text": [
      "(9213, 1)\n"
     ]
    },
    {
     "data": {
      "text/plain": [
       "array([[ 1005.19],\n",
       "       [  956.49],\n",
       "       [  996.1 ],\n",
       "       ...,\n",
       "       [18406.06],\n",
       "       [18576.58],\n",
       "       [18649.08]], dtype=float32)"
      ]
     },
     "execution_count": 5,
     "metadata": {},
     "output_type": "execute_result"
    }
   ],
   "source": [
    "print(dataset.shape)\n",
    "dataset"
   ]
  },
  {
   "cell_type": "code",
   "execution_count": 6,
   "metadata": {},
   "outputs": [
    {
     "data": {
      "text/plain": [
       "(9213, 1)"
      ]
     },
     "execution_count": 6,
     "metadata": {},
     "output_type": "execute_result"
    }
   ],
   "source": [
    "# LSTM uses sigmoid and tanh that are sensitive to magnitude so values need to be normalized\n",
    "# normalize the dataset\n",
    "scaler = MinMaxScaler(feature_range=(0, 1)) #Also try QuantileTransformer\n",
    "dataset = scaler.fit_transform(dataset)\n",
    "dataset.shape\n",
    "\n",
    "# Daten umarrangerien damit sie eine Saklierung haben von 0 bis 1. Wobei 1 = max und 0 = min\n",
    "#scaler.fit = transformiert erst die daten die zeile davor"
   ]
  },
  {
   "cell_type": "code",
   "execution_count": 7,
   "metadata": {},
   "outputs": [],
   "source": [
    "train_size = int(len(dataset) * 0.66)\n",
    "test_size = len(dataset) - train_size\n",
    "train, test = dataset[0:train_size,:], dataset[train_size:len(dataset),:]\n",
    "\n",
    "\n",
    "# daten aufteilen in train und test\n",
    "# validation data kommt er später"
   ]
  },
  {
   "cell_type": "code",
   "execution_count": 8,
   "metadata": {},
   "outputs": [],
   "source": [
    "def to_sequences(dataset, seq_size=1):\n",
    "    x = []\n",
    "    y = []\n",
    "\n",
    "    for i in range(len(dataset)-seq_size-1):\n",
    "        #print(i)\n",
    "        window = dataset[i:(i+seq_size), 0]\n",
    "        x.append(window)\n",
    "        y.append(dataset[i+seq_size, 0])\n",
    "        \n",
    "    return np.array(x),np.array(y)\n",
    "\n",
    "\n",
    "# Dieser Prozess hilft dem RNN-Modell, zeitliche Abhängigkeiten \n",
    "# und Muster im Datensatz zu lernen, indem es auf frühere Werte in \n",
    "# den Sequenzen zurückgreift, um zukünftige Werte vorherzusagen."
   ]
  },
  {
   "cell_type": "code",
   "execution_count": 9,
   "metadata": {},
   "outputs": [
    {
     "name": "stdout",
     "output_type": "stream",
     "text": [
      "Shape of training set: (6074, 5)\n",
      "Shape of test set: (3127, 5)\n"
     ]
    }
   ],
   "source": [
    "seq_size = 5  # Number of time steps to look back \n",
    "#Larger sequences (look further back) may improve forecasting.\n",
    "\n",
    "trainX, trainY = to_sequences(train, seq_size)\n",
    "testX, testY = to_sequences(test, seq_size)\n",
    "\n",
    "\n",
    "\n",
    "print(\"Shape of training set: {}\".format(trainX.shape))\n",
    "print(\"Shape of test set: {}\".format(testX.shape))"
   ]
  },
  {
   "cell_type": "code",
   "execution_count": 10,
   "metadata": {},
   "outputs": [],
   "source": [
    "# Reshape input to be [samples, time steps, features]\n",
    "trainX = np.reshape(trainX, (trainX.shape[0], 1, trainX.shape[1]))\n",
    "testX = np.reshape(testX, (testX.shape[0], 1, testX.shape[1]))"
   ]
  },
  {
   "cell_type": "code",
   "execution_count": 11,
   "metadata": {},
   "outputs": [
    {
     "name": "stdout",
     "output_type": "stream",
     "text": [
      "Model: \"sequential\"\n",
      "_________________________________________________________________\n",
      " Layer (type)                Output Shape              Param #   \n",
      "=================================================================\n",
      " dense (Dense)               (None, None, 128)         768       \n",
      "                                                                 \n",
      " lstm (LSTM)                 (None, None, 64)          49408     \n",
      "                                                                 \n",
      " lstm_1 (LSTM)               (None, None, 64)          33024     \n",
      "                                                                 \n",
      " time_distributed (TimeDist  (None, None, 1)           65        \n",
      " ributed)                                                        \n",
      "                                                                 \n",
      "=================================================================\n",
      "Total params: 83265 (325.25 KB)\n",
      "Trainable params: 83265 (325.25 KB)\n",
      "Non-trainable params: 0 (0.00 Byte)\n",
      "_________________________________________________________________\n"
     ]
    }
   ],
   "source": [
    "model = Sequential()\n",
    "model.add(Dense(128, input_shape=(None, seq_size)))  # Dense Layer\n",
    "model.add(LSTM(64, return_sequences=True))          # Erste LSTM-Schicht\n",
    "model.add(LSTM(64, return_sequences=True))          # Zweite LSTM-Schicht\n",
    "model.add(TimeDistributed(Dense(1)))                # TimeDistributed Layer\n",
    "model.compile(loss='mean_squared_error', optimizer='adam')\n",
    "model.summary()"
   ]
  },
  {
   "cell_type": "code",
   "execution_count": 13,
   "metadata": {},
   "outputs": [
    {
     "name": "stdout",
     "output_type": "stream",
     "text": [
      "Epoch 1/40\n",
      "190/190 - 0s - loss: 0.0129 - val_loss: 0.2080 - 386ms/epoch - 2ms/step\n",
      "Epoch 2/40\n",
      "190/190 - 0s - loss: 0.0129 - val_loss: 0.1928 - 311ms/epoch - 2ms/step\n",
      "Epoch 3/40\n",
      "190/190 - 0s - loss: 0.0129 - val_loss: 0.2051 - 298ms/epoch - 2ms/step\n",
      "Epoch 4/40\n",
      "190/190 - 0s - loss: 0.0129 - val_loss: 0.2150 - 298ms/epoch - 2ms/step\n",
      "Epoch 5/40\n",
      "190/190 - 0s - loss: 0.0129 - val_loss: 0.2277 - 299ms/epoch - 2ms/step\n",
      "Epoch 6/40\n",
      "190/190 - 0s - loss: 0.0129 - val_loss: 0.1972 - 334ms/epoch - 2ms/step\n",
      "Epoch 7/40\n",
      "190/190 - 0s - loss: 0.0129 - val_loss: 0.2014 - 369ms/epoch - 2ms/step\n",
      "Epoch 8/40\n",
      "190/190 - 0s - loss: 0.0128 - val_loss: 0.2131 - 361ms/epoch - 2ms/step\n",
      "Epoch 9/40\n",
      "190/190 - 0s - loss: 0.0129 - val_loss: 0.2030 - 316ms/epoch - 2ms/step\n",
      "Epoch 10/40\n",
      "190/190 - 0s - loss: 0.0129 - val_loss: 0.2033 - 314ms/epoch - 2ms/step\n",
      "Epoch 11/40\n",
      "190/190 - 0s - loss: 0.0129 - val_loss: 0.2116 - 325ms/epoch - 2ms/step\n",
      "Epoch 12/40\n",
      "190/190 - 0s - loss: 0.0129 - val_loss: 0.2095 - 330ms/epoch - 2ms/step\n",
      "Epoch 13/40\n",
      "190/190 - 0s - loss: 0.0128 - val_loss: 0.2090 - 302ms/epoch - 2ms/step\n",
      "Epoch 14/40\n",
      "190/190 - 0s - loss: 0.0129 - val_loss: 0.2046 - 309ms/epoch - 2ms/step\n",
      "Epoch 15/40\n",
      "190/190 - 0s - loss: 0.0129 - val_loss: 0.2155 - 312ms/epoch - 2ms/step\n",
      "Epoch 16/40\n",
      "190/190 - 0s - loss: 0.0129 - val_loss: 0.2102 - 308ms/epoch - 2ms/step\n",
      "Epoch 17/40\n",
      "190/190 - 0s - loss: 0.0129 - val_loss: 0.2124 - 302ms/epoch - 2ms/step\n",
      "Epoch 18/40\n",
      "190/190 - 0s - loss: 0.0129 - val_loss: 0.2143 - 302ms/epoch - 2ms/step\n",
      "Epoch 19/40\n",
      "190/190 - 0s - loss: 0.0129 - val_loss: 0.2097 - 350ms/epoch - 2ms/step\n",
      "Epoch 20/40\n",
      "190/190 - 0s - loss: 0.0129 - val_loss: 0.2058 - 318ms/epoch - 2ms/step\n",
      "Epoch 21/40\n",
      "190/190 - 0s - loss: 0.0129 - val_loss: 0.2051 - 384ms/epoch - 2ms/step\n",
      "Epoch 22/40\n",
      "190/190 - 0s - loss: 0.0129 - val_loss: 0.2171 - 299ms/epoch - 2ms/step\n",
      "Epoch 23/40\n",
      "190/190 - 0s - loss: 0.0129 - val_loss: 0.2055 - 299ms/epoch - 2ms/step\n",
      "Epoch 24/40\n",
      "190/190 - 0s - loss: 0.0129 - val_loss: 0.2097 - 303ms/epoch - 2ms/step\n",
      "Epoch 25/40\n",
      "190/190 - 0s - loss: 0.0129 - val_loss: 0.2086 - 382ms/epoch - 2ms/step\n",
      "Epoch 26/40\n",
      "190/190 - 0s - loss: 0.0129 - val_loss: 0.2023 - 342ms/epoch - 2ms/step\n",
      "Epoch 27/40\n",
      "190/190 - 0s - loss: 0.0129 - val_loss: 0.2075 - 362ms/epoch - 2ms/step\n",
      "Epoch 28/40\n",
      "190/190 - 0s - loss: 0.0128 - val_loss: 0.2032 - 327ms/epoch - 2ms/step\n",
      "Epoch 29/40\n",
      "190/190 - 0s - loss: 0.0128 - val_loss: 0.2095 - 401ms/epoch - 2ms/step\n",
      "Epoch 30/40\n",
      "190/190 - 0s - loss: 0.0129 - val_loss: 0.2219 - 331ms/epoch - 2ms/step\n",
      "Epoch 31/40\n",
      "190/190 - 0s - loss: 0.0129 - val_loss: 0.2155 - 329ms/epoch - 2ms/step\n",
      "Epoch 32/40\n",
      "190/190 - 0s - loss: 0.0129 - val_loss: 0.2072 - 322ms/epoch - 2ms/step\n",
      "Epoch 33/40\n",
      "190/190 - 0s - loss: 0.0129 - val_loss: 0.2059 - 361ms/epoch - 2ms/step\n",
      "Epoch 34/40\n",
      "190/190 - 0s - loss: 0.0129 - val_loss: 0.2149 - 343ms/epoch - 2ms/step\n",
      "Epoch 35/40\n",
      "190/190 - 0s - loss: 0.0129 - val_loss: 0.2134 - 304ms/epoch - 2ms/step\n",
      "Epoch 36/40\n",
      "190/190 - 0s - loss: 0.0129 - val_loss: 0.2082 - 293ms/epoch - 2ms/step\n",
      "Epoch 37/40\n",
      "190/190 - 0s - loss: 0.0129 - val_loss: 0.1990 - 431ms/epoch - 2ms/step\n",
      "Epoch 38/40\n",
      "190/190 - 0s - loss: 0.0129 - val_loss: 0.2078 - 324ms/epoch - 2ms/step\n",
      "Epoch 39/40\n",
      "190/190 - 0s - loss: 0.0129 - val_loss: 0.2137 - 332ms/epoch - 2ms/step\n",
      "Epoch 40/40\n",
      "190/190 - 0s - loss: 0.0129 - val_loss: 0.2098 - 320ms/epoch - 2ms/step\n"
     ]
    },
    {
     "data": {
      "text/plain": [
       "<keras.src.callbacks.History at 0x2989dab00>"
      ]
     },
     "execution_count": 13,
     "metadata": {},
     "output_type": "execute_result"
    }
   ],
   "source": [
    "model.fit(trainX, trainY, validation_data=(testX, testY), verbose=2, epochs=40)"
   ]
  },
  {
   "cell_type": "code",
   "execution_count": 14,
   "metadata": {},
   "outputs": [
    {
     "name": "stdout",
     "output_type": "stream",
     "text": [
      "(6074, 1, 5) (6074,) (3127, 1, 5) (3127,)\n"
     ]
    }
   ],
   "source": [
    "print(trainX.shape, trainY.shape, testX.shape, testY.shape)"
   ]
  },
  {
   "cell_type": "code",
   "execution_count": null,
   "metadata": {},
   "outputs": [],
   "source": [
    "trainPredict = model.predict(trainX)\n",
    "testPredict = model.predict(testX)\n",
    "trainPredict.shape, testPredict.shape"
   ]
  },
  {
   "cell_type": "code",
   "execution_count": null,
   "metadata": {},
   "outputs": [],
   "source": [
    "trainX.shape, trainY.shape, testX.shape, testY.shape\n"
   ]
  },
  {
   "cell_type": "code",
   "execution_count": null,
   "metadata": {},
   "outputs": [],
   "source": [
    "trainPredict = scaler.inverse_transform(trainPredict)\n",
    "trainY = scaler.inverse_transform([trainY])\n",
    "testPredict = scaler.inverse_transform(testPredict)\n",
    "testY = scaler.inverse_transform([testY])"
   ]
  },
  {
   "cell_type": "code",
   "execution_count": null,
   "metadata": {},
   "outputs": [],
   "source": [
    "print(trainPredict.shape, trainY.shape)\n",
    "testPredict.shape, testY.shape"
   ]
  },
  {
   "cell_type": "code",
   "execution_count": null,
   "metadata": {},
   "outputs": [],
   "source": [
    "trainPredict[:,0].shape, trainPredict.shape\n"
   ]
  },
  {
   "cell_type": "code",
   "execution_count": null,
   "metadata": {},
   "outputs": [],
   "source": [
    "# calculate root mean squared error\n",
    "trainScore = math.sqrt(mean_squared_error(trainY[0], trainPredict[:,0]))\n",
    "print('Train Score: %.2f RMSE' % (trainScore))\n",
    "\n",
    "testScore = math.sqrt(mean_squared_error(testY[0], testPredict[:,0]))\n",
    "print('Test Score: %.2f RMSE' % (testScore))"
   ]
  },
  {
   "cell_type": "code",
   "execution_count": null,
   "metadata": {},
   "outputs": [],
   "source": [
    "# shift train predictions for plotting\n",
    "#we must shift the predictions so that they align on the x-axis with the original dataset. \n",
    "trainPredictPlot = np.empty_like(dataset)\n",
    "trainPredictPlot[:, :] = np.nan\n",
    "trainPredictPlot[seq_size:len(trainPredict)+seq_size, :] = trainPredict"
   ]
  },
  {
   "cell_type": "code",
   "execution_count": null,
   "metadata": {},
   "outputs": [],
   "source": [
    "# shift test predictions for plotting\n",
    "testPredictPlot = np.empty_like(dataset)\n",
    "testPredictPlot[:, :] = np.nan\n",
    "testPredictPlot[len(trainPredict)+(seq_size*2)+1:len(dataset)-1, :] = testPredict"
   ]
  },
  {
   "cell_type": "code",
   "execution_count": null,
   "metadata": {},
   "outputs": [],
   "source": [
    "# plot baseline and predictions\n",
    "#plt.plot(scaler.inverse_transform(dataset))\n",
    "plt.plot(trainPredictPlot)\n",
    "plt.plot(testPredictPlot)\n",
    "plt.show()"
   ]
  },
  {
   "cell_type": "code",
   "execution_count": null,
   "metadata": {},
   "outputs": [],
   "source": []
  },
  {
   "cell_type": "code",
   "execution_count": null,
   "metadata": {},
   "outputs": [],
   "source": []
  },
  {
   "cell_type": "code",
   "execution_count": null,
   "metadata": {},
   "outputs": [],
   "source": []
  },
  {
   "cell_type": "code",
   "execution_count": null,
   "metadata": {},
   "outputs": [],
   "source": []
  },
  {
   "cell_type": "code",
   "execution_count": null,
   "metadata": {},
   "outputs": [],
   "source": []
  }
 ],
 "metadata": {
  "kernelspec": {
   "display_name": "test_",
   "language": "python",
   "name": "python3"
  },
  "language_info": {
   "codemirror_mode": {
    "name": "ipython",
    "version": 3
   },
   "file_extension": ".py",
   "mimetype": "text/x-python",
   "name": "python",
   "nbconvert_exporter": "python",
   "pygments_lexer": "ipython3",
   "version": "3.10.5"
  }
 },
 "nbformat": 4,
 "nbformat_minor": 2
}
