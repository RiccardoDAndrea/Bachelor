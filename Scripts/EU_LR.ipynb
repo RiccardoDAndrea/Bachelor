{
 "cells": [
  {
   "cell_type": "markdown",
   "metadata": {},
   "source": [
    "# Lineare Regression für das Wirtschaftpoltische Seminar \n",
    "\n",
    "\n",
    "- Ziel ein Lineare Regression  erstellen vom Europäische Euro Raum"
   ]
  },
  {
   "cell_type": "markdown",
   "metadata": {},
   "source": [
    "## Daten für die Hausarbeit\n",
    "- Euro Raum\n",
    "\n",
    "Regression Model OLS\n",
    "Model:\n",
    "\n",
    "    - BIP = Oil_price + (m1,m2,m3) + CPI + evtl Arbeitslosigkeit"
   ]
  },
  {
   "cell_type": "code",
   "execution_count": 2,
   "metadata": {},
   "outputs": [],
   "source": [
    "import pandas as pd\n",
    "import datetime as dt\n",
    "import seaborn as sns\n",
    "import requests\n",
    "import json\n",
    "import statsmodels.api as sm\n",
    "import numpy as np"
   ]
  },
  {
   "cell_type": "markdown",
   "metadata": {},
   "source": [
    "### BIP der Euro Raum erhalten von der Offizielen Seite \n",
    "- https://data.ecb.europa.eu/data/datasets/MNA/MNA.A.N.I9.W2.S1.S1.B.B1GQ._Z._Z._Z.PE_R_POP.V._Z "
   ]
  },
  {
   "cell_type": "code",
   "execution_count": 5,
   "metadata": {},
   "outputs": [
    {
     "data": {
      "text/html": [
       "<div>\n",
       "<style scoped>\n",
       "    .dataframe tbody tr th:only-of-type {\n",
       "        vertical-align: middle;\n",
       "    }\n",
       "\n",
       "    .dataframe tbody tr th {\n",
       "        vertical-align: top;\n",
       "    }\n",
       "\n",
       "    .dataframe thead th {\n",
       "        text-align: right;\n",
       "    }\n",
       "</style>\n",
       "<table border=\"1\" class=\"dataframe\">\n",
       "  <thead>\n",
       "    <tr style=\"text-align: right;\">\n",
       "      <th></th>\n",
       "      <th>Date</th>\n",
       "      <th>BIP</th>\n",
       "      <th>M1</th>\n",
       "      <th>M2</th>\n",
       "      <th>M3</th>\n",
       "      <th>CPI</th>\n",
       "      <th>Unemployment_Rate</th>\n",
       "      <th>Oil_Price</th>\n",
       "    </tr>\n",
       "  </thead>\n",
       "  <tbody>\n",
       "    <tr>\n",
       "      <th>0</th>\n",
       "      <td>1995</td>\n",
       "      <td>17927.30</td>\n",
       "      <td>15583338</td>\n",
       "      <td>38672574</td>\n",
       "      <td>45154926</td>\n",
       "      <td>30.632925</td>\n",
       "      <td>127.8</td>\n",
       "      <td>206.384976</td>\n",
       "    </tr>\n",
       "    <tr>\n",
       "      <th>1</th>\n",
       "      <td>1996</td>\n",
       "      <td>18652.69</td>\n",
       "      <td>16610770</td>\n",
       "      <td>40712371</td>\n",
       "      <td>47550294</td>\n",
       "      <td>28.160923</td>\n",
       "      <td>129.5</td>\n",
       "      <td>249.702360</td>\n",
       "    </tr>\n",
       "    <tr>\n",
       "      <th>2</th>\n",
       "      <td>1997</td>\n",
       "      <td>19069.85</td>\n",
       "      <td>18055274</td>\n",
       "      <td>42509756</td>\n",
       "      <td>49518397</td>\n",
       "      <td>20.464823</td>\n",
       "      <td>129.0</td>\n",
       "      <td>231.723884</td>\n",
       "    </tr>\n",
       "    <tr>\n",
       "      <th>3</th>\n",
       "      <td>1998</td>\n",
       "      <td>19814.33</td>\n",
       "      <td>19770648</td>\n",
       "      <td>44785894</td>\n",
       "      <td>52075662</td>\n",
       "      <td>14.694074</td>\n",
       "      <td>125.3</td>\n",
       "      <td>157.514630</td>\n",
       "    </tr>\n",
       "    <tr>\n",
       "      <th>4</th>\n",
       "      <td>1999</td>\n",
       "      <td>20671.06</td>\n",
       "      <td>22304359</td>\n",
       "      <td>47952809</td>\n",
       "      <td>54531037</td>\n",
       "      <td>14.068043</td>\n",
       "      <td>117.5</td>\n",
       "      <td>217.298631</td>\n",
       "    </tr>\n",
       "  </tbody>\n",
       "</table>\n",
       "</div>"
      ],
      "text/plain": [
       "   Date       BIP        M1        M2        M3        CPI  Unemployment_Rate  \\\n",
       "0  1995  17927.30  15583338  38672574  45154926  30.632925              127.8   \n",
       "1  1996  18652.69  16610770  40712371  47550294  28.160923              129.5   \n",
       "2  1997  19069.85  18055274  42509756  49518397  20.464823              129.0   \n",
       "3  1998  19814.33  19770648  44785894  52075662  14.694074              125.3   \n",
       "4  1999  20671.06  22304359  47952809  54531037  14.068043              117.5   \n",
       "\n",
       "    Oil_Price  \n",
       "0  206.384976  \n",
       "1  249.702360  \n",
       "2  231.723884  \n",
       "3  157.514630  \n",
       "4  217.298631  "
      ]
     },
     "execution_count": 5,
     "metadata": {},
     "output_type": "execute_result"
    }
   ],
   "source": [
    "BIPEUArea = pd.read_csv('/Users/riccardo/Desktop/Repositorys_Github/Training/Scripts/models/Linear Regression/Data_EU/ECB Data Merged Euro_Area.csv')\n",
    "BIPEUArea.head()"
   ]
  },
  {
   "cell_type": "code",
   "execution_count": 6,
   "metadata": {},
   "outputs": [
    {
     "ename": "KeyError",
     "evalue": "\"['DATE'] not found in axis\"",
     "output_type": "error",
     "traceback": [
      "\u001b[0;31m---------------------------------------------------------------------------\u001b[0m",
      "\u001b[0;31mKeyError\u001b[0m                                  Traceback (most recent call last)",
      "Cell \u001b[0;32mIn[6], line 1\u001b[0m\n\u001b[0;32m----> 1\u001b[0m BIPEUArea \u001b[38;5;241m=\u001b[39m \u001b[43mBIPEUArea\u001b[49m\u001b[38;5;241;43m.\u001b[39;49m\u001b[43mdrop\u001b[49m\u001b[43m(\u001b[49m\u001b[43mcolumns\u001b[49m\u001b[38;5;241;43m=\u001b[39;49m\u001b[43m[\u001b[49m\u001b[38;5;124;43m'\u001b[39;49m\u001b[38;5;124;43mDATE\u001b[39;49m\u001b[38;5;124;43m'\u001b[39;49m\u001b[43m]\u001b[49m\u001b[43m)\u001b[49m\n\u001b[1;32m      2\u001b[0m BIPEUArea \u001b[38;5;241m=\u001b[39m BIPEUArea\u001b[38;5;241m.\u001b[39mrename(columns\u001b[38;5;241m=\u001b[39m{\u001b[38;5;124m'\u001b[39m\u001b[38;5;124mTIME PERIOD\u001b[39m\u001b[38;5;124m'\u001b[39m: \u001b[38;5;124m'\u001b[39m\u001b[38;5;124mDate\u001b[39m\u001b[38;5;124m'\u001b[39m, \u001b[38;5;124m'\u001b[39m\u001b[38;5;124mGross domestic product at market prices (MNA.A.N.I9.W2.S1.S1.B.B1GQ._Z._Z._Z.PE_R_POP.V._Z)\u001b[39m\u001b[38;5;124m'\u001b[39m: \u001b[38;5;124m'\u001b[39m\u001b[38;5;124mBIP\u001b[39m\u001b[38;5;124m'\u001b[39m})\n",
      "File \u001b[0;32m~/anaconda3/envs/model/lib/python3.9/site-packages/pandas/core/frame.py:5344\u001b[0m, in \u001b[0;36mDataFrame.drop\u001b[0;34m(self, labels, axis, index, columns, level, inplace, errors)\u001b[0m\n\u001b[1;32m   5196\u001b[0m \u001b[38;5;28;01mdef\u001b[39;00m \u001b[38;5;21mdrop\u001b[39m(\n\u001b[1;32m   5197\u001b[0m     \u001b[38;5;28mself\u001b[39m,\n\u001b[1;32m   5198\u001b[0m     labels: IndexLabel \u001b[38;5;241m|\u001b[39m \u001b[38;5;28;01mNone\u001b[39;00m \u001b[38;5;241m=\u001b[39m \u001b[38;5;28;01mNone\u001b[39;00m,\n\u001b[0;32m   (...)\u001b[0m\n\u001b[1;32m   5205\u001b[0m     errors: IgnoreRaise \u001b[38;5;241m=\u001b[39m \u001b[38;5;124m\"\u001b[39m\u001b[38;5;124mraise\u001b[39m\u001b[38;5;124m\"\u001b[39m,\n\u001b[1;32m   5206\u001b[0m ) \u001b[38;5;241m-\u001b[39m\u001b[38;5;241m>\u001b[39m DataFrame \u001b[38;5;241m|\u001b[39m \u001b[38;5;28;01mNone\u001b[39;00m:\n\u001b[1;32m   5207\u001b[0m \u001b[38;5;250m    \u001b[39m\u001b[38;5;124;03m\"\"\"\u001b[39;00m\n\u001b[1;32m   5208\u001b[0m \u001b[38;5;124;03m    Drop specified labels from rows or columns.\u001b[39;00m\n\u001b[1;32m   5209\u001b[0m \n\u001b[0;32m   (...)\u001b[0m\n\u001b[1;32m   5342\u001b[0m \u001b[38;5;124;03m            weight  1.0     0.8\u001b[39;00m\n\u001b[1;32m   5343\u001b[0m \u001b[38;5;124;03m    \"\"\"\u001b[39;00m\n\u001b[0;32m-> 5344\u001b[0m     \u001b[38;5;28;01mreturn\u001b[39;00m \u001b[38;5;28;43msuper\u001b[39;49m\u001b[43m(\u001b[49m\u001b[43m)\u001b[49m\u001b[38;5;241;43m.\u001b[39;49m\u001b[43mdrop\u001b[49m\u001b[43m(\u001b[49m\n\u001b[1;32m   5345\u001b[0m \u001b[43m        \u001b[49m\u001b[43mlabels\u001b[49m\u001b[38;5;241;43m=\u001b[39;49m\u001b[43mlabels\u001b[49m\u001b[43m,\u001b[49m\n\u001b[1;32m   5346\u001b[0m \u001b[43m        \u001b[49m\u001b[43maxis\u001b[49m\u001b[38;5;241;43m=\u001b[39;49m\u001b[43maxis\u001b[49m\u001b[43m,\u001b[49m\n\u001b[1;32m   5347\u001b[0m \u001b[43m        \u001b[49m\u001b[43mindex\u001b[49m\u001b[38;5;241;43m=\u001b[39;49m\u001b[43mindex\u001b[49m\u001b[43m,\u001b[49m\n\u001b[1;32m   5348\u001b[0m \u001b[43m        \u001b[49m\u001b[43mcolumns\u001b[49m\u001b[38;5;241;43m=\u001b[39;49m\u001b[43mcolumns\u001b[49m\u001b[43m,\u001b[49m\n\u001b[1;32m   5349\u001b[0m \u001b[43m        \u001b[49m\u001b[43mlevel\u001b[49m\u001b[38;5;241;43m=\u001b[39;49m\u001b[43mlevel\u001b[49m\u001b[43m,\u001b[49m\n\u001b[1;32m   5350\u001b[0m \u001b[43m        \u001b[49m\u001b[43minplace\u001b[49m\u001b[38;5;241;43m=\u001b[39;49m\u001b[43minplace\u001b[49m\u001b[43m,\u001b[49m\n\u001b[1;32m   5351\u001b[0m \u001b[43m        \u001b[49m\u001b[43merrors\u001b[49m\u001b[38;5;241;43m=\u001b[39;49m\u001b[43merrors\u001b[49m\u001b[43m,\u001b[49m\n\u001b[1;32m   5352\u001b[0m \u001b[43m    \u001b[49m\u001b[43m)\u001b[49m\n",
      "File \u001b[0;32m~/anaconda3/envs/model/lib/python3.9/site-packages/pandas/core/generic.py:4711\u001b[0m, in \u001b[0;36mNDFrame.drop\u001b[0;34m(self, labels, axis, index, columns, level, inplace, errors)\u001b[0m\n\u001b[1;32m   4709\u001b[0m \u001b[38;5;28;01mfor\u001b[39;00m axis, labels \u001b[38;5;129;01min\u001b[39;00m axes\u001b[38;5;241m.\u001b[39mitems():\n\u001b[1;32m   4710\u001b[0m     \u001b[38;5;28;01mif\u001b[39;00m labels \u001b[38;5;129;01mis\u001b[39;00m \u001b[38;5;129;01mnot\u001b[39;00m \u001b[38;5;28;01mNone\u001b[39;00m:\n\u001b[0;32m-> 4711\u001b[0m         obj \u001b[38;5;241m=\u001b[39m \u001b[43mobj\u001b[49m\u001b[38;5;241;43m.\u001b[39;49m\u001b[43m_drop_axis\u001b[49m\u001b[43m(\u001b[49m\u001b[43mlabels\u001b[49m\u001b[43m,\u001b[49m\u001b[43m \u001b[49m\u001b[43maxis\u001b[49m\u001b[43m,\u001b[49m\u001b[43m \u001b[49m\u001b[43mlevel\u001b[49m\u001b[38;5;241;43m=\u001b[39;49m\u001b[43mlevel\u001b[49m\u001b[43m,\u001b[49m\u001b[43m \u001b[49m\u001b[43merrors\u001b[49m\u001b[38;5;241;43m=\u001b[39;49m\u001b[43merrors\u001b[49m\u001b[43m)\u001b[49m\n\u001b[1;32m   4713\u001b[0m \u001b[38;5;28;01mif\u001b[39;00m inplace:\n\u001b[1;32m   4714\u001b[0m     \u001b[38;5;28mself\u001b[39m\u001b[38;5;241m.\u001b[39m_update_inplace(obj)\n",
      "File \u001b[0;32m~/anaconda3/envs/model/lib/python3.9/site-packages/pandas/core/generic.py:4753\u001b[0m, in \u001b[0;36mNDFrame._drop_axis\u001b[0;34m(self, labels, axis, level, errors, only_slice)\u001b[0m\n\u001b[1;32m   4751\u001b[0m         new_axis \u001b[38;5;241m=\u001b[39m axis\u001b[38;5;241m.\u001b[39mdrop(labels, level\u001b[38;5;241m=\u001b[39mlevel, errors\u001b[38;5;241m=\u001b[39merrors)\n\u001b[1;32m   4752\u001b[0m     \u001b[38;5;28;01melse\u001b[39;00m:\n\u001b[0;32m-> 4753\u001b[0m         new_axis \u001b[38;5;241m=\u001b[39m \u001b[43maxis\u001b[49m\u001b[38;5;241;43m.\u001b[39;49m\u001b[43mdrop\u001b[49m\u001b[43m(\u001b[49m\u001b[43mlabels\u001b[49m\u001b[43m,\u001b[49m\u001b[43m \u001b[49m\u001b[43merrors\u001b[49m\u001b[38;5;241;43m=\u001b[39;49m\u001b[43merrors\u001b[49m\u001b[43m)\u001b[49m\n\u001b[1;32m   4754\u001b[0m     indexer \u001b[38;5;241m=\u001b[39m axis\u001b[38;5;241m.\u001b[39mget_indexer(new_axis)\n\u001b[1;32m   4756\u001b[0m \u001b[38;5;66;03m# Case for non-unique axis\u001b[39;00m\n\u001b[1;32m   4757\u001b[0m \u001b[38;5;28;01melse\u001b[39;00m:\n",
      "File \u001b[0;32m~/anaconda3/envs/model/lib/python3.9/site-packages/pandas/core/indexes/base.py:7000\u001b[0m, in \u001b[0;36mIndex.drop\u001b[0;34m(self, labels, errors)\u001b[0m\n\u001b[1;32m   6998\u001b[0m \u001b[38;5;28;01mif\u001b[39;00m mask\u001b[38;5;241m.\u001b[39many():\n\u001b[1;32m   6999\u001b[0m     \u001b[38;5;28;01mif\u001b[39;00m errors \u001b[38;5;241m!=\u001b[39m \u001b[38;5;124m\"\u001b[39m\u001b[38;5;124mignore\u001b[39m\u001b[38;5;124m\"\u001b[39m:\n\u001b[0;32m-> 7000\u001b[0m         \u001b[38;5;28;01mraise\u001b[39;00m \u001b[38;5;167;01mKeyError\u001b[39;00m(\u001b[38;5;124mf\u001b[39m\u001b[38;5;124m\"\u001b[39m\u001b[38;5;132;01m{\u001b[39;00mlabels[mask]\u001b[38;5;241m.\u001b[39mtolist()\u001b[38;5;132;01m}\u001b[39;00m\u001b[38;5;124m not found in axis\u001b[39m\u001b[38;5;124m\"\u001b[39m)\n\u001b[1;32m   7001\u001b[0m     indexer \u001b[38;5;241m=\u001b[39m indexer[\u001b[38;5;241m~\u001b[39mmask]\n\u001b[1;32m   7002\u001b[0m \u001b[38;5;28;01mreturn\u001b[39;00m \u001b[38;5;28mself\u001b[39m\u001b[38;5;241m.\u001b[39mdelete(indexer)\n",
      "\u001b[0;31mKeyError\u001b[0m: \"['DATE'] not found in axis\""
     ]
    }
   ],
   "source": [
    "BIPEUArea = BIPEUArea.drop(columns=['DATE'])\n",
    "BIPEUArea = BIPEUArea.rename(columns={'TIME PERIOD': 'Date', 'Gross domestic product at market prices (MNA.A.N.I9.W2.S1.S1.B.B1GQ._Z._Z._Z.PE_R_POP.V._Z)': 'BIP'})"
   ]
  },
  {
   "cell_type": "code",
   "execution_count": 7,
   "metadata": {},
   "outputs": [
    {
     "data": {
      "text/html": [
       "<div>\n",
       "<style scoped>\n",
       "    .dataframe tbody tr th:only-of-type {\n",
       "        vertical-align: middle;\n",
       "    }\n",
       "\n",
       "    .dataframe tbody tr th {\n",
       "        vertical-align: top;\n",
       "    }\n",
       "\n",
       "    .dataframe thead th {\n",
       "        text-align: right;\n",
       "    }\n",
       "</style>\n",
       "<table border=\"1\" class=\"dataframe\">\n",
       "  <thead>\n",
       "    <tr style=\"text-align: right;\">\n",
       "      <th></th>\n",
       "      <th>Date</th>\n",
       "      <th>BIP</th>\n",
       "      <th>M1</th>\n",
       "      <th>M2</th>\n",
       "      <th>M3</th>\n",
       "      <th>CPI</th>\n",
       "      <th>Unemployment_Rate</th>\n",
       "      <th>Oil_Price</th>\n",
       "    </tr>\n",
       "  </thead>\n",
       "  <tbody>\n",
       "    <tr>\n",
       "      <th>0</th>\n",
       "      <td>1995</td>\n",
       "      <td>17927.30</td>\n",
       "      <td>15583338</td>\n",
       "      <td>38672574</td>\n",
       "      <td>45154926</td>\n",
       "      <td>30.632925</td>\n",
       "      <td>127.8</td>\n",
       "      <td>206.384976</td>\n",
       "    </tr>\n",
       "    <tr>\n",
       "      <th>1</th>\n",
       "      <td>1996</td>\n",
       "      <td>18652.69</td>\n",
       "      <td>16610770</td>\n",
       "      <td>40712371</td>\n",
       "      <td>47550294</td>\n",
       "      <td>28.160923</td>\n",
       "      <td>129.5</td>\n",
       "      <td>249.702360</td>\n",
       "    </tr>\n",
       "    <tr>\n",
       "      <th>2</th>\n",
       "      <td>1997</td>\n",
       "      <td>19069.85</td>\n",
       "      <td>18055274</td>\n",
       "      <td>42509756</td>\n",
       "      <td>49518397</td>\n",
       "      <td>20.464823</td>\n",
       "      <td>129.0</td>\n",
       "      <td>231.723884</td>\n",
       "    </tr>\n",
       "    <tr>\n",
       "      <th>3</th>\n",
       "      <td>1998</td>\n",
       "      <td>19814.33</td>\n",
       "      <td>19770648</td>\n",
       "      <td>44785894</td>\n",
       "      <td>52075662</td>\n",
       "      <td>14.694074</td>\n",
       "      <td>125.3</td>\n",
       "      <td>157.514630</td>\n",
       "    </tr>\n",
       "    <tr>\n",
       "      <th>4</th>\n",
       "      <td>1999</td>\n",
       "      <td>20671.06</td>\n",
       "      <td>22304359</td>\n",
       "      <td>47952809</td>\n",
       "      <td>54531037</td>\n",
       "      <td>14.068043</td>\n",
       "      <td>117.5</td>\n",
       "      <td>217.298631</td>\n",
       "    </tr>\n",
       "  </tbody>\n",
       "</table>\n",
       "</div>"
      ],
      "text/plain": [
       "   Date       BIP        M1        M2        M3        CPI  Unemployment_Rate  \\\n",
       "0  1995  17927.30  15583338  38672574  45154926  30.632925              127.8   \n",
       "1  1996  18652.69  16610770  40712371  47550294  28.160923              129.5   \n",
       "2  1997  19069.85  18055274  42509756  49518397  20.464823              129.0   \n",
       "3  1998  19814.33  19770648  44785894  52075662  14.694074              125.3   \n",
       "4  1999  20671.06  22304359  47952809  54531037  14.068043              117.5   \n",
       "\n",
       "    Oil_Price  \n",
       "0  206.384976  \n",
       "1  249.702360  \n",
       "2  231.723884  \n",
       "3  157.514630  \n",
       "4  217.298631  "
      ]
     },
     "execution_count": 7,
     "metadata": {},
     "output_type": "execute_result"
    }
   ],
   "source": [
    "BIPEUArea.head()"
   ]
  },
  {
   "cell_type": "markdown",
   "metadata": {},
   "source": [
    "## M1, M2, M3 Datasets"
   ]
  },
  {
   "cell_type": "code",
   "execution_count": 1,
   "metadata": {},
   "outputs": [
    {
     "ename": "NameError",
     "evalue": "name 'pd' is not defined",
     "output_type": "error",
     "traceback": [
      "\u001b[0;31m---------------------------------------------------------------------------\u001b[0m",
      "\u001b[0;31mNameError\u001b[0m                                 Traceback (most recent call last)",
      "Cell \u001b[0;32mIn[1], line 1\u001b[0m\n\u001b[0;32m----> 1\u001b[0m df_m1 \u001b[38;5;241m=\u001b[39m \u001b[43mpd\u001b[49m\u001b[38;5;241m.\u001b[39mread_csv(\u001b[38;5;124m'\u001b[39m\u001b[38;5;124m/Users/riccardo/Desktop/Repositorys_Github/Training/Scripts/models/Linear Regression/Data_EU/ECB Data M1 Euro_Area.csv\u001b[39m\u001b[38;5;124m'\u001b[39m)\n\u001b[1;32m      2\u001b[0m df_m2 \u001b[38;5;241m=\u001b[39m pd\u001b[38;5;241m.\u001b[39mread_csv(\u001b[38;5;124m'\u001b[39m\u001b[38;5;124m/Users/riccardo/Desktop/Repositorys_Github/Training/Scripts/models/Linear Regression/Data_EU/ECB Data M2 Euro_Area.csv\u001b[39m\u001b[38;5;124m'\u001b[39m)\n\u001b[1;32m      3\u001b[0m df_m3 \u001b[38;5;241m=\u001b[39m pd\u001b[38;5;241m.\u001b[39mread_csv(\u001b[38;5;124m'\u001b[39m\u001b[38;5;124m/Users/riccardo/Desktop/Repositorys_Github/Training/Scripts/models/Linear Regression/Data_EU/ECB Data M3 Euro_Area.csv\u001b[39m\u001b[38;5;124m'\u001b[39m)\n",
      "\u001b[0;31mNameError\u001b[0m: name 'pd' is not defined"
     ]
    }
   ],
   "source": [
    "df_m1 = pd.read_csv('/Users/riccardo/Desktop/Repositorys_Github/Training/Scripts/models/Linear Regression/Data_EU/ECB Data M1 Euro_Area.csv')\n",
    "df_m2 = pd.read_csv('/Users/riccardo/Desktop/Repositorys_Github/Training/Scripts/models/Linear Regression/Data_EU/ECB Data M2 Euro_Area.csv')\n",
    "df_m3 = pd.read_csv('/Users/riccardo/Desktop/Repositorys_Github/Training/Scripts/models/Linear Regression/Data_EU/ECB Data M3 Euro_Area.csv')\n",
    "# in Euro"
   ]
  },
  {
   "cell_type": "code",
   "execution_count": 6,
   "metadata": {},
   "outputs": [],
   "source": [
    "df_m1.rename(columns={'Monetary aggregate M1 reported by MFIs, central gov. and post office giro institutions in the euro area (stocks) (BSI.M.U2.Y.V.M10.X.1.U2.2300.Z01.E)': 'M1',\n",
    "                      'DATE': 'Date'}, inplace=True)\n",
    "df_m2.rename(columns={'Monetary aggregate M2 reported by MFIs, central gov. and post office giro institutions in the euro area (stocks) (BSI.M.U2.Y.V.M20.X.1.U2.2300.Z01.E)': 'M2',\n",
    "                      'DATE': 'Date'}, inplace=True)\n",
    "df_m3.rename(columns={'Monetary aggregate M3 reported by MFIs, central gov. and post office giro institutions in the euro area (stocks) (BSI.M.U2.Y.V.M30.X.1.U2.2300.Z01.E)': 'M3',\n",
    "                      'DATE': 'Date'}, inplace=True)\n",
    "\n",
    "df_m1.drop(columns=['TIME PERIOD'], inplace=True)\n",
    "df_m2.drop(columns=['TIME PERIOD'], inplace=True)\n",
    "df_m3.drop(columns=['TIME PERIOD'], inplace=True)"
   ]
  },
  {
   "cell_type": "code",
   "execution_count": 7,
   "metadata": {},
   "outputs": [],
   "source": [
    "#Change dateformat from YYYY-MM-DD to YYYY-MM (e.g. 2020-01-01 to 2020-01)\n",
    "df_m1['Date'] = pd.to_datetime(df_m1['Date'])\n",
    "df_m1['Date'] = df_m1['Date'].dt.to_period('M')\n",
    "\n",
    "df_m2['Date'] = pd.to_datetime(df_m2['Date'])\n",
    "df_m2['Date'] = df_m2['Date'].dt.to_period('M')\n",
    "\n",
    "df_m3['Date'] = pd.to_datetime(df_m3['Date'])\n",
    "df_m3['Date'] = df_m3['Date'].dt.to_period('M')"
   ]
  },
  {
   "cell_type": "code",
   "execution_count": 8,
   "metadata": {},
   "outputs": [
    {
     "data": {
      "text/plain": [
       "(      Date       M3\n",
       " 0  1980-01  1097404\n",
       " 1  1980-02  1105520\n",
       " 2  1980-03  1117228\n",
       " 3  1980-04  1122639\n",
       " 4  1980-05  1130672,\n",
       "       Date       M2\n",
       " 0  1980-01  1070496\n",
       " 1  1980-02  1078232\n",
       " 2  1980-03  1088333\n",
       " 3  1980-04  1093263\n",
       " 4  1980-05  1100958,\n",
       "       Date      M1\n",
       " 0  1980-01  444330\n",
       " 1  1980-02  447116\n",
       " 2  1980-03  451370\n",
       " 3  1980-04  453226\n",
       " 4  1980-05  455917)"
      ]
     },
     "execution_count": 8,
     "metadata": {},
     "output_type": "execute_result"
    }
   ],
   "source": [
    "df_m3.head(), df_m2.head(), df_m1.head()"
   ]
  },
  {
   "cell_type": "markdown",
   "metadata": {},
   "source": [
    "### Da wir Monatlich Daten haben und wir nun die Jährliche Daten haben möchten, müssen wir die Daten gruppieren."
   ]
  },
  {
   "cell_type": "code",
   "execution_count": 9,
   "metadata": {},
   "outputs": [
    {
     "name": "stderr",
     "output_type": "stream",
     "text": [
      "/var/folders/13/3pzxxwtd6cbdvdzq_lc6112r0000gn/T/ipykernel_30894/4257450793.py:13: DeprecationWarning: is_period_dtype is deprecated and will be removed in a future version. Use `isinstance(dtype, pd.PeriodDtype)` instead\n",
      "  if pd.api.types.is_period_dtype(df['Date']):\n",
      "/var/folders/13/3pzxxwtd6cbdvdzq_lc6112r0000gn/T/ipykernel_30894/4257450793.py:13: DeprecationWarning: is_period_dtype is deprecated and will be removed in a future version. Use `isinstance(dtype, pd.PeriodDtype)` instead\n",
      "  if pd.api.types.is_period_dtype(df['Date']):\n",
      "/var/folders/13/3pzxxwtd6cbdvdzq_lc6112r0000gn/T/ipykernel_30894/4257450793.py:13: DeprecationWarning: is_period_dtype is deprecated and will be removed in a future version. Use `isinstance(dtype, pd.PeriodDtype)` instead\n",
      "  if pd.api.types.is_period_dtype(df['Date']):\n"
     ]
    }
   ],
   "source": [
    "# Assuming your CSV files have a 'Date' or 'Year-Month' column for timestamps\n",
    "def convert_to_yearly(df):\n",
    "  \"\"\"Converts a pandas DataFrame with monthly data to a DataFrame with yearly data.\n",
    "\n",
    "  Args:\n",
    "      df (pd.DataFrame): The DataFrame containing monthly data.\n",
    "\n",
    "  Returns:\n",
    "      pd.DataFrame: A new DataFrame with yearly data.\n",
    "  \"\"\"\n",
    "\n",
    "  # Convert 'Date' column to datetime if necessary\n",
    "  if pd.api.types.is_period_dtype(df['Date']):\n",
    "    df['Date'] = df['Date'].dt.to_timestamp()\n",
    "  df['Year'] = pd.to_datetime(df['Date']).dt.year  # Assuming 'Date' column exists\n",
    "\n",
    "  # Group by year and calculate the desired aggregation (e.g., sum, mean)\n",
    "  if 'M1' in df.columns: \n",
    "    yearly_data = df.groupby('Year').agg(Sum=('M1', 'sum'))  # Replace 'column_to_sum' with your column\n",
    "  elif 'M2' in df.columns: \n",
    "    yearly_data = df.groupby('Year').agg(Sum=('M2', 'sum'))\n",
    "  elif 'M3' in df.columns: \n",
    "    yearly_data = df.groupby('Year').agg(Sum=('M3', 'sum'))\n",
    "\n",
    "  return yearly_data\n",
    "\n",
    "# Read the CSV files (replace paths if necessary)\n",
    "df_m1_yearly = convert_to_yearly(df_m1.copy())\n",
    "df_m2_yearly = convert_to_yearly(df_m2.copy())  \n",
    "df_m3_yearly = convert_to_yearly(df_m3.copy())  "
   ]
  },
  {
   "cell_type": "code",
   "execution_count": 10,
   "metadata": {},
   "outputs": [],
   "source": [
    "# Print or use the yearly DataFrames as needed\n",
    "df_m1_yearly.reset_index(inplace=True)\n",
    "df_m2_yearly.reset_index(inplace=True)\n",
    "df_m3_yearly.reset_index(inplace=True)\n",
    "df_m1_yearly.rename(columns={'Sum': 'M1', \"Year\": \"Date\"}, inplace=True)\n",
    "df_m2_yearly.rename(columns={'Sum': 'M2', \"Year\": \"Date\"}, inplace=True)\n",
    "df_m3_yearly.rename(columns={'Sum': 'M3', \"Year\": \"Date\"}, inplace=True)"
   ]
  },
  {
   "cell_type": "code",
   "execution_count": 8,
   "metadata": {},
   "outputs": [
    {
     "data": {
      "text/plain": [
       "(1995, 2022)"
      ]
     },
     "execution_count": 8,
     "metadata": {},
     "output_type": "execute_result"
    }
   ],
   "source": [
    "BIPEUArea['Date'].min(), BIPEUArea['Date'].max(),"
   ]
  },
  {
   "cell_type": "markdown",
   "metadata": {},
   "source": [
    "### Filtern der Daten damit wir die gleichen Zeitraum haben."
   ]
  },
  {
   "cell_type": "code",
   "execution_count": 9,
   "metadata": {},
   "outputs": [
    {
     "ename": "NameError",
     "evalue": "name 'df_m1_yearly' is not defined",
     "output_type": "error",
     "traceback": [
      "\u001b[0;31m---------------------------------------------------------------------------\u001b[0m",
      "\u001b[0;31mNameError\u001b[0m                                 Traceback (most recent call last)",
      "Cell \u001b[0;32mIn[9], line 1\u001b[0m\n\u001b[0;32m----> 1\u001b[0m df_m1_yearly_filtered \u001b[38;5;241m=\u001b[39m \u001b[43mdf_m1_yearly\u001b[49m\u001b[38;5;241m.\u001b[39mquery(\u001b[38;5;124m'\u001b[39m\u001b[38;5;124mDate >= 1995 & Date <= 2022\u001b[39m\u001b[38;5;124m'\u001b[39m)\n\u001b[1;32m      2\u001b[0m df_m2_yearly_filtered \u001b[38;5;241m=\u001b[39m df_m2_yearly\u001b[38;5;241m.\u001b[39mquery(\u001b[38;5;124m'\u001b[39m\u001b[38;5;124mDate >= 1995 & Date <= 2022\u001b[39m\u001b[38;5;124m'\u001b[39m)\n\u001b[1;32m      3\u001b[0m df_m3_yearly_filtered \u001b[38;5;241m=\u001b[39m df_m3_yearly\u001b[38;5;241m.\u001b[39mquery(\u001b[38;5;124m'\u001b[39m\u001b[38;5;124mDate >= 1995 & Date <= 2022\u001b[39m\u001b[38;5;124m'\u001b[39m)\n",
      "\u001b[0;31mNameError\u001b[0m: name 'df_m1_yearly' is not defined"
     ]
    }
   ],
   "source": [
    "df_m1_yearly_filtered = df_m1_yearly.query('Date >= 1995 & Date <= 2022')\n",
    "df_m2_yearly_filtered = df_m2_yearly.query('Date >= 1995 & Date <= 2022')\n",
    "df_m3_yearly_filtered = df_m3_yearly.query('Date >= 1995 & Date <= 2022')\n",
    "\n",
    "print(df_m1_yearly_filtered.shape, df_m2_yearly_filtered.shape, df_m3_yearly_filtered.shape, BIPEUArea.shape)\n",
    "print('M1', df_m1_yearly_filtered['Date'].min(), df_m1_yearly_filtered['Date'].max())\n",
    "print('M2',df_m2_yearly_filtered['Date'].min(), df_m2_yearly_filtered['Date'].max())\n",
    "print('M3', df_m3_yearly_filtered['Date'].min(), df_m3_yearly_filtered['Date'].max())\n",
    "print('BIPEUArea', BIPEUArea['Date'].min(), BIPEUArea['Date'].max())"
   ]
  },
  {
   "cell_type": "markdown",
   "metadata": {},
   "source": [
    "# M1, M2, M3, BIPEUArea wurden richtig fomratiert und gefiltert\n",
    "- weiter geht es mit Oil Prices"
   ]
  },
  {
   "cell_type": "markdown",
   "metadata": {},
   "source": [
    "## Oil Price Datasets\n",
    "Herunterladen druch die FED Api"
   ]
  },
  {
   "cell_type": "code",
   "execution_count": 13,
   "metadata": {},
   "outputs": [],
   "source": [
    "api_key = 'd9ce385a3f807aaba9590769b5f994a1'\n",
    "OIL_dataURL = f'https://api.stlouisfed.org/fred/series/observations?series_id=POILBREUSDM&api_key={api_key}&file_type=json&frequency=m'\n",
    "CPI_dataURL = f'https://api.stlouisfed.org/fred/series/observations?series_id=CPHPTT01EZM659N&api_key={api_key}&file_type=json&frequency=m'\n",
    "un_dataURL = f'https://api.stlouisfed.org/fred/series/observations?series_id=LRHUTTTTEZM156S&api_key={api_key}&file_type=json&frequency=m'\n"
   ]
  },
  {
   "cell_type": "code",
   "execution_count": 14,
   "metadata": {},
   "outputs": [
    {
     "data": {
      "text/plain": [
       "((391, 2), (385, 2), (410, 2))"
      ]
     },
     "execution_count": 14,
     "metadata": {},
     "output_type": "execute_result"
    }
   ],
   "source": [
    "# Setzen Sie Ihren API-Schlüssel hier ein\n",
    "api_key = 'd9ce385a3f807aaba9590769b5f994a1'\n",
    "def get_data(url):\n",
    "    response = requests.get(url)\n",
    "    if response.status_code == 200:\n",
    "        data = response.json()\n",
    "        observations = []\n",
    "        for observation in data['observations']:\n",
    "            date = observation['date']\n",
    "            value = observation['value']\n",
    "            if value != '.':\n",
    "                value = float(value)\n",
    "                observations.append({'Date': date, 'Value': value})\n",
    "        df = pd.DataFrame(observations)\n",
    "        return df\n",
    "    else:\n",
    "        print(f'Error: {response.status_code}')\n",
    "        return None\n",
    "\n",
    "Oil_price = get_data(OIL_dataURL)\n",
    "CPI = get_data(CPI_dataURL)\n",
    "unemployment = get_data(un_dataURL)\n",
    "unemployment.shape, CPI.shape, Oil_price.shape"
   ]
  },
  {
   "cell_type": "code",
   "execution_count": 15,
   "metadata": {},
   "outputs": [
    {
     "data": {
      "text/plain": [
       "(Index(['Date', 'Value'], dtype='object'),\n",
       " Index(['Date', 'Value'], dtype='object'),\n",
       " Index(['Date', 'Value'], dtype='object'))"
      ]
     },
     "execution_count": 15,
     "metadata": {},
     "output_type": "execute_result"
    }
   ],
   "source": [
    "Oil_price.columns, CPI.columns, unemployment.columns"
   ]
  },
  {
   "cell_type": "code",
   "execution_count": 16,
   "metadata": {},
   "outputs": [
    {
     "name": "stderr",
     "output_type": "stream",
     "text": [
      "/var/folders/13/3pzxxwtd6cbdvdzq_lc6112r0000gn/T/ipykernel_30894/1872458097.py:12: DeprecationWarning: is_period_dtype is deprecated and will be removed in a future version. Use `isinstance(dtype, pd.PeriodDtype)` instead\n",
      "  if pd.api.types.is_period_dtype(df['Date']):\n"
     ]
    },
    {
     "data": {
      "text/html": [
       "<div>\n",
       "<style scoped>\n",
       "    .dataframe tbody tr th:only-of-type {\n",
       "        vertical-align: middle;\n",
       "    }\n",
       "\n",
       "    .dataframe tbody tr th {\n",
       "        vertical-align: top;\n",
       "    }\n",
       "\n",
       "    .dataframe thead th {\n",
       "        text-align: right;\n",
       "    }\n",
       "</style>\n",
       "<table border=\"1\" class=\"dataframe\">\n",
       "  <thead>\n",
       "    <tr style=\"text-align: right;\">\n",
       "      <th></th>\n",
       "      <th>Date</th>\n",
       "      <th>Sum</th>\n",
       "    </tr>\n",
       "  </thead>\n",
       "  <tbody>\n",
       "    <tr>\n",
       "      <th>0</th>\n",
       "      <td>1990</td>\n",
       "      <td>284.479368</td>\n",
       "    </tr>\n",
       "    <tr>\n",
       "      <th>1</th>\n",
       "      <td>1991</td>\n",
       "      <td>240.904445</td>\n",
       "    </tr>\n",
       "    <tr>\n",
       "      <th>2</th>\n",
       "      <td>1992</td>\n",
       "      <td>232.298854</td>\n",
       "    </tr>\n",
       "    <tr>\n",
       "      <th>3</th>\n",
       "      <td>1993</td>\n",
       "      <td>205.017111</td>\n",
       "    </tr>\n",
       "    <tr>\n",
       "      <th>4</th>\n",
       "      <td>1994</td>\n",
       "      <td>191.515897</td>\n",
       "    </tr>\n",
       "  </tbody>\n",
       "</table>\n",
       "</div>"
      ],
      "text/plain": [
       "   Date         Sum\n",
       "0  1990  284.479368\n",
       "1  1991  240.904445\n",
       "2  1992  232.298854\n",
       "3  1993  205.017111\n",
       "4  1994  191.515897"
      ]
     },
     "execution_count": 16,
     "metadata": {},
     "output_type": "execute_result"
    }
   ],
   "source": [
    "def convert_to_yearly_(df):\n",
    "  \"\"\"Converts a pandas DataFrame with monthly data to a DataFrame with yearly data.\n",
    "\n",
    "  Args:\n",
    "      df (pd.DataFrame): The DataFrame containing monthly data.\n",
    "\n",
    "  Returns:\n",
    "      pd.DataFrame: A new DataFrame with yearly data.\n",
    "  \"\"\"\n",
    "\n",
    "  # Convert 'Date' column to datetime if necessary\n",
    "  if pd.api.types.is_period_dtype(df['Date']):\n",
    "    df['Date'] = df['Date'].dt.to_timestamp()\n",
    "  df['Date'] = pd.to_datetime(df['Date']).dt.year  # Assuming 'Date' column exists\n",
    "\n",
    "  # Group by year and calculate the desired aggregation (e.g., sum, mean)\n",
    "  if 'Date' in df.columns: \n",
    "    yearly_data = df.groupby('Date').agg(Sum=('Value', 'sum'))  # Replace 'column_to_sum' with your column\n",
    "    yearly_data.reset_index(inplace=True)\n",
    "  return yearly_data\n",
    "\n",
    "Oil_price = convert_to_yearly_(Oil_price)\n",
    "Oil_price.head()"
   ]
  },
  {
   "cell_type": "code",
   "execution_count": 17,
   "metadata": {},
   "outputs": [],
   "source": [
    "Oil_price.rename(columns={'Sum': 'Oil_Price'}, inplace=True)\n",
    "Oil_price_yearly_filtered = Oil_price.query('Date >= 1995 & Date <= 2022')\n"
   ]
  },
  {
   "cell_type": "code",
   "execution_count": 18,
   "metadata": {},
   "outputs": [
    {
     "data": {
      "text/html": [
       "<div>\n",
       "<style scoped>\n",
       "    .dataframe tbody tr th:only-of-type {\n",
       "        vertical-align: middle;\n",
       "    }\n",
       "\n",
       "    .dataframe tbody tr th {\n",
       "        vertical-align: top;\n",
       "    }\n",
       "\n",
       "    .dataframe thead th {\n",
       "        text-align: right;\n",
       "    }\n",
       "</style>\n",
       "<table border=\"1\" class=\"dataframe\">\n",
       "  <thead>\n",
       "    <tr style=\"text-align: right;\">\n",
       "      <th></th>\n",
       "      <th>Date</th>\n",
       "      <th>Oil_Price</th>\n",
       "    </tr>\n",
       "  </thead>\n",
       "  <tbody>\n",
       "    <tr>\n",
       "      <th>5</th>\n",
       "      <td>1995</td>\n",
       "      <td>206.384976</td>\n",
       "    </tr>\n",
       "    <tr>\n",
       "      <th>6</th>\n",
       "      <td>1996</td>\n",
       "      <td>249.702360</td>\n",
       "    </tr>\n",
       "    <tr>\n",
       "      <th>7</th>\n",
       "      <td>1997</td>\n",
       "      <td>231.723884</td>\n",
       "    </tr>\n",
       "    <tr>\n",
       "      <th>8</th>\n",
       "      <td>1998</td>\n",
       "      <td>157.514630</td>\n",
       "    </tr>\n",
       "    <tr>\n",
       "      <th>9</th>\n",
       "      <td>1999</td>\n",
       "      <td>217.298631</td>\n",
       "    </tr>\n",
       "  </tbody>\n",
       "</table>\n",
       "</div>"
      ],
      "text/plain": [
       "   Date   Oil_Price\n",
       "5  1995  206.384976\n",
       "6  1996  249.702360\n",
       "7  1997  231.723884\n",
       "8  1998  157.514630\n",
       "9  1999  217.298631"
      ]
     },
     "execution_count": 18,
     "metadata": {},
     "output_type": "execute_result"
    }
   ],
   "source": [
    "Oil_price_yearly_filtered.head()\n"
   ]
  },
  {
   "cell_type": "markdown",
   "metadata": {},
   "source": [
    "# Oil Price ende "
   ]
  },
  {
   "cell_type": "markdown",
   "metadata": {},
   "source": [
    "# Unemployment rate "
   ]
  },
  {
   "cell_type": "code",
   "execution_count": 19,
   "metadata": {},
   "outputs": [
    {
     "name": "stderr",
     "output_type": "stream",
     "text": [
      "/var/folders/13/3pzxxwtd6cbdvdzq_lc6112r0000gn/T/ipykernel_30894/1872458097.py:12: DeprecationWarning: is_period_dtype is deprecated and will be removed in a future version. Use `isinstance(dtype, pd.PeriodDtype)` instead\n",
      "  if pd.api.types.is_period_dtype(df['Date']):\n"
     ]
    }
   ],
   "source": [
    "unemployment_rate_EUArea = get_data(un_dataURL)\n",
    "unemployment_rate_EUArea = convert_to_yearly_(unemployment_rate_EUArea)\n",
    "unemployment_rate_EUArea.rename(columns={'Sum': 'Unemployment_Rate'}, inplace=True)\n",
    "unemployment_rate_EUArea_yearly_filtered = unemployment_rate_EUArea.query('Date >= 1995 & Date <= 2022')\n"
   ]
  },
  {
   "cell_type": "markdown",
   "metadata": {},
   "source": [
    "## CPI des Euro Raums"
   ]
  },
  {
   "cell_type": "code",
   "execution_count": 20,
   "metadata": {},
   "outputs": [
    {
     "name": "stderr",
     "output_type": "stream",
     "text": [
      "/var/folders/13/3pzxxwtd6cbdvdzq_lc6112r0000gn/T/ipykernel_30894/1872458097.py:12: DeprecationWarning: is_period_dtype is deprecated and will be removed in a future version. Use `isinstance(dtype, pd.PeriodDtype)` instead\n",
      "  if pd.api.types.is_period_dtype(df['Date']):\n"
     ]
    },
    {
     "data": {
      "text/html": [
       "<div>\n",
       "<style scoped>\n",
       "    .dataframe tbody tr th:only-of-type {\n",
       "        vertical-align: middle;\n",
       "    }\n",
       "\n",
       "    .dataframe tbody tr th {\n",
       "        vertical-align: top;\n",
       "    }\n",
       "\n",
       "    .dataframe thead th {\n",
       "        text-align: right;\n",
       "    }\n",
       "</style>\n",
       "<table border=\"1\" class=\"dataframe\">\n",
       "  <thead>\n",
       "    <tr style=\"text-align: right;\">\n",
       "      <th></th>\n",
       "      <th>Date</th>\n",
       "      <th>CPI</th>\n",
       "    </tr>\n",
       "  </thead>\n",
       "  <tbody>\n",
       "    <tr>\n",
       "      <th>4</th>\n",
       "      <td>1995</td>\n",
       "      <td>30.632925</td>\n",
       "    </tr>\n",
       "    <tr>\n",
       "      <th>5</th>\n",
       "      <td>1996</td>\n",
       "      <td>28.160923</td>\n",
       "    </tr>\n",
       "    <tr>\n",
       "      <th>6</th>\n",
       "      <td>1997</td>\n",
       "      <td>20.464823</td>\n",
       "    </tr>\n",
       "    <tr>\n",
       "      <th>7</th>\n",
       "      <td>1998</td>\n",
       "      <td>14.694074</td>\n",
       "    </tr>\n",
       "    <tr>\n",
       "      <th>8</th>\n",
       "      <td>1999</td>\n",
       "      <td>14.068043</td>\n",
       "    </tr>\n",
       "  </tbody>\n",
       "</table>\n",
       "</div>"
      ],
      "text/plain": [
       "   Date        CPI\n",
       "4  1995  30.632925\n",
       "5  1996  28.160923\n",
       "6  1997  20.464823\n",
       "7  1998  14.694074\n",
       "8  1999  14.068043"
      ]
     },
     "execution_count": 20,
     "metadata": {},
     "output_type": "execute_result"
    }
   ],
   "source": [
    "CPI_EUArea = get_data(CPI_dataURL)\n",
    "CPI_EUArea = convert_to_yearly_(CPI_EUArea)\n",
    "CPI_EUArea.rename(columns={'Sum': 'CPI'}, inplace=True)\n",
    "CPI_EUArea_yearly_filtered = CPI_EUArea.query('Date >= 1995 & Date <= 2022')\n",
    "CPI_EUArea_yearly_filtered.head()"
   ]
  },
  {
   "cell_type": "code",
   "execution_count": 21,
   "metadata": {},
   "outputs": [
    {
     "data": {
      "text/plain": [
       "((28, 2), (28, 2), (28, 2))"
      ]
     },
     "execution_count": 21,
     "metadata": {},
     "output_type": "execute_result"
    }
   ],
   "source": [
    "CPI_EUArea_yearly_filtered.shape, unemployment_rate_EUArea_yearly_filtered.shape, Oil_price_yearly_filtered.shape"
   ]
  },
  {
   "cell_type": "code",
   "execution_count": 22,
   "metadata": {},
   "outputs": [
    {
     "name": "stdout",
     "output_type": "stream",
     "text": [
      "1995 2022\n",
      "1995 2022\n",
      "1995 2022\n",
      "1995 2022\n",
      "1995 2022\n",
      "1995 2022\n"
     ]
    },
    {
     "data": {
      "text/plain": [
       "((28, 2), (28, 2), (28, 2), (28, 2), (28, 2), (28, 2), (28, 2))"
      ]
     },
     "execution_count": 22,
     "metadata": {},
     "output_type": "execute_result"
    }
   ],
   "source": [
    "print(CPI_EUArea_yearly_filtered['Date'].min(), CPI_EUArea_yearly_filtered['Date'].max())\n",
    "print(unemployment_rate_EUArea_yearly_filtered['Date'].min(), unemployment_rate_EUArea_yearly_filtered['Date'].max())\n",
    "print(Oil_price_yearly_filtered['Date'].min(), Oil_price_yearly_filtered['Date'].max())\n",
    "print(df_m1_yearly_filtered['Date'].min(), df_m1_yearly_filtered['Date'].max())\n",
    "print(df_m2_yearly_filtered['Date'].min(), df_m2_yearly_filtered['Date'].max())\n",
    "print(df_m3_yearly_filtered['Date'].min(), df_m3_yearly_filtered['Date'].max())\n",
    "\n",
    "df_m1_yearly_filtered.shape, df_m2_yearly_filtered.shape, df_m3_yearly_filtered.shape, BIPEUArea.shape, CPI_EUArea_yearly_filtered.shape, unemployment_rate_EUArea_yearly_filtered.shape, Oil_price_yearly_filtered.shape\n"
   ]
  },
  {
   "cell_type": "code",
   "execution_count": 23,
   "metadata": {},
   "outputs": [],
   "source": [
    "#zusammenführen der variablen in einem Datensatz\n",
    "df_merged = pd.merge(BIPEUArea, df_m1_yearly_filtered, on='Date', how='inner')\n",
    "df_merged = pd.merge(df_merged, df_m2_yearly_filtered, on='Date', how='inner')\n",
    "df_merged = pd.merge(df_merged, df_m3_yearly_filtered, on='Date', how='inner')\n",
    "df_merged = pd.merge(df_merged, CPI_EUArea_yearly_filtered, on='Date', how='inner')\n",
    "df_merged = pd.merge(df_merged, unemployment_rate_EUArea_yearly_filtered, on='Date', how='inner')\n",
    "df_merged = pd.merge(df_merged, Oil_price_yearly_filtered, on='Date', how='inner')\n",
    "df_merged.to_csv('/Users/riccardo/Desktop/Repositorys_Github/Training/Scripts/models/Linear Regression/Data_EU/ECB Data Merged Euro_Area.csv', index=False)"
   ]
  },
  {
   "cell_type": "code",
   "execution_count": 24,
   "metadata": {},
   "outputs": [
    {
     "data": {
      "text/plain": [
       "Index(['Date', 'BIP', 'M1', 'M2', 'M3', 'CPI', 'Unemployment_Rate',\n",
       "       'Oil_Price'],\n",
       "      dtype='object')"
      ]
     },
     "execution_count": 24,
     "metadata": {},
     "output_type": "execute_result"
    }
   ],
   "source": [
    "df_merged.columns"
   ]
  },
  {
   "cell_type": "code",
   "execution_count": 25,
   "metadata": {},
   "outputs": [
    {
     "data": {
      "text/html": [
       "<div>\n",
       "<style scoped>\n",
       "    .dataframe tbody tr th:only-of-type {\n",
       "        vertical-align: middle;\n",
       "    }\n",
       "\n",
       "    .dataframe tbody tr th {\n",
       "        vertical-align: top;\n",
       "    }\n",
       "\n",
       "    .dataframe thead th {\n",
       "        text-align: right;\n",
       "    }\n",
       "</style>\n",
       "<table border=\"1\" class=\"dataframe\">\n",
       "  <thead>\n",
       "    <tr style=\"text-align: right;\">\n",
       "      <th></th>\n",
       "      <th>Date</th>\n",
       "      <th>BIP</th>\n",
       "      <th>M1</th>\n",
       "      <th>M2</th>\n",
       "      <th>M3</th>\n",
       "      <th>CPI</th>\n",
       "      <th>Unemployment_Rate</th>\n",
       "      <th>Oil_Price</th>\n",
       "    </tr>\n",
       "  </thead>\n",
       "  <tbody>\n",
       "    <tr>\n",
       "      <th>Date</th>\n",
       "      <td>1.000000</td>\n",
       "      <td>0.986540</td>\n",
       "      <td>0.959609</td>\n",
       "      <td>0.984767</td>\n",
       "      <td>0.984861</td>\n",
       "      <td>0.064597</td>\n",
       "      <td>-0.305018</td>\n",
       "      <td>0.654168</td>\n",
       "    </tr>\n",
       "    <tr>\n",
       "      <th>BIP</th>\n",
       "      <td>0.986540</td>\n",
       "      <td>1.000000</td>\n",
       "      <td>0.955107</td>\n",
       "      <td>0.978432</td>\n",
       "      <td>0.984349</td>\n",
       "      <td>0.184294</td>\n",
       "      <td>-0.414357</td>\n",
       "      <td>0.676258</td>\n",
       "    </tr>\n",
       "    <tr>\n",
       "      <th>M1</th>\n",
       "      <td>0.959609</td>\n",
       "      <td>0.955107</td>\n",
       "      <td>1.000000</td>\n",
       "      <td>0.989401</td>\n",
       "      <td>0.982060</td>\n",
       "      <td>0.194780</td>\n",
       "      <td>-0.416296</td>\n",
       "      <td>0.519770</td>\n",
       "    </tr>\n",
       "    <tr>\n",
       "      <th>M2</th>\n",
       "      <td>0.984767</td>\n",
       "      <td>0.978432</td>\n",
       "      <td>0.989401</td>\n",
       "      <td>1.000000</td>\n",
       "      <td>0.998012</td>\n",
       "      <td>0.159225</td>\n",
       "      <td>-0.360874</td>\n",
       "      <td>0.615695</td>\n",
       "    </tr>\n",
       "    <tr>\n",
       "      <th>M3</th>\n",
       "      <td>0.984861</td>\n",
       "      <td>0.984349</td>\n",
       "      <td>0.982060</td>\n",
       "      <td>0.998012</td>\n",
       "      <td>1.000000</td>\n",
       "      <td>0.168805</td>\n",
       "      <td>-0.380730</td>\n",
       "      <td>0.638855</td>\n",
       "    </tr>\n",
       "    <tr>\n",
       "      <th>CPI</th>\n",
       "      <td>0.064597</td>\n",
       "      <td>0.184294</td>\n",
       "      <td>0.194780</td>\n",
       "      <td>0.159225</td>\n",
       "      <td>0.168805</td>\n",
       "      <td>1.000000</td>\n",
       "      <td>-0.454339</td>\n",
       "      <td>0.259338</td>\n",
       "    </tr>\n",
       "    <tr>\n",
       "      <th>Unemployment_Rate</th>\n",
       "      <td>-0.305018</td>\n",
       "      <td>-0.414357</td>\n",
       "      <td>-0.416296</td>\n",
       "      <td>-0.360874</td>\n",
       "      <td>-0.380730</td>\n",
       "      <td>-0.454339</td>\n",
       "      <td>1.000000</td>\n",
       "      <td>0.018737</td>\n",
       "    </tr>\n",
       "    <tr>\n",
       "      <th>Oil_Price</th>\n",
       "      <td>0.654168</td>\n",
       "      <td>0.676258</td>\n",
       "      <td>0.519770</td>\n",
       "      <td>0.615695</td>\n",
       "      <td>0.638855</td>\n",
       "      <td>0.259338</td>\n",
       "      <td>0.018737</td>\n",
       "      <td>1.000000</td>\n",
       "    </tr>\n",
       "  </tbody>\n",
       "</table>\n",
       "</div>"
      ],
      "text/plain": [
       "                       Date       BIP        M1        M2        M3       CPI  \\\n",
       "Date               1.000000  0.986540  0.959609  0.984767  0.984861  0.064597   \n",
       "BIP                0.986540  1.000000  0.955107  0.978432  0.984349  0.184294   \n",
       "M1                 0.959609  0.955107  1.000000  0.989401  0.982060  0.194780   \n",
       "M2                 0.984767  0.978432  0.989401  1.000000  0.998012  0.159225   \n",
       "M3                 0.984861  0.984349  0.982060  0.998012  1.000000  0.168805   \n",
       "CPI                0.064597  0.184294  0.194780  0.159225  0.168805  1.000000   \n",
       "Unemployment_Rate -0.305018 -0.414357 -0.416296 -0.360874 -0.380730 -0.454339   \n",
       "Oil_Price          0.654168  0.676258  0.519770  0.615695  0.638855  0.259338   \n",
       "\n",
       "                   Unemployment_Rate  Oil_Price  \n",
       "Date                       -0.305018   0.654168  \n",
       "BIP                        -0.414357   0.676258  \n",
       "M1                         -0.416296   0.519770  \n",
       "M2                         -0.360874   0.615695  \n",
       "M3                         -0.380730   0.638855  \n",
       "CPI                        -0.454339   0.259338  \n",
       "Unemployment_Rate           1.000000   0.018737  \n",
       "Oil_Price                   0.018737   1.000000  "
      ]
     },
     "execution_count": 25,
     "metadata": {},
     "output_type": "execute_result"
    }
   ],
   "source": [
    "df_merged.corr()"
   ]
  },
  {
   "cell_type": "markdown",
   "metadata": {},
   "source": [
    "## Data Collection"
   ]
  },
  {
   "cell_type": "markdown",
   "metadata": {},
   "source": [
    "## Creating a Regression Model"
   ]
  },
  {
   "cell_type": "markdown",
   "metadata": {},
   "source": [
    "# Model mit M1"
   ]
  },
  {
   "cell_type": "code",
   "execution_count": 12,
   "metadata": {},
   "outputs": [
    {
     "data": {
      "text/plain": [
       "const                24571.517958\n",
       "M1                       0.000116\n",
       "CPI                    -36.863913\n",
       "Unemployment_Rate      -55.092532\n",
       "Oil_Price                4.765847\n",
       "dtype: float64"
      ]
     },
     "execution_count": 12,
     "metadata": {},
     "output_type": "execute_result"
    }
   ],
   "source": [
    "Y = BIPEUArea['BIP']\n",
    "X = BIPEUArea[['M1', 'CPI', 'Unemployment_Rate','Oil_Price']]\n",
    "X = sm.add_constant(X)\n",
    "model = sm.OLS(Y,X)\n",
    "results = model.fit()\n",
    "results.params"
   ]
  },
  {
   "cell_type": "code",
   "execution_count": 13,
   "metadata": {},
   "outputs": [
    {
     "data": {
      "text/html": [
       "<table class=\"simpletable\">\n",
       "<caption>OLS Regression Results</caption>\n",
       "<tr>\n",
       "  <th>Dep. Variable:</th>           <td>BIP</td>       <th>  R-squared:         </th> <td>   0.974</td>\n",
       "</tr>\n",
       "<tr>\n",
       "  <th>Model:</th>                   <td>OLS</td>       <th>  Adj. R-squared:    </th> <td>   0.969</td>\n",
       "</tr>\n",
       "<tr>\n",
       "  <th>Method:</th>             <td>Least Squares</td>  <th>  F-statistic:       </th> <td>   214.9</td>\n",
       "</tr>\n",
       "<tr>\n",
       "  <th>Date:</th>             <td>Thu, 18 Apr 2024</td> <th>  Prob (F-statistic):</th> <td>7.41e-18</td>\n",
       "</tr>\n",
       "<tr>\n",
       "  <th>Time:</th>                 <td>16:27:32</td>     <th>  Log-Likelihood:    </th> <td> -229.67</td>\n",
       "</tr>\n",
       "<tr>\n",
       "  <th>No. Observations:</th>      <td>    28</td>      <th>  AIC:               </th> <td>   469.3</td>\n",
       "</tr>\n",
       "<tr>\n",
       "  <th>Df Residuals:</th>          <td>    23</td>      <th>  BIC:               </th> <td>   476.0</td>\n",
       "</tr>\n",
       "<tr>\n",
       "  <th>Df Model:</th>              <td>     4</td>      <th>                     </th>     <td> </td>   \n",
       "</tr>\n",
       "<tr>\n",
       "  <th>Covariance Type:</th>      <td>nonrobust</td>    <th>                     </th>     <td> </td>   \n",
       "</tr>\n",
       "</table>\n",
       "<table class=\"simpletable\">\n",
       "<tr>\n",
       "          <td></td>             <th>coef</th>     <th>std err</th>      <th>t</th>      <th>P>|t|</th>  <th>[0.025</th>    <th>0.975]</th>  \n",
       "</tr>\n",
       "<tr>\n",
       "  <th>const</th>             <td> 2.457e+04</td> <td> 1911.017</td> <td>   12.858</td> <td> 0.000</td> <td> 2.06e+04</td> <td> 2.85e+04</td>\n",
       "</tr>\n",
       "<tr>\n",
       "  <th>M1</th>                <td>    0.0001</td> <td> 7.31e-06</td> <td>   15.878</td> <td> 0.000</td> <td>    0.000</td> <td>    0.000</td>\n",
       "</tr>\n",
       "<tr>\n",
       "  <th>CPI</th>               <td>  -36.8639</td> <td>   12.420</td> <td>   -2.968</td> <td> 0.007</td> <td>  -62.558</td> <td>  -11.170</td>\n",
       "</tr>\n",
       "<tr>\n",
       "  <th>Unemployment_Rate</th> <td>  -55.0925</td> <td>   14.837</td> <td>   -3.713</td> <td> 0.001</td> <td>  -85.785</td> <td>  -24.401</td>\n",
       "</tr>\n",
       "<tr>\n",
       "  <th>Oil_Price</th>         <td>    4.7658</td> <td>    0.648</td> <td>    7.353</td> <td> 0.000</td> <td>    3.425</td> <td>    6.107</td>\n",
       "</tr>\n",
       "</table>\n",
       "<table class=\"simpletable\">\n",
       "<tr>\n",
       "  <th>Omnibus:</th>       <td> 0.067</td> <th>  Durbin-Watson:     </th> <td>   0.788</td>\n",
       "</tr>\n",
       "<tr>\n",
       "  <th>Prob(Omnibus):</th> <td> 0.967</td> <th>  Jarque-Bera (JB):  </th> <td>   0.042</td>\n",
       "</tr>\n",
       "<tr>\n",
       "  <th>Skew:</th>          <td>-0.002</td> <th>  Prob(JB):          </th> <td>   0.979</td>\n",
       "</tr>\n",
       "<tr>\n",
       "  <th>Kurtosis:</th>      <td> 2.810</td> <th>  Cond. No.          </th> <td>6.93e+08</td>\n",
       "</tr>\n",
       "</table><br/><br/>Notes:<br/>[1] Standard Errors assume that the covariance matrix of the errors is correctly specified.<br/>[2] The condition number is large, 6.93e+08. This might indicate that there are<br/>strong multicollinearity or other numerical problems."
      ],
      "text/latex": [
       "\\begin{center}\n",
       "\\begin{tabular}{lclc}\n",
       "\\toprule\n",
       "\\textbf{Dep. Variable:}     &       BIP        & \\textbf{  R-squared:         } &     0.974   \\\\\n",
       "\\textbf{Model:}             &       OLS        & \\textbf{  Adj. R-squared:    } &     0.969   \\\\\n",
       "\\textbf{Method:}            &  Least Squares   & \\textbf{  F-statistic:       } &     214.9   \\\\\n",
       "\\textbf{Date:}              & Thu, 18 Apr 2024 & \\textbf{  Prob (F-statistic):} &  7.41e-18   \\\\\n",
       "\\textbf{Time:}              &     16:27:32     & \\textbf{  Log-Likelihood:    } &   -229.67   \\\\\n",
       "\\textbf{No. Observations:}  &          28      & \\textbf{  AIC:               } &     469.3   \\\\\n",
       "\\textbf{Df Residuals:}      &          23      & \\textbf{  BIC:               } &     476.0   \\\\\n",
       "\\textbf{Df Model:}          &           4      & \\textbf{                     } &             \\\\\n",
       "\\textbf{Covariance Type:}   &    nonrobust     & \\textbf{                     } &             \\\\\n",
       "\\bottomrule\n",
       "\\end{tabular}\n",
       "\\begin{tabular}{lcccccc}\n",
       "                            & \\textbf{coef} & \\textbf{std err} & \\textbf{t} & \\textbf{P$> |$t$|$} & \\textbf{[0.025} & \\textbf{0.975]}  \\\\\n",
       "\\midrule\n",
       "\\textbf{const}              &    2.457e+04  &     1911.017     &    12.858  &         0.000        &     2.06e+04    &     2.85e+04     \\\\\n",
       "\\textbf{M1}                 &       0.0001  &     7.31e-06     &    15.878  &         0.000        &        0.000    &        0.000     \\\\\n",
       "\\textbf{CPI}                &     -36.8639  &       12.420     &    -2.968  &         0.007        &      -62.558    &      -11.170     \\\\\n",
       "\\textbf{Unemployment\\_Rate} &     -55.0925  &       14.837     &    -3.713  &         0.001        &      -85.785    &      -24.401     \\\\\n",
       "\\textbf{Oil\\_Price}         &       4.7658  &        0.648     &     7.353  &         0.000        &        3.425    &        6.107     \\\\\n",
       "\\bottomrule\n",
       "\\end{tabular}\n",
       "\\begin{tabular}{lclc}\n",
       "\\textbf{Omnibus:}       &  0.067 & \\textbf{  Durbin-Watson:     } &    0.788  \\\\\n",
       "\\textbf{Prob(Omnibus):} &  0.967 & \\textbf{  Jarque-Bera (JB):  } &    0.042  \\\\\n",
       "\\textbf{Skew:}          & -0.002 & \\textbf{  Prob(JB):          } &    0.979  \\\\\n",
       "\\textbf{Kurtosis:}      &  2.810 & \\textbf{  Cond. No.          } & 6.93e+08  \\\\\n",
       "\\bottomrule\n",
       "\\end{tabular}\n",
       "%\\caption{OLS Regression Results}\n",
       "\\end{center}\n",
       "\n",
       "Notes: \\newline\n",
       " [1] Standard Errors assume that the covariance matrix of the errors is correctly specified. \\newline\n",
       " [2] The condition number is large, 6.93e+08. This might indicate that there are \\newline\n",
       " strong multicollinearity or other numerical problems."
      ],
      "text/plain": [
       "<class 'statsmodels.iolib.summary.Summary'>\n",
       "\"\"\"\n",
       "                            OLS Regression Results                            \n",
       "==============================================================================\n",
       "Dep. Variable:                    BIP   R-squared:                       0.974\n",
       "Model:                            OLS   Adj. R-squared:                  0.969\n",
       "Method:                 Least Squares   F-statistic:                     214.9\n",
       "Date:                Thu, 18 Apr 2024   Prob (F-statistic):           7.41e-18\n",
       "Time:                        16:27:32   Log-Likelihood:                -229.67\n",
       "No. Observations:                  28   AIC:                             469.3\n",
       "Df Residuals:                      23   BIC:                             476.0\n",
       "Df Model:                           4                                         \n",
       "Covariance Type:            nonrobust                                         \n",
       "=====================================================================================\n",
       "                        coef    std err          t      P>|t|      [0.025      0.975]\n",
       "-------------------------------------------------------------------------------------\n",
       "const              2.457e+04   1911.017     12.858      0.000    2.06e+04    2.85e+04\n",
       "M1                    0.0001   7.31e-06     15.878      0.000       0.000       0.000\n",
       "CPI                 -36.8639     12.420     -2.968      0.007     -62.558     -11.170\n",
       "Unemployment_Rate   -55.0925     14.837     -3.713      0.001     -85.785     -24.401\n",
       "Oil_Price             4.7658      0.648      7.353      0.000       3.425       6.107\n",
       "==============================================================================\n",
       "Omnibus:                        0.067   Durbin-Watson:                   0.788\n",
       "Prob(Omnibus):                  0.967   Jarque-Bera (JB):                0.042\n",
       "Skew:                          -0.002   Prob(JB):                        0.979\n",
       "Kurtosis:                       2.810   Cond. No.                     6.93e+08\n",
       "==============================================================================\n",
       "\n",
       "Notes:\n",
       "[1] Standard Errors assume that the covariance matrix of the errors is correctly specified.\n",
       "[2] The condition number is large, 6.93e+08. This might indicate that there are\n",
       "strong multicollinearity or other numerical problems.\n",
       "\"\"\""
      ]
     },
     "execution_count": 13,
     "metadata": {},
     "output_type": "execute_result"
    }
   ],
   "source": [
    "results.summary()"
   ]
  },
  {
   "cell_type": "code",
   "execution_count": 2,
   "metadata": {},
   "outputs": [],
   "source": [
    "import pandas as pd\n",
    "import numpy as np\n",
    "from sklearn.linear_model import LinearRegression\n",
    "import matplotlib.pyplot as plt"
   ]
  },
  {
   "cell_type": "code",
   "execution_count": 15,
   "metadata": {},
   "outputs": [],
   "source": [
    "import pandas as pd\n",
    "\n",
    "# Specify the delimiter and encoding when reading the CSV file\n",
    "df = pd.read_csv(\"/Users/riccardo/Desktop/Repositorys_Github/Training/Scripts/models/Linear Regression/Data_EU/Mappe4.csv\", encoding='latin1', sep=';',\n",
    "                 decimal=',', thousands='.')\n"
   ]
  },
  {
   "cell_type": "code",
   "execution_count": 16,
   "metadata": {},
   "outputs": [
    {
     "data": {
      "text/html": [
       "<div>\n",
       "<style scoped>\n",
       "    .dataframe tbody tr th:only-of-type {\n",
       "        vertical-align: middle;\n",
       "    }\n",
       "\n",
       "    .dataframe tbody tr th {\n",
       "        vertical-align: top;\n",
       "    }\n",
       "\n",
       "    .dataframe thead th {\n",
       "        text-align: right;\n",
       "    }\n",
       "</style>\n",
       "<table border=\"1\" class=\"dataframe\">\n",
       "  <thead>\n",
       "    <tr style=\"text-align: right;\">\n",
       "      <th></th>\n",
       "      <th>Date</th>\n",
       "      <th>Unemployment Rate in %</th>\n",
       "      <th>Inflation rate, average consumer prices (Annual percent change)</th>\n",
       "      <th>GDP per capita, current prices\\n (U.S. dollars per capita)</th>\n",
       "      <th>M1</th>\n",
       "      <th>M2</th>\n",
       "      <th>M3</th>\n",
       "      <th>Reserve Money</th>\n",
       "    </tr>\n",
       "  </thead>\n",
       "  <tbody>\n",
       "    <tr>\n",
       "      <th>0</th>\n",
       "      <td>2018</td>\n",
       "      <td>6.77</td>\n",
       "      <td>10.6</td>\n",
       "      <td>2531.48</td>\n",
       "      <td>8.756317e+07</td>\n",
       "      <td>1.051250e+08</td>\n",
       "      <td>1.059611e+08</td>\n",
       "      <td>3.209544e+07</td>\n",
       "    </tr>\n",
       "    <tr>\n",
       "      <th>1</th>\n",
       "      <td>2019</td>\n",
       "      <td>7.37</td>\n",
       "      <td>255.3</td>\n",
       "      <td>1746.52</td>\n",
       "      <td>2.048044e+08</td>\n",
       "      <td>2.242114e+08</td>\n",
       "      <td>2.248196e+08</td>\n",
       "      <td>5.896339e+07</td>\n",
       "    </tr>\n",
       "    <tr>\n",
       "      <th>2</th>\n",
       "      <td>2020</td>\n",
       "      <td>8.65</td>\n",
       "      <td>557.2</td>\n",
       "      <td>1769.56</td>\n",
       "      <td>1.254232e+09</td>\n",
       "      <td>1.315904e+09</td>\n",
       "      <td>1.325582e+09</td>\n",
       "      <td>1.632333e+08</td>\n",
       "    </tr>\n",
       "    <tr>\n",
       "      <th>3</th>\n",
       "      <td>2021</td>\n",
       "      <td>9.54</td>\n",
       "      <td>98.5</td>\n",
       "      <td>2324.77</td>\n",
       "      <td>3.587811e+09</td>\n",
       "      <td>3.855719e+09</td>\n",
       "      <td>3.882851e+09</td>\n",
       "      <td>2.953491e+08</td>\n",
       "    </tr>\n",
       "    <tr>\n",
       "      <th>4</th>\n",
       "      <td>2022</td>\n",
       "      <td>9.26</td>\n",
       "      <td>193.4</td>\n",
       "      <td>1978.32</td>\n",
       "      <td>1.355427e+10</td>\n",
       "      <td>1.524366e+10</td>\n",
       "      <td>1.535200e+10</td>\n",
       "      <td>6.294636e+08</td>\n",
       "    </tr>\n",
       "    <tr>\n",
       "      <th>5</th>\n",
       "      <td>2023</td>\n",
       "      <td>9.12</td>\n",
       "      <td>667.4</td>\n",
       "      <td>1993.04</td>\n",
       "      <td>1.201439e+11</td>\n",
       "      <td>1.292803e+11</td>\n",
       "      <td>1.293964e+11</td>\n",
       "      <td>1.142566e+10</td>\n",
       "    </tr>\n",
       "  </tbody>\n",
       "</table>\n",
       "</div>"
      ],
      "text/plain": [
       "   Date  Unemployment Rate in %  \\\n",
       "0  2018                    6.77   \n",
       "1  2019                    7.37   \n",
       "2  2020                    8.65   \n",
       "3  2021                    9.54   \n",
       "4  2022                    9.26   \n",
       "5  2023                    9.12   \n",
       "\n",
       "   Inflation rate, average consumer prices (Annual percent change)  \\\n",
       "0                                               10.6                 \n",
       "1                                              255.3                 \n",
       "2                                              557.2                 \n",
       "3                                               98.5                 \n",
       "4                                              193.4                 \n",
       "5                                              667.4                 \n",
       "\n",
       "   GDP per capita, current prices\\n (U.S. dollars per capita)            M1  \\\n",
       "0                                            2531.48           8.756317e+07   \n",
       "1                                            1746.52           2.048044e+08   \n",
       "2                                            1769.56           1.254232e+09   \n",
       "3                                            2324.77           3.587811e+09   \n",
       "4                                            1978.32           1.355427e+10   \n",
       "5                                            1993.04           1.201439e+11   \n",
       "\n",
       "             M2            M3  Reserve Money  \n",
       "0  1.051250e+08  1.059611e+08   3.209544e+07  \n",
       "1  2.242114e+08  2.248196e+08   5.896339e+07  \n",
       "2  1.315904e+09  1.325582e+09   1.632333e+08  \n",
       "3  3.855719e+09  3.882851e+09   2.953491e+08  \n",
       "4  1.524366e+10  1.535200e+10   6.294636e+08  \n",
       "5  1.292803e+11  1.293964e+11   1.142566e+10  "
      ]
     },
     "execution_count": 16,
     "metadata": {},
     "output_type": "execute_result"
    }
   ],
   "source": [
    "df"
   ]
  },
  {
   "cell_type": "code",
   "execution_count": 21,
   "metadata": {},
   "outputs": [
    {
     "data": {
      "text/plain": [
       "Text(0, 0.5, 'M1, M2, M3')"
      ]
     },
     "execution_count": 21,
     "metadata": {},
     "output_type": "execute_result"
    },
    {
     "data": {
      "image/png": "[encoded data removed]",
      "text/plain": [
       "<Figure size 640x480 with 2 Axes>"
      ]
     },
     "metadata": {},
     "output_type": "display_data"
    }
   ],
   "source": [
    "fig, ax1 = plt.subplots()\n",
    "#unterschiedlicher marker für die verschiedenen Linien\n",
    "ax2 = ax1.twinx()\n",
    "ax1.plot(df['Date'], df['GDP per capita, current prices\\n (U.S. dollars per capita)'], color='green', linewidth=2, label='BIP' ) \n",
    "ax2.plot(df['Date'], df['M1'], color='blue', linewidth=0.5, label='M1', marker = \"v\")   \n",
    "\n",
    "\n",
    "ax1.set_ylabel('BIP', color='green')  \n",
    "ax2.set_ylabel('M1, M2, M3', color='blue')    "
   ]
  },
  {
   "cell_type": "code",
   "execution_count": 27,
   "metadata": {},
   "outputs": [
    {
     "name": "stderr",
     "output_type": "stream",
     "text": [
      "/Users/riccardo/anaconda3/envs/model/lib/python3.9/site-packages/statsmodels/stats/stattools.py:74: ValueWarning: omni_normtest is not valid with less than 8 observations; 6 samples were given.\n",
      "  warn(\"omni_normtest is not valid with less than 8 observations; %i \"\n"
     ]
    },
    {
     "data": {
      "text/html": [
       "<table class=\"simpletable\">\n",
       "<caption>OLS Regression Results</caption>\n",
       "<tr>\n",
       "  <th>Dep. Variable:</th>    <td>GDP per capita, current prices\n",
       " (U.S. dollars per capita)</td> <th>  R-squared:         </th> <td>   0.650</td>\n",
       "</tr>\n",
       "<tr>\n",
       "  <th>Model:</th>                                       <td>OLS</td>                            <th>  Adj. R-squared:    </th> <td>   0.125</td>\n",
       "</tr>\n",
       "<tr>\n",
       "  <th>Method:</th>                                 <td>Least Squares</td>                       <th>  F-statistic:       </th> <td>   1.239</td>\n",
       "</tr>\n",
       "<tr>\n",
       "  <th>Date:</th>                                 <td>Wed, 17 Apr 2024</td>                      <th>  Prob (F-statistic):</th>  <td> 0.476</td> \n",
       "</tr>\n",
       "<tr>\n",
       "  <th>Time:</th>                                     <td>13:02:51</td>                          <th>  Log-Likelihood:    </th> <td> -39.271</td>\n",
       "</tr>\n",
       "<tr>\n",
       "  <th>No. Observations:</th>                          <td>     6</td>                           <th>  AIC:               </th> <td>   86.54</td>\n",
       "</tr>\n",
       "<tr>\n",
       "  <th>Df Residuals:</th>                              <td>     2</td>                           <th>  BIC:               </th> <td>   85.71</td>\n",
       "</tr>\n",
       "<tr>\n",
       "  <th>Df Model:</th>                                  <td>     3</td>                           <th>                     </th>     <td> </td>   \n",
       "</tr>\n",
       "<tr>\n",
       "  <th>Covariance Type:</th>                          <td>nonrobust</td>                         <th>                     </th>     <td> </td>   \n",
       "</tr>\n",
       "</table>\n",
       "<table class=\"simpletable\">\n",
       "<tr>\n",
       "                                 <td></td>                                    <th>coef</th>     <th>std err</th>      <th>t</th>      <th>P>|t|</th>  <th>[0.025</th>    <th>0.975]</th>  \n",
       "</tr>\n",
       "<tr>\n",
       "  <th>const</th>                                                           <td> 2412.1059</td> <td> 1033.448</td> <td>    2.334</td> <td> 0.145</td> <td>-2034.461</td> <td> 6858.672</td>\n",
       "</tr>\n",
       "<tr>\n",
       "  <th>M1</th>                                                              <td> 4.227e-09</td> <td>  3.8e-09</td> <td>    1.113</td> <td> 0.382</td> <td>-1.21e-08</td> <td> 2.06e-08</td>\n",
       "</tr>\n",
       "<tr>\n",
       "  <th>Inflation rate, average consumer prices (Annual percent change)</th> <td>   -1.3069</td> <td>    0.699</td> <td>   -1.870</td> <td> 0.202</td> <td>   -4.314</td> <td>    1.700</td>\n",
       "</tr>\n",
       "<tr>\n",
       "  <th>Unemployment Rate in %</th>                                          <td>   -7.6185</td> <td>  125.871</td> <td>   -0.061</td> <td> 0.957</td> <td> -549.199</td> <td>  533.962</td>\n",
       "</tr>\n",
       "</table>\n",
       "<table class=\"simpletable\">\n",
       "<tr>\n",
       "  <th>Omnibus:</th>       <td>   nan</td> <th>  Durbin-Watson:     </th> <td>   2.929</td>\n",
       "</tr>\n",
       "<tr>\n",
       "  <th>Prob(Omnibus):</th> <td>   nan</td> <th>  Jarque-Bera (JB):  </th> <td>   0.695</td>\n",
       "</tr>\n",
       "<tr>\n",
       "  <th>Skew:</th>          <td>-0.542</td> <th>  Prob(JB):          </th> <td>   0.707</td>\n",
       "</tr>\n",
       "<tr>\n",
       "  <th>Kurtosis:</th>      <td> 1.734</td> <th>  Cond. No.          </th> <td>4.32e+11</td>\n",
       "</tr>\n",
       "</table><br/><br/>Notes:<br/>[1] Standard Errors assume that the covariance matrix of the errors is correctly specified.<br/>[2] The condition number is large, 4.32e+11. This might indicate that there are<br/>strong multicollinearity or other numerical problems."
      ],
      "text/latex": [
       "\\begin{center}\n",
       "\\begin{tabular}{lclc}\n",
       "\\toprule\n",
       "\\textbf{Dep. Variable:}                                                  & GDP per capita, current prices\n",
       " (U.S. dollars per capita) & \\textbf{  R-squared:         } &     0.650   \\\\\n",
       "\\textbf{Model:}                                                          &                            OLS                            & \\textbf{  Adj. R-squared:    } &     0.125   \\\\\n",
       "\\textbf{Method:}                                                         &                       Least Squares                       & \\textbf{  F-statistic:       } &     1.239   \\\\\n",
       "\\textbf{Date:}                                                           &                      Wed, 17 Apr 2024                     & \\textbf{  Prob (F-statistic):} &    0.476    \\\\\n",
       "\\textbf{Time:}                                                           &                          13:02:51                         & \\textbf{  Log-Likelihood:    } &   -39.271   \\\\\n",
       "\\textbf{No. Observations:}                                               &                                6                          & \\textbf{  AIC:               } &     86.54   \\\\\n",
       "\\textbf{Df Residuals:}                                                   &                                2                          & \\textbf{  BIC:               } &     85.71   \\\\\n",
       "\\textbf{Df Model:}                                                       &                                3                          & \\textbf{                     } &             \\\\\n",
       "\\textbf{Covariance Type:}                                                &                         nonrobust                         & \\textbf{                     } &             \\\\\n",
       "\\bottomrule\n",
       "\\end{tabular}\n",
       "\\begin{tabular}{lcccccc}\n",
       "                                                                         & \\textbf{coef} & \\textbf{std err} & \\textbf{t} & \\textbf{P$> |$t$|$} & \\textbf{[0.025} & \\textbf{0.975]}  \\\\\n",
       "\\midrule\n",
       "\\textbf{const}                                                           &    2412.1059  &     1033.448     &     2.334  &         0.145        &    -2034.461    &     6858.672     \\\\\n",
       "\\textbf{M1}                                                              &    4.227e-09  &      3.8e-09     &     1.113  &         0.382        &    -1.21e-08    &     2.06e-08     \\\\\n",
       "\\textbf{Inflation rate, average consumer prices (Annual percent change)} &      -1.3069  &        0.699     &    -1.870  &         0.202        &       -4.314    &        1.700     \\\\\n",
       "\\textbf{Unemployment Rate in \\%}                                         &      -7.6185  &      125.871     &    -0.061  &         0.957        &     -549.199    &      533.962     \\\\\n",
       "\\bottomrule\n",
       "\\end{tabular}\n",
       "\\begin{tabular}{lclc}\n",
       "\\textbf{Omnibus:}       &    nan & \\textbf{  Durbin-Watson:     } &    2.929  \\\\\n",
       "\\textbf{Prob(Omnibus):} &    nan & \\textbf{  Jarque-Bera (JB):  } &    0.695  \\\\\n",
       "\\textbf{Skew:}          & -0.542 & \\textbf{  Prob(JB):          } &    0.707  \\\\\n",
       "\\textbf{Kurtosis:}      &  1.734 & \\textbf{  Cond. No.          } & 4.32e+11  \\\\\n",
       "\\bottomrule\n",
       "\\end{tabular}\n",
       "%\\caption{OLS Regression Results}\n",
       "\\end{center}\n",
       "\n",
       "Notes: \\newline\n",
       " [1] Standard Errors assume that the covariance matrix of the errors is correctly specified. \\newline\n",
       " [2] The condition number is large, 4.32e+11. This might indicate that there are \\newline\n",
       " strong multicollinearity or other numerical problems."
      ],
      "text/plain": [
       "<class 'statsmodels.iolib.summary.Summary'>\n",
       "\"\"\"\n",
       "                                                OLS Regression Results                                               \n",
       "=====================================================================================================================\n",
       "Dep. Variable:     GDP per capita, current prices\n",
       " (U.S. dollars per capita)   R-squared:                       0.650\n",
       "Model:                                                                   OLS   Adj. R-squared:                  0.125\n",
       "Method:                                                        Least Squares   F-statistic:                     1.239\n",
       "Date:                                                       Wed, 17 Apr 2024   Prob (F-statistic):              0.476\n",
       "Time:                                                               13:02:51   Log-Likelihood:                -39.271\n",
       "No. Observations:                                                          6   AIC:                             86.54\n",
       "Df Residuals:                                                              2   BIC:                             85.71\n",
       "Df Model:                                                                  3                                         \n",
       "Covariance Type:                                                   nonrobust                                         \n",
       "===================================================================================================================================\n",
       "                                                                      coef    std err          t      P>|t|      [0.025      0.975]\n",
       "-----------------------------------------------------------------------------------------------------------------------------------\n",
       "const                                                            2412.1059   1033.448      2.334      0.145   -2034.461    6858.672\n",
       "M1                                                               4.227e-09    3.8e-09      1.113      0.382   -1.21e-08    2.06e-08\n",
       "Inflation rate, average consumer prices (Annual percent change)    -1.3069      0.699     -1.870      0.202      -4.314       1.700\n",
       "Unemployment Rate in %                                             -7.6185    125.871     -0.061      0.957    -549.199     533.962\n",
       "==============================================================================\n",
       "Omnibus:                          nan   Durbin-Watson:                   2.929\n",
       "Prob(Omnibus):                    nan   Jarque-Bera (JB):                0.695\n",
       "Skew:                          -0.542   Prob(JB):                        0.707\n",
       "Kurtosis:                       1.734   Cond. No.                     4.32e+11\n",
       "==============================================================================\n",
       "\n",
       "Notes:\n",
       "[1] Standard Errors assume that the covariance matrix of the errors is correctly specified.\n",
       "[2] The condition number is large, 4.32e+11. This might indicate that there are\n",
       "strong multicollinearity or other numerical problems.\n",
       "\"\"\""
      ]
     },
     "execution_count": 27,
     "metadata": {},
     "output_type": "execute_result"
    }
   ],
   "source": [
    "Y = df['GDP per capita, current prices\\n (U.S. dollars per capita)']\n",
    "X = df[['M1', 'Inflation rate, average consumer prices (Annual percent change)', 'Unemployment Rate in %']]\n",
    "X = sm.add_constant(X)\n",
    "model = sm.OLS(Y,X)\n",
    "results = model.fit()\n",
    "results.summary()"
   ]
  },
  {
   "cell_type": "code",
   "execution_count": null,
   "metadata": {},
   "outputs": [],
   "source": []
  },
  {
   "cell_type": "code",
   "execution_count": null,
   "metadata": {},
   "outputs": [],
   "source": []
  },
  {
   "cell_type": "code",
   "execution_count": 42,
   "metadata": {},
   "outputs": [],
   "source": [
    "import pandas as pd\n",
    "import datetime as dt\n",
    "import seaborn as sns\n",
    "import requests\n",
    "import json\n",
    "import statsmodels.api as sm\n",
    "import numpy as np"
   ]
  },
  {
   "cell_type": "code",
   "execution_count": 35,
   "metadata": {},
   "outputs": [
    {
     "name": "stdout",
     "output_type": "stream",
     "text": [
      "<class 'pandas.core.frame.DataFrame'>\n",
      "RangeIndex: 17 entries, 0 to 16\n",
      "Data columns (total 7 columns):\n",
      " #   Column                                                           Non-Null Count  Dtype  \n",
      "---  ------                                                           --------------  -----  \n",
      " 0   Jahr                                                             17 non-null     int64  \n",
      " 1   Jaehrlich M1 (Z$M)                                               17 non-null     float64\n",
      " 2   Jaehrlich M2 (Z$M)                                               17 non-null     float64\n",
      " 3   Jaehrlich M3 (Z$M)                                               17 non-null     float64\n",
      " 4   GDP per capita, current prices\n",
      " (U.S. dollars per capita)       17 non-null     float64\n",
      " 5   Inflation rate, average consumer prices (Annual percent change)  17 non-null     float64\n",
      " 6   Unemployment rate                                                17 non-null     float64\n",
      "dtypes: float64(6), int64(1)\n",
      "memory usage: 1.1 KB\n"
     ]
    }
   ],
   "source": [
    "import pandas as pd\n",
    "\n",
    "# Daten einlesen\n",
    "raw = pd.read_csv('/Users/riccardo/Desktop/Repositorys_Github/Training/Scripts/models/Linear Regression/Data_EU/Raw_data.csv', encoding='latin1', sep=';')\n",
    "\n",
    "# Datentypen formatieren\n",
    "raw['Jahr'] = raw['Jahr'].astype(int)\n",
    "raw['Jaehrlich M1 (Z$M)'] = raw['Jaehrlich M1 (Z$M)'].str.replace(',', '').astype(float)\n",
    "raw['Jaehrlich M2 (Z$M)'] = raw['Jaehrlich M2 (Z$M)'].str.replace(',', '').astype(float)\n",
    "raw['Jaehrlich M3 (Z$M)'] = raw['Jaehrlich M3 (Z$M)'].str.replace(',', '').astype(float)\n",
    "raw[\"GDP per capita, current prices\\r\\n (U.S. dollars per capita)\"] = raw[\"GDP per capita, current prices\\r\\n (U.S. dollars per capita)\"].str.replace(',', '').astype(float)\n",
    "raw['Inflation rate, average consumer prices (Annual percent change)'] = raw['Inflation rate, average consumer prices (Annual percent change)'].str.replace('%', '').str.replace(',', '.').astype(float)\n",
    "raw['Unemployment rate'] = raw['Unemployment rate'].str.replace('%', '').str.replace(',', '.').astype(float)\n",
    "\n",
    "# Informationen über die Daten anzeigen\n",
    "raw.info()\n"
   ]
  },
  {
   "cell_type": "code",
   "execution_count": 38,
   "metadata": {},
   "outputs": [
    {
     "name": "stderr",
     "output_type": "stream",
     "text": [
      "/var/folders/13/3pzxxwtd6cbdvdzq_lc6112r0000gn/T/ipykernel_11921/1570015408.py:6: FutureWarning: DataFrame.applymap has been deprecated. Use DataFrame.map instead.\n",
      "  formatierter_dataframe = raw.applymap(formatiere_zahl)\n"
     ]
    },
    {
     "data": {
      "text/html": [
       "<div>\n",
       "<style scoped>\n",
       "    .dataframe tbody tr th:only-of-type {\n",
       "        vertical-align: middle;\n",
       "    }\n",
       "\n",
       "    .dataframe tbody tr th {\n",
       "        vertical-align: top;\n",
       "    }\n",
       "\n",
       "    .dataframe thead th {\n",
       "        text-align: right;\n",
       "    }\n",
       "</style>\n",
       "<table border=\"1\" class=\"dataframe\">\n",
       "  <thead>\n",
       "    <tr style=\"text-align: right;\">\n",
       "      <th></th>\n",
       "      <th>Jahr</th>\n",
       "      <th>Jaehrlich M1 (Z$M)</th>\n",
       "      <th>Jaehrlich M2 (Z$M)</th>\n",
       "      <th>Jaehrlich M3 (Z$M)</th>\n",
       "      <th>GDP per capita, current prices\\r\\n (U.S. dollars per capita)</th>\n",
       "      <th>Inflation rate, average consumer prices (Annual percent change)</th>\n",
       "      <th>Unemployment rate</th>\n",
       "    </tr>\n",
       "  </thead>\n",
       "  <tbody>\n",
       "    <tr>\n",
       "      <th>0</th>\n",
       "      <td>1991</td>\n",
       "      <td>3099570</td>\n",
       "      <td>4979860</td>\n",
       "      <td>9406740</td>\n",
       "      <td>936263</td>\n",
       "      <td>-13</td>\n",
       "      <td>5</td>\n",
       "    </tr>\n",
       "    <tr>\n",
       "      <th>1</th>\n",
       "      <td>1992</td>\n",
       "      <td>3470590</td>\n",
       "      <td>6318490</td>\n",
       "      <td>12229270</td>\n",
       "      <td>74865</td>\n",
       "      <td>-3</td>\n",
       "      <td>5</td>\n",
       "    </tr>\n",
       "    <tr>\n",
       "      <th>2</th>\n",
       "      <td>1993</td>\n",
       "      <td>4855060</td>\n",
       "      <td>8404520</td>\n",
       "      <td>16422320</td>\n",
       "      <td>702439</td>\n",
       "      <td>0</td>\n",
       "      <td>5</td>\n",
       "    </tr>\n",
       "    <tr>\n",
       "      <th>3</th>\n",
       "      <td>1994</td>\n",
       "      <td>7110070</td>\n",
       "      <td>12659550</td>\n",
       "      <td>23905920</td>\n",
       "      <td>714032</td>\n",
       "      <td>-3</td>\n",
       "      <td>5</td>\n",
       "    </tr>\n",
       "    <tr>\n",
       "      <th>4</th>\n",
       "      <td>1995</td>\n",
       "      <td>9581820</td>\n",
       "      <td>16603730</td>\n",
       "      <td>30444860</td>\n",
       "      <td>717092</td>\n",
       "      <td>15</td>\n",
       "      <td>6</td>\n",
       "    </tr>\n",
       "    <tr>\n",
       "      <th>5</th>\n",
       "      <td>1996</td>\n",
       "      <td>13915290</td>\n",
       "      <td>28818730</td>\n",
       "      <td>38815630</td>\n",
       "      <td>849876</td>\n",
       "      <td>6</td>\n",
       "      <td>6</td>\n",
       "    </tr>\n",
       "    <tr>\n",
       "      <th>6</th>\n",
       "      <td>1997</td>\n",
       "      <td>18559710</td>\n",
       "      <td>36110100</td>\n",
       "      <td>48330140</td>\n",
       "      <td>881223</td>\n",
       "      <td>-1</td>\n",
       "      <td>7</td>\n",
       "    </tr>\n",
       "    <tr>\n",
       "      <th>7</th>\n",
       "      <td>1998</td>\n",
       "      <td>22805400</td>\n",
       "      <td>44104590</td>\n",
       "      <td>58786500</td>\n",
       "      <td>1029202</td>\n",
       "      <td>-28</td>\n",
       "      <td>6</td>\n",
       "    </tr>\n",
       "    <tr>\n",
       "      <th>8</th>\n",
       "      <td>1999</td>\n",
       "      <td>36624420</td>\n",
       "      <td>63344450</td>\n",
       "      <td>81300170</td>\n",
       "      <td>1003834</td>\n",
       "      <td>-13</td>\n",
       "      <td>6</td>\n",
       "    </tr>\n",
       "    <tr>\n",
       "      <th>9</th>\n",
       "      <td>2000</td>\n",
       "      <td>52804910</td>\n",
       "      <td>97092420</td>\n",
       "      <td>119331330</td>\n",
       "      <td>969824</td>\n",
       "      <td>4</td>\n",
       "      <td>6</td>\n",
       "    </tr>\n",
       "    <tr>\n",
       "      <th>10</th>\n",
       "      <td>2001</td>\n",
       "      <td>108836490</td>\n",
       "      <td>177162240</td>\n",
       "      <td>215071360</td>\n",
       "      <td>96408</td>\n",
       "      <td>-37</td>\n",
       "      <td>5</td>\n",
       "    </tr>\n",
       "    <tr>\n",
       "      <th>11</th>\n",
       "      <td>2002</td>\n",
       "      <td>260144270</td>\n",
       "      <td>406710360</td>\n",
       "      <td>475523327</td>\n",
       "      <td>922878</td>\n",
       "      <td>-34</td>\n",
       "      <td>5</td>\n",
       "    </tr>\n",
       "    <tr>\n",
       "      <th>12</th>\n",
       "      <td>2003</td>\n",
       "      <td>1290649250</td>\n",
       "      <td>1864874420</td>\n",
       "      <td>2052982130</td>\n",
       "      <td>822472</td>\n",
       "      <td>-9</td>\n",
       "      <td>5</td>\n",
       "    </tr>\n",
       "    <tr>\n",
       "      <th>13</th>\n",
       "      <td>2004</td>\n",
       "      <td>5594476133</td>\n",
       "      <td>7691933207</td>\n",
       "      <td>8224543460</td>\n",
       "      <td>806898</td>\n",
       "      <td>114</td>\n",
       "      <td>4</td>\n",
       "    </tr>\n",
       "    <tr>\n",
       "      <th>14</th>\n",
       "      <td>2005</td>\n",
       "      <td>22211445993</td>\n",
       "      <td>30736865038</td>\n",
       "      <td>33441288593</td>\n",
       "      <td>764632</td>\n",
       "      <td>-32</td>\n",
       "      <td>5</td>\n",
       "    </tr>\n",
       "    <tr>\n",
       "      <th>15</th>\n",
       "      <td>2006</td>\n",
       "      <td>273858109853</td>\n",
       "      <td>389289058895</td>\n",
       "      <td>413940088450</td>\n",
       "      <td>677881</td>\n",
       "      <td>33</td>\n",
       "      <td>5</td>\n",
       "    </tr>\n",
       "    <tr>\n",
       "      <th>16</th>\n",
       "      <td>2007</td>\n",
       "      <td>100558687100000</td>\n",
       "      <td>142739263050000</td>\n",
       "      <td>144173932200000</td>\n",
       "      <td>646558</td>\n",
       "      <td>-73</td>\n",
       "      <td>5</td>\n",
       "    </tr>\n",
       "  </tbody>\n",
       "</table>\n",
       "</div>"
      ],
      "text/plain": [
       "    Jahr Jaehrlich M1 (Z$M) Jaehrlich M2 (Z$M) Jaehrlich M3 (Z$M)  \\\n",
       "0   1991            3099570            4979860            9406740   \n",
       "1   1992            3470590            6318490           12229270   \n",
       "2   1993            4855060            8404520           16422320   \n",
       "3   1994            7110070           12659550           23905920   \n",
       "4   1995            9581820           16603730           30444860   \n",
       "5   1996           13915290           28818730           38815630   \n",
       "6   1997           18559710           36110100           48330140   \n",
       "7   1998           22805400           44104590           58786500   \n",
       "8   1999           36624420           63344450           81300170   \n",
       "9   2000           52804910           97092420          119331330   \n",
       "10  2001          108836490          177162240          215071360   \n",
       "11  2002          260144270          406710360          475523327   \n",
       "12  2003         1290649250         1864874420         2052982130   \n",
       "13  2004         5594476133         7691933207         8224543460   \n",
       "14  2005        22211445993        30736865038        33441288593   \n",
       "15  2006       273858109853       389289058895       413940088450   \n",
       "16  2007    100558687100000    142739263050000    144173932200000   \n",
       "\n",
       "   GDP per capita, current prices\\r\\n (U.S. dollars per capita)  \\\n",
       "0                                              936263             \n",
       "1                                               74865             \n",
       "2                                              702439             \n",
       "3                                              714032             \n",
       "4                                              717092             \n",
       "5                                              849876             \n",
       "6                                              881223             \n",
       "7                                             1029202             \n",
       "8                                             1003834             \n",
       "9                                              969824             \n",
       "10                                              96408             \n",
       "11                                             922878             \n",
       "12                                             822472             \n",
       "13                                             806898             \n",
       "14                                             764632             \n",
       "15                                             677881             \n",
       "16                                             646558             \n",
       "\n",
       "   Inflation rate, average consumer prices (Annual percent change)  \\\n",
       "0                                                 -13                \n",
       "1                                                  -3                \n",
       "2                                                   0                \n",
       "3                                                  -3                \n",
       "4                                                  15                \n",
       "5                                                   6                \n",
       "6                                                  -1                \n",
       "7                                                 -28                \n",
       "8                                                 -13                \n",
       "9                                                   4                \n",
       "10                                                -37                \n",
       "11                                                -34                \n",
       "12                                                 -9                \n",
       "13                                                114                \n",
       "14                                                -32                \n",
       "15                                                 33                \n",
       "16                                                -73                \n",
       "\n",
       "   Unemployment rate  \n",
       "0                  5  \n",
       "1                  5  \n",
       "2                  5  \n",
       "3                  5  \n",
       "4                  6  \n",
       "5                  6  \n",
       "6                  7  \n",
       "7                  6  \n",
       "8                  6  \n",
       "9                  6  \n",
       "10                 5  \n",
       "11                 5  \n",
       "12                 5  \n",
       "13                 4  \n",
       "14                 5  \n",
       "15                 5  \n",
       "16                 5  "
      ]
     },
     "execution_count": 38,
     "metadata": {},
     "output_type": "execute_result"
    }
   ],
   "source": [
    "# Funktion zur Entfernung der wissenschaftlichen Notation und Formatierung der Zahl\n",
    "def formatiere_zahl(zahl):\n",
    "    return \"{:.0f}\".format(zahl)\n",
    "\n",
    "# Wenden Sie die Funktion auf alle Elemente im DataFrame an\n",
    "formatierter_dataframe = raw.applymap(formatiere_zahl)\n",
    "\n",
    "# Ausgabe des formatierten DataFrames\n",
    "formatierter_dataframe\n"
   ]
  },
  {
   "cell_type": "code",
   "execution_count": 39,
   "metadata": {},
   "outputs": [
    {
     "data": {
      "text/plain": [
       "Index(['Jahr', 'Jaehrlich M1 (Z$M)', 'Jaehrlich M2 (Z$M)',\n",
       "       'Jaehrlich M3 (Z$M)',\n",
       "       'GDP per capita, current prices\\r\\n (U.S. dollars per capita)',\n",
       "       'Inflation rate, average consumer prices (Annual percent change)',\n",
       "       'Unemployment rate'],\n",
       "      dtype='object')"
      ]
     },
     "execution_count": 39,
     "metadata": {},
     "output_type": "execute_result"
    }
   ],
   "source": [
    "raw.columns\n"
   ]
  },
  {
   "cell_type": "code",
   "execution_count": 44,
   "metadata": {},
   "outputs": [
    {
     "name": "stderr",
     "output_type": "stream",
     "text": [
      "/Users/riccardo/anaconda3/envs/model/lib/python3.9/site-packages/scipy/stats/_stats_py.py:1806: UserWarning: kurtosistest only valid for n>=20 ... continuing anyway, n=17\n",
      "  warnings.warn(\"kurtosistest only valid for n>=20 ... continuing \"\n"
     ]
    },
    {
     "data": {
      "text/html": [
       "<table class=\"simpletable\">\n",
       "<caption>OLS Regression Results</caption>\n",
       "<tr>\n",
       "  <th>Dep. Variable:</th>    <td>GDP per capita, current prices\r\n",
       " (U.S. dollars per capita)</td> <th>  R-squared:         </th> <td>   0.123</td>\n",
       "</tr>\n",
       "<tr>\n",
       "  <th>Model:</th>                                        <td>OLS</td>                            <th>  Adj. R-squared:    </th> <td>  -0.080</td>\n",
       "</tr>\n",
       "<tr>\n",
       "  <th>Method:</th>                                  <td>Least Squares</td>                       <th>  F-statistic:       </th> <td>  0.6060</td>\n",
       "</tr>\n",
       "<tr>\n",
       "  <th>Date:</th>                                  <td>Thu, 18 Apr 2024</td>                      <th>  Prob (F-statistic):</th>  <td> 0.623</td> \n",
       "</tr>\n",
       "<tr>\n",
       "  <th>Time:</th>                                      <td>10:47:57</td>                          <th>  Log-Likelihood:    </th> <td> -235.30</td>\n",
       "</tr>\n",
       "<tr>\n",
       "  <th>No. Observations:</th>                           <td>    17</td>                           <th>  AIC:               </th> <td>   478.6</td>\n",
       "</tr>\n",
       "<tr>\n",
       "  <th>Df Residuals:</th>                               <td>    13</td>                           <th>  BIC:               </th> <td>   481.9</td>\n",
       "</tr>\n",
       "<tr>\n",
       "  <th>Df Model:</th>                                   <td>     3</td>                           <th>                     </th>     <td> </td>   \n",
       "</tr>\n",
       "<tr>\n",
       "  <th>Covariance Type:</th>                           <td>nonrobust</td>                         <th>                     </th>     <td> </td>   \n",
       "</tr>\n",
       "</table>\n",
       "<table class=\"simpletable\">\n",
       "<tr>\n",
       "                                 <td></td>                                    <th>coef</th>     <th>std err</th>      <th>t</th>      <th>P>|t|</th>  <th>[0.025</th>    <th>0.975]</th>  \n",
       "</tr>\n",
       "<tr>\n",
       "  <th>const</th>                                                           <td> 2.525e+04</td> <td> 5.72e+05</td> <td>    0.044</td> <td> 0.965</td> <td>-1.21e+06</td> <td> 1.26e+06</td>\n",
       "</tr>\n",
       "<tr>\n",
       "  <th>Jaehrlich M2 (Z$M)</th>                                              <td> 1.958e-10</td> <td> 2.35e-09</td> <td>    0.083</td> <td> 0.935</td> <td>-4.89e-09</td> <td> 5.28e-09</td>\n",
       "</tr>\n",
       "<tr>\n",
       "  <th>Inflation rate, average consumer prices (Annual percent change)</th> <td> 1313.7273</td> <td> 2137.346</td> <td>    0.615</td> <td> 0.549</td> <td>-3303.727</td> <td> 5931.182</td>\n",
       "</tr>\n",
       "<tr>\n",
       "  <th>Unemployment rate</th>                                               <td> 1.358e+05</td> <td> 1.07e+05</td> <td>    1.273</td> <td> 0.225</td> <td>-9.46e+04</td> <td> 3.66e+05</td>\n",
       "</tr>\n",
       "</table>\n",
       "<table class=\"simpletable\">\n",
       "<tr>\n",
       "  <th>Omnibus:</th>       <td>10.966</td> <th>  Durbin-Watson:     </th> <td>   2.561</td>\n",
       "</tr>\n",
       "<tr>\n",
       "  <th>Prob(Omnibus):</th> <td> 0.004</td> <th>  Jarque-Bera (JB):  </th> <td>   7.722</td>\n",
       "</tr>\n",
       "<tr>\n",
       "  <th>Skew:</th>          <td>-1.479</td> <th>  Prob(JB):          </th> <td>  0.0211</td>\n",
       "</tr>\n",
       "<tr>\n",
       "  <th>Kurtosis:</th>      <td> 4.466</td> <th>  Cond. No.          </th> <td>2.93e+14</td>\n",
       "</tr>\n",
       "</table><br/><br/>Notes:<br/>[1] Standard Errors assume that the covariance matrix of the errors is correctly specified.<br/>[2] The condition number is large, 2.93e+14. This might indicate that there are<br/>strong multicollinearity or other numerical problems."
      ],
      "text/latex": [
       "\\begin{center}\n",
       "\\begin{tabular}{lclc}\n",
       "\\toprule\n",
       "\\textbf{Dep. Variable:}                                                  & GDP per capita, current prices\r\n",
       " (U.S. dollars per capita) & \\textbf{  R-squared:         } &     0.123   \\\\\n",
       "\\textbf{Model:}                                                          &                            OLS                             & \\textbf{  Adj. R-squared:    } &    -0.080   \\\\\n",
       "\\textbf{Method:}                                                         &                       Least Squares                        & \\textbf{  F-statistic:       } &    0.6060   \\\\\n",
       "\\textbf{Date:}                                                           &                      Thu, 18 Apr 2024                      & \\textbf{  Prob (F-statistic):} &    0.623    \\\\\n",
       "\\textbf{Time:}                                                           &                          10:47:57                          & \\textbf{  Log-Likelihood:    } &   -235.30   \\\\\n",
       "\\textbf{No. Observations:}                                               &                               17                           & \\textbf{  AIC:               } &     478.6   \\\\\n",
       "\\textbf{Df Residuals:}                                                   &                               13                           & \\textbf{  BIC:               } &     481.9   \\\\\n",
       "\\textbf{Df Model:}                                                       &                                3                           & \\textbf{                     } &             \\\\\n",
       "\\textbf{Covariance Type:}                                                &                         nonrobust                          & \\textbf{                     } &             \\\\\n",
       "\\bottomrule\n",
       "\\end{tabular}\n",
       "\\begin{tabular}{lcccccc}\n",
       "                                                                         & \\textbf{coef} & \\textbf{std err} & \\textbf{t} & \\textbf{P$> |$t$|$} & \\textbf{[0.025} & \\textbf{0.975]}  \\\\\n",
       "\\midrule\n",
       "\\textbf{const}                                                           &    2.525e+04  &     5.72e+05     &     0.044  &         0.965        &    -1.21e+06    &     1.26e+06     \\\\\n",
       "\\textbf{Jaehrlich M2 (Z\\$M)}                                             &    1.958e-10  &     2.35e-09     &     0.083  &         0.935        &    -4.89e-09    &     5.28e-09     \\\\\n",
       "\\textbf{Inflation rate, average consumer prices (Annual percent change)} &    1313.7273  &     2137.346     &     0.615  &         0.549        &    -3303.727    &     5931.182     \\\\\n",
       "\\textbf{Unemployment rate}                                               &    1.358e+05  &     1.07e+05     &     1.273  &         0.225        &    -9.46e+04    &     3.66e+05     \\\\\n",
       "\\bottomrule\n",
       "\\end{tabular}\n",
       "\\begin{tabular}{lclc}\n",
       "\\textbf{Omnibus:}       & 10.966 & \\textbf{  Durbin-Watson:     } &    2.561  \\\\\n",
       "\\textbf{Prob(Omnibus):} &  0.004 & \\textbf{  Jarque-Bera (JB):  } &    7.722  \\\\\n",
       "\\textbf{Skew:}          & -1.479 & \\textbf{  Prob(JB):          } &   0.0211  \\\\\n",
       "\\textbf{Kurtosis:}      &  4.466 & \\textbf{  Cond. No.          } & 2.93e+14  \\\\\n",
       "\\bottomrule\n",
       "\\end{tabular}\n",
       "%\\caption{OLS Regression Results}\n",
       "\\end{center}\n",
       "\n",
       "Notes: \\newline\n",
       " [1] Standard Errors assume that the covariance matrix of the errors is correctly specified. \\newline\n",
       " [2] The condition number is large, 2.93e+14. This might indicate that there are \\newline\n",
       " strong multicollinearity or other numerical problems."
      ],
      "text/plain": [
       "<class 'statsmodels.iolib.summary.Summary'>\n",
       "\"\"\"\n",
       "                                                OLS Regression Results                                                \n",
       "======================================================================================================================\n",
       "Dep. Variable:     GDP per capita, current prices\n",
       " (U.S. dollars per capita)   R-squared:                       0.123\n",
       "Model:                                                                    OLS   Adj. R-squared:                 -0.080\n",
       "Method:                                                         Least Squares   F-statistic:                    0.6060\n",
       "Date:                                                        Thu, 18 Apr 2024   Prob (F-statistic):              0.623\n",
       "Time:                                                                10:47:57   Log-Likelihood:                -235.30\n",
       "No. Observations:                                                          17   AIC:                             478.6\n",
       "Df Residuals:                                                              13   BIC:                             481.9\n",
       "Df Model:                                                                   3                                         \n",
       "Covariance Type:                                                    nonrobust                                         \n",
       "===================================================================================================================================\n",
       "                                                                      coef    std err          t      P>|t|      [0.025      0.975]\n",
       "-----------------------------------------------------------------------------------------------------------------------------------\n",
       "const                                                            2.525e+04   5.72e+05      0.044      0.965   -1.21e+06    1.26e+06\n",
       "Jaehrlich M2 (Z$M)                                               1.958e-10   2.35e-09      0.083      0.935   -4.89e-09    5.28e-09\n",
       "Inflation rate, average consumer prices (Annual percent change)  1313.7273   2137.346      0.615      0.549   -3303.727    5931.182\n",
       "Unemployment rate                                                1.358e+05   1.07e+05      1.273      0.225   -9.46e+04    3.66e+05\n",
       "==============================================================================\n",
       "Omnibus:                       10.966   Durbin-Watson:                   2.561\n",
       "Prob(Omnibus):                  0.004   Jarque-Bera (JB):                7.722\n",
       "Skew:                          -1.479   Prob(JB):                       0.0211\n",
       "Kurtosis:                       4.466   Cond. No.                     2.93e+14\n",
       "==============================================================================\n",
       "\n",
       "Notes:\n",
       "[1] Standard Errors assume that the covariance matrix of the errors is correctly specified.\n",
       "[2] The condition number is large, 2.93e+14. This might indicate that there are\n",
       "strong multicollinearity or other numerical problems.\n",
       "\"\"\""
      ]
     },
     "execution_count": 44,
     "metadata": {},
     "output_type": "execute_result"
    }
   ],
   "source": [
    "X = raw[['Jaehrlich M2 (Z$M)', 'Inflation rate, average consumer prices (Annual percent change)', 'Unemployment rate']]\n",
    "Y = raw['GDP per capita, current prices\\r\\n (U.S. dollars per capita)']\n",
    "\n",
    "X = sm.add_constant(X)\n",
    "model = sm.OLS(Y,X)\n",
    "results = model.fit()\n",
    "results.summary()"
   ]
  },
  {
   "cell_type": "code",
   "execution_count": 49,
   "metadata": {},
   "outputs": [
    {
     "data": {
      "text/plain": [
       "Text(0, 0.5, 'M1, M2, M3')"
      ]
     },
     "execution_count": 49,
     "metadata": {},
     "output_type": "execute_result"
    },
    {
     "data": {
      "image/png": "[encoded data removed]",
      "text/plain": [
       "<Figure size 640x480 with 2 Axes>"
      ]
     },
     "metadata": {},
     "output_type": "display_data"
    }
   ],
   "source": [
    "fig, ax1 = plt.subplots()\n",
    "#unterschiedlicher marker für die verschiedenen Linien\n",
    "ax2 = ax1.twinx()\n",
    "ax1.plot(raw['Jahr'], raw['GDP per capita, current prices\\r\\n (U.S. dollars per capita)'], color='green', linewidth=2, label='BIP' ) \n",
    "ax2.plot(raw['Jahr'], raw['Jaehrlich M1 (Z$M)'], color='blue', linewidth=0.5, label='M1', marker = \"v\")   \n",
    "\n",
    "\n",
    "ax1.set_ylabel('BIP', color='green')  \n",
    "ax2.set_ylabel('M1, M2, M3', color='blue')    "
   ]
  },
  {
   "cell_type": "code",
   "execution_count": 47,
   "metadata": {},
   "outputs": [
    {
     "data": {
      "text/plain": [
       "Index(['Jahr', 'Jaehrlich M1 (Z$M)', 'Jaehrlich M2 (Z$M)',\n",
       "       'Jaehrlich M3 (Z$M)',\n",
       "       'GDP per capita, current prices\\r\\n (U.S. dollars per capita)',\n",
       "       'Inflation rate, average consumer prices (Annual percent change)',\n",
       "       'Unemployment rate'],\n",
       "      dtype='object')"
      ]
     },
     "execution_count": 47,
     "metadata": {},
     "output_type": "execute_result"
    }
   ],
   "source": [
    "raw.columns"
   ]
  }
 ],
 "metadata": {
  "kernelspec": {
   "display_name": "model",
   "language": "python",
   "name": "python3"
  },
  "language_info": {
   "codemirror_mode": {
    "name": "ipython",
    "version": 3
   },
   "file_extension": ".py",
   "mimetype": "text/x-python",
   "name": "python",
   "nbconvert_exporter": "python",
   "pygments_lexer": "ipython3",
   "version": "3.9.18"
  }
 },
 "nbformat": 4,
 "nbformat_minor": 2
}
