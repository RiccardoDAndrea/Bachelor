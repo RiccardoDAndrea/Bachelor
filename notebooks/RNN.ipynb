{
 "cells": [
  {
   "cell_type": "markdown",
   "metadata": {},
   "source": [
    "https://github.com/bnsreenu/python_for_microscopists/blob/master/166a-Intro_to_time_series_Forecasting_using_LSTM.py"
   ]
  },
  {
   "cell_type": "code",
   "execution_count": null,
   "metadata": {},
   "outputs": [],
   "source": [
    "!pip install matplotlib"
   ]
  },
  {
   "cell_type": "code",
   "execution_count": 1,
   "metadata": {},
   "outputs": [],
   "source": [
    "import numpy as np\n",
    "import matplotlib.pyplot as plt\n",
    "import math\n",
    "import pandas as pd\n",
    "from keras.models import Sequential\n",
    "from keras.layers import Dense\n",
    "from keras.layers import LSTM, Flatten, SimpleRNN, GRU, Dropout\n",
    "from sklearn.preprocessing import MinMaxScaler\n",
    "from sklearn.metrics import mean_squared_error\n",
    "from keras.optimizers import Adam"
   ]
  },
  {
   "cell_type": "code",
   "execution_count": 2,
   "metadata": {},
   "outputs": [
    {
     "name": "stdout",
     "output_type": "stream",
     "text": [
      "TensorFlow version: 2.13.0\n",
      "Keras version: 2.13.1\n"
     ]
    }
   ],
   "source": [
    "import tensorflow as tf\n",
    "import keras as keras\n",
    "print(\"TensorFlow version:\", tf.__version__)\n",
    "print(\"Keras version:\", keras.__version__)"
   ]
  },
  {
   "cell_type": "code",
   "execution_count": 16,
   "metadata": {},
   "outputs": [
    {
     "data": {
      "text/plain": [
       "(23477, 1)"
      ]
     },
     "execution_count": 16,
     "metadata": {},
     "output_type": "execute_result"
    }
   ],
   "source": [
    "dataframe = pd.read_csv(\"/Users/riccardo/Desktop/Github/Exploring-the-power-of-rnns/data/processed/Weather_data.csv\", usecols=[2])\n",
    "dataframe = dataframe.dropna()\n",
    "#plt.plot(dataframe)\n",
    "dataframe.shape"
   ]
  },
  {
   "cell_type": "code",
   "execution_count": 17,
   "metadata": {},
   "outputs": [
    {
     "data": {
      "text/plain": [
       "(23477, 1)"
      ]
     },
     "execution_count": 17,
     "metadata": {},
     "output_type": "execute_result"
    }
   ],
   "source": [
    "#Convert pandas dataframe to numpy array\n",
    "dataset = dataframe.values\n",
    "dataset = dataset.astype('float32')\n",
    "dataset.shape\n",
    "# Datentypen ändern von int64 zu float32\n",
    "# sobald die values sind die bereits float 64 "
   ]
  },
  {
   "cell_type": "code",
   "execution_count": 18,
   "metadata": {},
   "outputs": [
    {
     "name": "stdout",
     "output_type": "stream",
     "text": [
      "(23477, 1)\n"
     ]
    },
    {
     "data": {
      "text/plain": [
       "array([[6.4],\n",
       "       [8.4],\n",
       "       [8.1],\n",
       "       ...,\n",
       "       [8.1],\n",
       "       [8.2],\n",
       "       [7.1]], dtype=float32)"
      ]
     },
     "execution_count": 18,
     "metadata": {},
     "output_type": "execute_result"
    }
   ],
   "source": [
    "print(dataset.shape)\n",
    "dataset"
   ]
  },
  {
   "cell_type": "code",
   "execution_count": 19,
   "metadata": {},
   "outputs": [
    {
     "data": {
      "text/plain": [
       "(23477, 1)"
      ]
     },
     "execution_count": 19,
     "metadata": {},
     "output_type": "execute_result"
    }
   ],
   "source": [
    "# LSTM uses sigmoid and tanh that are sensitive to magnitude so values need to be normalized\n",
    "# normalize the dataset\n",
    "scaler = MinMaxScaler(feature_range=(0, 1)) #Also try QuantileTransformer\n",
    "dataset = scaler.fit_transform(dataset)\n",
    "dataset.shape\n",
    "\n",
    "# Daten umarrangerien damit sie eine Saklierung haben von 0 bis 1. Wobei 1 = max und 0 = min\n",
    "#scaler.fit = transformiert erst die daten die zeile davor"
   ]
  },
  {
   "cell_type": "code",
   "execution_count": 20,
   "metadata": {},
   "outputs": [],
   "source": [
    "train_size = int(len(dataset) * 0.66)\n",
    "test_size = len(dataset) - train_size\n",
    "train, test = dataset[0:train_size,:], dataset[train_size:len(dataset),:]\n",
    "\n",
    "\n",
    "# daten aufteilen in train und test\n",
    "# validation data kommt er später"
   ]
  },
  {
   "cell_type": "code",
   "execution_count": 21,
   "metadata": {},
   "outputs": [],
   "source": [
    "def to_sequences(dataset, seq_size=1):\n",
    "    x = []\n",
    "    y = []\n",
    "\n",
    "    for i in range(len(dataset)-seq_size-1):\n",
    "        #print(i)\n",
    "        window = dataset[i:(i+seq_size), 0]\n",
    "        x.append(window)\n",
    "        y.append(dataset[i+seq_size, 0])\n",
    "        \n",
    "    return np.array(x),np.array(y)\n",
    "\n",
    "\n",
    "# Dieser Prozess hilft dem RNN-Modell, zeitliche Abhängigkeiten \n",
    "# und Muster im Datensatz zu lernen, indem es auf frühere Werte in \n",
    "# den Sequenzen zurückgreift, um zukünftige Werte vorherzusagen."
   ]
  },
  {
   "cell_type": "code",
   "execution_count": 22,
   "metadata": {},
   "outputs": [
    {
     "name": "stdout",
     "output_type": "stream",
     "text": [
      "Shape of training set: (15488, 5)\n",
      "Shape of test set: (7977, 5)\n"
     ]
    }
   ],
   "source": [
    "seq_size = 5  # Number of time steps to look back \n",
    "#Larger sequences (look further back) may improve forecasting.\n",
    "\n",
    "trainX, trainY = to_sequences(train, seq_size)\n",
    "testX, testY = to_sequences(test, seq_size)\n",
    "\n",
    "\n",
    "\n",
    "print(\"Shape of training set: {}\".format(trainX.shape))\n",
    "print(\"Shape of test set: {}\".format(testX.shape))"
   ]
  },
  {
   "cell_type": "code",
   "execution_count": 23,
   "metadata": {},
   "outputs": [],
   "source": [
    "# Reshape input to be [samples, time steps, features]\n",
    "trainX = np.reshape(trainX, (trainX.shape[0], 1, trainX.shape[1]))\n",
    "testX = np.reshape(testX, (testX.shape[0], 1, testX.shape[1]))"
   ]
  },
  {
   "cell_type": "code",
   "execution_count": 24,
   "metadata": {},
   "outputs": [
    {
     "name": "stdout",
     "output_type": "stream",
     "text": [
      "Model: \"sequential_3\"\n",
      "_________________________________________________________________\n",
      " Layer (type)                Output Shape              Param #   \n",
      "=================================================================\n",
      " lstm_6 (LSTM)               (None, None, 64)          17920     \n",
      "                                                                 \n",
      " lstm_7 (LSTM)               (None, 32)                12416     \n",
      "                                                                 \n",
      " dense_4 (Dense)             (None, 1)                 33        \n",
      "                                                                 \n",
      "=================================================================\n",
      "Total params: 30369 (118.63 KB)\n",
      "Trainable params: 30369 (118.63 KB)\n",
      "Non-trainable params: 0 (0.00 Byte)\n",
      "_________________________________________________________________\n"
     ]
    }
   ],
   "source": [
    "model = Sequential()\n",
    "model.add(LSTM(64, input_shape=(None, seq_size), return_sequences=True))\n",
    "model.add(LSTM(32, return_sequences=False))\n",
    "model.add(Dense(1))\n",
    "model.compile(loss='mean_squared_error', optimizer='adam')\n",
    "# Optimizer mit spezifischer Lernrate\n",
    "#optimizer = Adam(learning_rate=0.1)\n",
    "\n",
    "# Modell kompilieren mit geeigneten Metriken\n",
    "model.compile(loss='mean_squared_error', optimizer='adam')\n",
    "\n",
    "\n",
    "model.summary()"
   ]
  },
  {
   "cell_type": "code",
   "execution_count": 25,
   "metadata": {},
   "outputs": [
    {
     "name": "stdout",
     "output_type": "stream",
     "text": [
      "Epoch 1/10\n",
      "484/484 - 2s - loss: 0.0125 - val_loss: 0.0051 - 2s/epoch - 4ms/step\n",
      "Epoch 2/10\n",
      "484/484 - 1s - loss: 0.0043 - val_loss: 0.0040 - 504ms/epoch - 1ms/step\n",
      "Epoch 3/10\n",
      "484/484 - 0s - loss: 0.0041 - val_loss: 0.0038 - 485ms/epoch - 1ms/step\n",
      "Epoch 4/10\n",
      "484/484 - 0s - loss: 0.0040 - val_loss: 0.0038 - 481ms/epoch - 994us/step\n",
      "Epoch 5/10\n",
      "484/484 - 0s - loss: 0.0040 - val_loss: 0.0038 - 492ms/epoch - 1ms/step\n",
      "Epoch 6/10\n",
      "484/484 - 0s - loss: 0.0040 - val_loss: 0.0038 - 494ms/epoch - 1ms/step\n",
      "Epoch 7/10\n",
      "484/484 - 0s - loss: 0.0039 - val_loss: 0.0037 - 485ms/epoch - 1ms/step\n",
      "Epoch 8/10\n",
      "484/484 - 0s - loss: 0.0039 - val_loss: 0.0038 - 488ms/epoch - 1ms/step\n",
      "Epoch 9/10\n",
      "484/484 - 0s - loss: 0.0039 - val_loss: 0.0038 - 488ms/epoch - 1ms/step\n",
      "Epoch 10/10\n",
      "484/484 - 0s - loss: 0.0039 - val_loss: 0.0037 - 486ms/epoch - 1ms/step\n"
     ]
    }
   ],
   "source": [
    "history = model.fit(trainX, trainY, validation_data=(testX, testY), verbose=2, epochs=10)\n"
   ]
  },
  {
   "cell_type": "code",
   "execution_count": 26,
   "metadata": {},
   "outputs": [
    {
     "data": {
      "image/png": "[encoded data removed]",
      "text/plain": [
       "<Figure size 640x480 with 1 Axes>"
      ]
     },
     "metadata": {},
     "output_type": "display_data"
    }
   ],
   "source": [
    "# Visualisierung des Verlustverlaufs\n",
    "plt.plot(history.history['loss'], label='Train Loss')\n",
    "plt.plot(history.history['val_loss'], label='Validation Loss')\n",
    "plt.title('Model Loss')\n",
    "plt.ylabel('Loss')\n",
    "plt.xlabel('Epoch')\n",
    "plt.legend(loc='upper right')\n",
    "plt.show()\n",
    "\n",
    "# Falls zusätzliche Metriken vorhanden sind, wie z.B. MAE\n",
    "if 'mean_absolute_error' in history.history:\n",
    "    plt.plot(history.history['mean_absolute_error'], label='Train MAE')\n",
    "    plt.plot(history.history['val_mean_absolute_error'], label='Validation MAE')\n",
    "    plt.title('Model MAE')\n",
    "    plt.ylabel('MAE')\n",
    "    plt.xlabel('Epoch')\n",
    "    plt.legend(loc='upper right')\n",
    "    plt.show()"
   ]
  },
  {
   "cell_type": "code",
   "execution_count": 27,
   "metadata": {},
   "outputs": [
    {
     "name": "stdout",
     "output_type": "stream",
     "text": [
      "(15488, 1, 5) (15488,) (7977, 1, 5) (7977,)\n"
     ]
    }
   ],
   "source": [
    "print(trainX.shape, trainY.shape, testX.shape, testY.shape)"
   ]
  },
  {
   "cell_type": "code",
   "execution_count": 28,
   "metadata": {},
   "outputs": [
    {
     "name": "stdout",
     "output_type": "stream",
     "text": [
      "250/250 [==============================] - 0s 459us/step\n"
     ]
    },
    {
     "data": {
      "image/png": "[encoded data removed]",
      "text/plain": [
       "<Figure size 640x480 with 1 Axes>"
      ]
     },
     "metadata": {},
     "output_type": "display_data"
    }
   ],
   "source": [
    "predictions = model.predict(testX)\n",
    "\n",
    "# Visualisierung der Vorhersagen im Vergleich zu den tatsächlichen Werten\n",
    "plt.plot(testY, label='Actual')\n",
    "plt.plot(predictions, label='Predicted')\n",
    "plt.title('Actual vs Predicted')\n",
    "plt.ylabel('Value')\n",
    "plt.xlabel('Sample')\n",
    "plt.legend(loc='upper right')\n",
    "plt.show()"
   ]
  },
  {
   "cell_type": "code",
   "execution_count": 29,
   "metadata": {},
   "outputs": [
    {
     "name": "stdout",
     "output_type": "stream",
     "text": [
      "484/484 [==============================] - 0s 470us/step\n",
      "250/250 [==============================] - 0s 428us/step\n"
     ]
    },
    {
     "data": {
      "text/plain": [
       "((15488, 1), (7977, 1))"
      ]
     },
     "execution_count": 29,
     "metadata": {},
     "output_type": "execute_result"
    }
   ],
   "source": [
    "trainPredict = model.predict(trainX)\n",
    "testPredict = model.predict(testX)\n",
    "trainPredict.shape, testPredict.shape"
   ]
  },
  {
   "cell_type": "code",
   "execution_count": 30,
   "metadata": {},
   "outputs": [
    {
     "data": {
      "text/plain": [
       "((15488, 1, 5), (15488,), (7977, 1, 5), (7977,))"
      ]
     },
     "execution_count": 30,
     "metadata": {},
     "output_type": "execute_result"
    }
   ],
   "source": [
    "trainX.shape, trainY.shape, testX.shape, testY.shape\n"
   ]
  },
  {
   "cell_type": "code",
   "execution_count": 31,
   "metadata": {},
   "outputs": [],
   "source": [
    "trainPredict = scaler.inverse_transform(trainPredict)\n",
    "trainY = scaler.inverse_transform([trainY])\n",
    "testPredict = scaler.inverse_transform(testPredict)\n",
    "testY = scaler.inverse_transform([testY])"
   ]
  },
  {
   "cell_type": "code",
   "execution_count": 14,
   "metadata": {},
   "outputs": [
    {
     "name": "stdout",
     "output_type": "stream",
     "text": [
      "(6074, 1) (6074,)\n"
     ]
    },
    {
     "data": {
      "text/plain": [
       "((3127, 1), (3127,))"
      ]
     },
     "execution_count": 14,
     "metadata": {},
     "output_type": "execute_result"
    }
   ],
   "source": [
    "print(trainPredict.shape, trainY.shape)\n",
    "testPredict.shape, testY.shape"
   ]
  },
  {
   "cell_type": "code",
   "execution_count": 32,
   "metadata": {},
   "outputs": [
    {
     "data": {
      "text/plain": [
       "((15488,), (15488, 1))"
      ]
     },
     "execution_count": 32,
     "metadata": {},
     "output_type": "execute_result"
    }
   ],
   "source": [
    "trainPredict[:,0].shape, trainPredict.shape\n"
   ]
  },
  {
   "cell_type": "code",
   "execution_count": 33,
   "metadata": {},
   "outputs": [
    {
     "data": {
      "text/plain": [
       "array([9.127868 , 9.066675 , 8.5863285, ..., 6.853397 , 7.955451 ,\n",
       "       7.691874 ], dtype=float32)"
      ]
     },
     "execution_count": 33,
     "metadata": {},
     "output_type": "execute_result"
    }
   ],
   "source": [
    "trainPredict[:,0]"
   ]
  },
  {
   "cell_type": "code",
   "execution_count": 34,
   "metadata": {},
   "outputs": [
    {
     "ename": "InvalidArgumentError",
     "evalue": "Graph execution error:\n\nDetected at node 'while/MatMul' defined at (most recent call last):\n    File \"/Users/riccardo/anaconda3/lib/python3.10/runpy.py\", line 196, in _run_module_as_main\n      return _run_code(code, main_globals, None,\n    File \"/Users/riccardo/anaconda3/lib/python3.10/runpy.py\", line 86, in _run_code\n      exec(code, run_globals)\n    File \"/Users/riccardo/Desktop/Github/Exploring-the-power-of-rnns/venv2/lib/python3.10/site-packages/ipykernel_launcher.py\", line 18, in <module>\n      app.launch_new_instance()\n    File \"/Users/riccardo/Desktop/Github/Exploring-the-power-of-rnns/venv2/lib/python3.10/site-packages/traitlets/config/application.py\", line 1075, in launch_instance\n      app.start()\n    File \"/Users/riccardo/Desktop/Github/Exploring-the-power-of-rnns/venv2/lib/python3.10/site-packages/ipykernel/kernelapp.py\", line 739, in start\n      self.io_loop.start()\n    File \"/Users/riccardo/Desktop/Github/Exploring-the-power-of-rnns/venv2/lib/python3.10/site-packages/tornado/platform/asyncio.py\", line 205, in start\n      self.asyncio_loop.run_forever()\n    File \"/Users/riccardo/anaconda3/lib/python3.10/asyncio/base_events.py\", line 603, in run_forever\n      self._run_once()\n    File \"/Users/riccardo/anaconda3/lib/python3.10/asyncio/base_events.py\", line 1906, in _run_once\n      handle._run()\n    File \"/Users/riccardo/anaconda3/lib/python3.10/asyncio/events.py\", line 80, in _run\n      self._context.run(self._callback, *self._args)\n    File \"/Users/riccardo/Desktop/Github/Exploring-the-power-of-rnns/venv2/lib/python3.10/site-packages/ipykernel/kernelbase.py\", line 545, in dispatch_queue\n      await self.process_one()\n    File \"/Users/riccardo/Desktop/Github/Exploring-the-power-of-rnns/venv2/lib/python3.10/site-packages/ipykernel/kernelbase.py\", line 534, in process_one\n      await dispatch(*args)\n    File \"/Users/riccardo/Desktop/Github/Exploring-the-power-of-rnns/venv2/lib/python3.10/site-packages/ipykernel/kernelbase.py\", line 437, in dispatch_shell\n      await result\n    File \"/Users/riccardo/Desktop/Github/Exploring-the-power-of-rnns/venv2/lib/python3.10/site-packages/ipykernel/ipkernel.py\", line 362, in execute_request\n      await super().execute_request(stream, ident, parent)\n    File \"/Users/riccardo/Desktop/Github/Exploring-the-power-of-rnns/venv2/lib/python3.10/site-packages/ipykernel/kernelbase.py\", line 778, in execute_request\n      reply_content = await reply_content\n    File \"/Users/riccardo/Desktop/Github/Exploring-the-power-of-rnns/venv2/lib/python3.10/site-packages/ipykernel/ipkernel.py\", line 449, in do_execute\n      res = shell.run_cell(\n    File \"/Users/riccardo/Desktop/Github/Exploring-the-power-of-rnns/venv2/lib/python3.10/site-packages/ipykernel/zmqshell.py\", line 549, in run_cell\n      return super().run_cell(*args, **kwargs)\n    File \"/Users/riccardo/Desktop/Github/Exploring-the-power-of-rnns/venv2/lib/python3.10/site-packages/IPython/core/interactiveshell.py\", line 3075, in run_cell\n      result = self._run_cell(\n    File \"/Users/riccardo/Desktop/Github/Exploring-the-power-of-rnns/venv2/lib/python3.10/site-packages/IPython/core/interactiveshell.py\", line 3130, in _run_cell\n      result = runner(coro)\n    File \"/Users/riccardo/Desktop/Github/Exploring-the-power-of-rnns/venv2/lib/python3.10/site-packages/IPython/core/async_helpers.py\", line 128, in _pseudo_sync_runner\n      coro.send(None)\n    File \"/Users/riccardo/Desktop/Github/Exploring-the-power-of-rnns/venv2/lib/python3.10/site-packages/IPython/core/interactiveshell.py\", line 3334, in run_cell_async\n      has_raised = await self.run_ast_nodes(code_ast.body, cell_name,\n    File \"/Users/riccardo/Desktop/Github/Exploring-the-power-of-rnns/venv2/lib/python3.10/site-packages/IPython/core/interactiveshell.py\", line 3517, in run_ast_nodes\n      if await self.run_code(code, result, async_=asy):\n    File \"/Users/riccardo/Desktop/Github/Exploring-the-power-of-rnns/venv2/lib/python3.10/site-packages/IPython/core/interactiveshell.py\", line 3577, in run_code\n      exec(code_obj, self.user_global_ns, self.user_ns)\n    File \"/var/folders/13/3pzxxwtd6cbdvdzq_lc6112r0000gn/T/ipykernel_81280/1609873718.py\", line 13, in <module>\n      next_pred = model.predict(last_known_data.reshape(1, seq_size, 1))\n    File \"/Users/riccardo/Desktop/Github/Exploring-the-power-of-rnns/venv2/lib/python3.10/site-packages/keras/src/utils/traceback_utils.py\", line 65, in error_handler\n      return fn(*args, **kwargs)\n    File \"/Users/riccardo/Desktop/Github/Exploring-the-power-of-rnns/venv2/lib/python3.10/site-packages/keras/src/engine/training.py\", line 2554, in predict\n      tmp_batch_outputs = self.predict_function(iterator)\n    File \"/Users/riccardo/Desktop/Github/Exploring-the-power-of-rnns/venv2/lib/python3.10/site-packages/keras/src/engine/training.py\", line 2341, in predict_function\n      return step_function(self, iterator)\n    File \"/Users/riccardo/Desktop/Github/Exploring-the-power-of-rnns/venv2/lib/python3.10/site-packages/keras/src/engine/training.py\", line 2327, in step_function\n      outputs = model.distribute_strategy.run(run_step, args=(data,))\n    File \"/Users/riccardo/Desktop/Github/Exploring-the-power-of-rnns/venv2/lib/python3.10/site-packages/keras/src/engine/training.py\", line 2315, in run_step\n      outputs = model.predict_step(data)\n    File \"/Users/riccardo/Desktop/Github/Exploring-the-power-of-rnns/venv2/lib/python3.10/site-packages/keras/src/engine/training.py\", line 2283, in predict_step\n      return self(x, training=False)\n    File \"/Users/riccardo/Desktop/Github/Exploring-the-power-of-rnns/venv2/lib/python3.10/site-packages/keras/src/utils/traceback_utils.py\", line 65, in error_handler\n      return fn(*args, **kwargs)\n    File \"/Users/riccardo/Desktop/Github/Exploring-the-power-of-rnns/venv2/lib/python3.10/site-packages/keras/src/engine/training.py\", line 569, in __call__\n      return super().__call__(*args, **kwargs)\n    File \"/Users/riccardo/Desktop/Github/Exploring-the-power-of-rnns/venv2/lib/python3.10/site-packages/keras/src/utils/traceback_utils.py\", line 65, in error_handler\n      return fn(*args, **kwargs)\n    File \"/Users/riccardo/Desktop/Github/Exploring-the-power-of-rnns/venv2/lib/python3.10/site-packages/keras/src/engine/base_layer.py\", line 1150, in __call__\n      outputs = call_fn(inputs, *args, **kwargs)\n    File \"/Users/riccardo/Desktop/Github/Exploring-the-power-of-rnns/venv2/lib/python3.10/site-packages/keras/src/utils/traceback_utils.py\", line 96, in error_handler\n      return fn(*args, **kwargs)\n    File \"/Users/riccardo/Desktop/Github/Exploring-the-power-of-rnns/venv2/lib/python3.10/site-packages/keras/src/engine/sequential.py\", line 405, in call\n      return super().call(inputs, training=training, mask=mask)\n    File \"/Users/riccardo/Desktop/Github/Exploring-the-power-of-rnns/venv2/lib/python3.10/site-packages/keras/src/engine/functional.py\", line 512, in call\n      return self._run_internal_graph(inputs, training=training, mask=mask)\n    File \"/Users/riccardo/Desktop/Github/Exploring-the-power-of-rnns/venv2/lib/python3.10/site-packages/keras/src/engine/functional.py\", line 669, in _run_internal_graph\n      outputs = node.layer(*args, **kwargs)\n    File \"/Users/riccardo/Desktop/Github/Exploring-the-power-of-rnns/venv2/lib/python3.10/site-packages/keras/src/layers/rnn/base_rnn.py\", line 556, in __call__\n      return super().__call__(inputs, **kwargs)\n    File \"/Users/riccardo/Desktop/Github/Exploring-the-power-of-rnns/venv2/lib/python3.10/site-packages/keras/src/utils/traceback_utils.py\", line 65, in error_handler\n      return fn(*args, **kwargs)\n    File \"/Users/riccardo/Desktop/Github/Exploring-the-power-of-rnns/venv2/lib/python3.10/site-packages/keras/src/engine/base_layer.py\", line 1150, in __call__\n      outputs = call_fn(inputs, *args, **kwargs)\n    File \"/Users/riccardo/Desktop/Github/Exploring-the-power-of-rnns/venv2/lib/python3.10/site-packages/keras/src/utils/traceback_utils.py\", line 96, in error_handler\n      return fn(*args, **kwargs)\n    File \"/Users/riccardo/Desktop/Github/Exploring-the-power-of-rnns/venv2/lib/python3.10/site-packages/keras/src/layers/rnn/lstm.py\", line 749, in call\n      ) = lstm_with_backend_selection(**normal_lstm_kwargs)\n    File \"/Users/riccardo/Desktop/Github/Exploring-the-power-of-rnns/venv2/lib/python3.10/site-packages/keras/src/layers/rnn/lstm.py\", line 1339, in lstm_with_backend_selection\n      last_output, outputs, new_h, new_c, runtime = defun_standard_lstm(\n    File \"/Users/riccardo/Desktop/Github/Exploring-the-power-of-rnns/venv2/lib/python3.10/site-packages/keras/src/layers/rnn/lstm.py\", line 981, in standard_lstm\n      last_output, outputs, new_states = backend.rnn(\n    File \"/Users/riccardo/Desktop/Github/Exploring-the-power-of-rnns/venv2/lib/python3.10/site-packages/keras/src/backend.py\", line 5170, in rnn\n      final_outputs = tf.compat.v1.while_loop(\n    File \"/Users/riccardo/Desktop/Github/Exploring-the-power-of-rnns/venv2/lib/python3.10/site-packages/keras/src/backend.py\", line 5149, in _step\n      output, new_states = step_function(\n    File \"/Users/riccardo/Desktop/Github/Exploring-the-power-of-rnns/venv2/lib/python3.10/site-packages/keras/src/layers/rnn/lstm.py\", line 967, in step\n      z = backend.dot(cell_inputs, kernel)\n    File \"/Users/riccardo/Desktop/Github/Exploring-the-power-of-rnns/venv2/lib/python3.10/site-packages/keras/src/backend.py\", line 2465, in dot\n      out = tf.matmul(x, y)\nNode: 'while/MatMul'\nMatrix size-incompatible: In[0]: [1,1], In[1]: [5,256]\n\t [[{{node while/MatMul}}]]\n\t [[sequential_3/lstm_6/PartitionedCall]] [Op:__inference_predict_function_40933]",
     "output_type": "error",
     "traceback": [
      "\u001b[0;31m---------------------------------------------------------------------------\u001b[0m",
      "\u001b[0;31mInvalidArgumentError\u001b[0m                      Traceback (most recent call last)",
      "Cell \u001b[0;32mIn[34], line 13\u001b[0m\n\u001b[1;32m     10\u001b[0m \u001b[38;5;66;03m# Schleife, um die zukünftigen Werte zu generieren\u001b[39;00m\n\u001b[1;32m     11\u001b[0m \u001b[38;5;28;01mfor\u001b[39;00m _ \u001b[38;5;129;01min\u001b[39;00m \u001b[38;5;28mrange\u001b[39m(future_days):\n\u001b[1;32m     12\u001b[0m     \u001b[38;5;66;03m# Machen Sie eine Vorhersage für den nächsten Tag\u001b[39;00m\n\u001b[0;32m---> 13\u001b[0m     next_pred \u001b[38;5;241m=\u001b[39m \u001b[43mmodel\u001b[49m\u001b[38;5;241;43m.\u001b[39;49m\u001b[43mpredict\u001b[49m\u001b[43m(\u001b[49m\u001b[43mlast_known_data\u001b[49m\u001b[38;5;241;43m.\u001b[39;49m\u001b[43mreshape\u001b[49m\u001b[43m(\u001b[49m\u001b[38;5;241;43m1\u001b[39;49m\u001b[43m,\u001b[49m\u001b[43m \u001b[49m\u001b[43mseq_size\u001b[49m\u001b[43m,\u001b[49m\u001b[43m \u001b[49m\u001b[38;5;241;43m1\u001b[39;49m\u001b[43m)\u001b[49m\u001b[43m)\u001b[49m\n\u001b[1;32m     15\u001b[0m     \u001b[38;5;66;03m# Speichern Sie die Vorhersage\u001b[39;00m\n\u001b[1;32m     16\u001b[0m     futurePredict\u001b[38;5;241m.\u001b[39mappend(next_pred[\u001b[38;5;241m0\u001b[39m, \u001b[38;5;241m0\u001b[39m])\n",
      "File \u001b[0;32m~/Desktop/Github/Exploring-the-power-of-rnns/venv2/lib/python3.10/site-packages/keras/src/utils/traceback_utils.py:70\u001b[0m, in \u001b[0;36mfilter_traceback.<locals>.error_handler\u001b[0;34m(*args, **kwargs)\u001b[0m\n\u001b[1;32m     67\u001b[0m     filtered_tb \u001b[38;5;241m=\u001b[39m _process_traceback_frames(e\u001b[38;5;241m.\u001b[39m__traceback__)\n\u001b[1;32m     68\u001b[0m     \u001b[38;5;66;03m# To get the full stack trace, call:\u001b[39;00m\n\u001b[1;32m     69\u001b[0m     \u001b[38;5;66;03m# `tf.debugging.disable_traceback_filtering()`\u001b[39;00m\n\u001b[0;32m---> 70\u001b[0m     \u001b[38;5;28;01mraise\u001b[39;00m e\u001b[38;5;241m.\u001b[39mwith_traceback(filtered_tb) \u001b[38;5;28;01mfrom\u001b[39;00m \u001b[38;5;28;01mNone\u001b[39;00m\n\u001b[1;32m     71\u001b[0m \u001b[38;5;28;01mfinally\u001b[39;00m:\n\u001b[1;32m     72\u001b[0m     \u001b[38;5;28;01mdel\u001b[39;00m filtered_tb\n",
      "File \u001b[0;32m~/Desktop/Github/Exploring-the-power-of-rnns/venv2/lib/python3.10/site-packages/tensorflow/python/eager/execute.py:53\u001b[0m, in \u001b[0;36mquick_execute\u001b[0;34m(op_name, num_outputs, inputs, attrs, ctx, name)\u001b[0m\n\u001b[1;32m     51\u001b[0m \u001b[38;5;28;01mtry\u001b[39;00m:\n\u001b[1;32m     52\u001b[0m   ctx\u001b[38;5;241m.\u001b[39mensure_initialized()\n\u001b[0;32m---> 53\u001b[0m   tensors \u001b[38;5;241m=\u001b[39m pywrap_tfe\u001b[38;5;241m.\u001b[39mTFE_Py_Execute(ctx\u001b[38;5;241m.\u001b[39m_handle, device_name, op_name,\n\u001b[1;32m     54\u001b[0m                                       inputs, attrs, num_outputs)\n\u001b[1;32m     55\u001b[0m \u001b[38;5;28;01mexcept\u001b[39;00m core\u001b[38;5;241m.\u001b[39m_NotOkStatusException \u001b[38;5;28;01mas\u001b[39;00m e:\n\u001b[1;32m     56\u001b[0m   \u001b[38;5;28;01mif\u001b[39;00m name \u001b[38;5;129;01mis\u001b[39;00m \u001b[38;5;129;01mnot\u001b[39;00m \u001b[38;5;28;01mNone\u001b[39;00m:\n",
      "\u001b[0;31mInvalidArgumentError\u001b[0m: Graph execution error:\n\nDetected at node 'while/MatMul' defined at (most recent call last):\n    File \"/Users/riccardo/anaconda3/lib/python3.10/runpy.py\", line 196, in _run_module_as_main\n      return _run_code(code, main_globals, None,\n    File \"/Users/riccardo/anaconda3/lib/python3.10/runpy.py\", line 86, in _run_code\n      exec(code, run_globals)\n    File \"/Users/riccardo/Desktop/Github/Exploring-the-power-of-rnns/venv2/lib/python3.10/site-packages/ipykernel_launcher.py\", line 18, in <module>\n      app.launch_new_instance()\n    File \"/Users/riccardo/Desktop/Github/Exploring-the-power-of-rnns/venv2/lib/python3.10/site-packages/traitlets/config/application.py\", line 1075, in launch_instance\n      app.start()\n    File \"/Users/riccardo/Desktop/Github/Exploring-the-power-of-rnns/venv2/lib/python3.10/site-packages/ipykernel/kernelapp.py\", line 739, in start\n      self.io_loop.start()\n    File \"/Users/riccardo/Desktop/Github/Exploring-the-power-of-rnns/venv2/lib/python3.10/site-packages/tornado/platform/asyncio.py\", line 205, in start\n      self.asyncio_loop.run_forever()\n    File \"/Users/riccardo/anaconda3/lib/python3.10/asyncio/base_events.py\", line 603, in run_forever\n      self._run_once()\n    File \"/Users/riccardo/anaconda3/lib/python3.10/asyncio/base_events.py\", line 1906, in _run_once\n      handle._run()\n    File \"/Users/riccardo/anaconda3/lib/python3.10/asyncio/events.py\", line 80, in _run\n      self._context.run(self._callback, *self._args)\n    File \"/Users/riccardo/Desktop/Github/Exploring-the-power-of-rnns/venv2/lib/python3.10/site-packages/ipykernel/kernelbase.py\", line 545, in dispatch_queue\n      await self.process_one()\n    File \"/Users/riccardo/Desktop/Github/Exploring-the-power-of-rnns/venv2/lib/python3.10/site-packages/ipykernel/kernelbase.py\", line 534, in process_one\n      await dispatch(*args)\n    File \"/Users/riccardo/Desktop/Github/Exploring-the-power-of-rnns/venv2/lib/python3.10/site-packages/ipykernel/kernelbase.py\", line 437, in dispatch_shell\n      await result\n    File \"/Users/riccardo/Desktop/Github/Exploring-the-power-of-rnns/venv2/lib/python3.10/site-packages/ipykernel/ipkernel.py\", line 362, in execute_request\n      await super().execute_request(stream, ident, parent)\n    File \"/Users/riccardo/Desktop/Github/Exploring-the-power-of-rnns/venv2/lib/python3.10/site-packages/ipykernel/kernelbase.py\", line 778, in execute_request\n      reply_content = await reply_content\n    File \"/Users/riccardo/Desktop/Github/Exploring-the-power-of-rnns/venv2/lib/python3.10/site-packages/ipykernel/ipkernel.py\", line 449, in do_execute\n      res = shell.run_cell(\n    File \"/Users/riccardo/Desktop/Github/Exploring-the-power-of-rnns/venv2/lib/python3.10/site-packages/ipykernel/zmqshell.py\", line 549, in run_cell\n      return super().run_cell(*args, **kwargs)\n    File \"/Users/riccardo/Desktop/Github/Exploring-the-power-of-rnns/venv2/lib/python3.10/site-packages/IPython/core/interactiveshell.py\", line 3075, in run_cell\n      result = self._run_cell(\n    File \"/Users/riccardo/Desktop/Github/Exploring-the-power-of-rnns/venv2/lib/python3.10/site-packages/IPython/core/interactiveshell.py\", line 3130, in _run_cell\n      result = runner(coro)\n    File \"/Users/riccardo/Desktop/Github/Exploring-the-power-of-rnns/venv2/lib/python3.10/site-packages/IPython/core/async_helpers.py\", line 128, in _pseudo_sync_runner\n      coro.send(None)\n    File \"/Users/riccardo/Desktop/Github/Exploring-the-power-of-rnns/venv2/lib/python3.10/site-packages/IPython/core/interactiveshell.py\", line 3334, in run_cell_async\n      has_raised = await self.run_ast_nodes(code_ast.body, cell_name,\n    File \"/Users/riccardo/Desktop/Github/Exploring-the-power-of-rnns/venv2/lib/python3.10/site-packages/IPython/core/interactiveshell.py\", line 3517, in run_ast_nodes\n      if await self.run_code(code, result, async_=asy):\n    File \"/Users/riccardo/Desktop/Github/Exploring-the-power-of-rnns/venv2/lib/python3.10/site-packages/IPython/core/interactiveshell.py\", line 3577, in run_code\n      exec(code_obj, self.user_global_ns, self.user_ns)\n    File \"/var/folders/13/3pzxxwtd6cbdvdzq_lc6112r0000gn/T/ipykernel_81280/1609873718.py\", line 13, in <module>\n      next_pred = model.predict(last_known_data.reshape(1, seq_size, 1))\n    File \"/Users/riccardo/Desktop/Github/Exploring-the-power-of-rnns/venv2/lib/python3.10/site-packages/keras/src/utils/traceback_utils.py\", line 65, in error_handler\n      return fn(*args, **kwargs)\n    File \"/Users/riccardo/Desktop/Github/Exploring-the-power-of-rnns/venv2/lib/python3.10/site-packages/keras/src/engine/training.py\", line 2554, in predict\n      tmp_batch_outputs = self.predict_function(iterator)\n    File \"/Users/riccardo/Desktop/Github/Exploring-the-power-of-rnns/venv2/lib/python3.10/site-packages/keras/src/engine/training.py\", line 2341, in predict_function\n      return step_function(self, iterator)\n    File \"/Users/riccardo/Desktop/Github/Exploring-the-power-of-rnns/venv2/lib/python3.10/site-packages/keras/src/engine/training.py\", line 2327, in step_function\n      outputs = model.distribute_strategy.run(run_step, args=(data,))\n    File \"/Users/riccardo/Desktop/Github/Exploring-the-power-of-rnns/venv2/lib/python3.10/site-packages/keras/src/engine/training.py\", line 2315, in run_step\n      outputs = model.predict_step(data)\n    File \"/Users/riccardo/Desktop/Github/Exploring-the-power-of-rnns/venv2/lib/python3.10/site-packages/keras/src/engine/training.py\", line 2283, in predict_step\n      return self(x, training=False)\n    File \"/Users/riccardo/Desktop/Github/Exploring-the-power-of-rnns/venv2/lib/python3.10/site-packages/keras/src/utils/traceback_utils.py\", line 65, in error_handler\n      return fn(*args, **kwargs)\n    File \"/Users/riccardo/Desktop/Github/Exploring-the-power-of-rnns/venv2/lib/python3.10/site-packages/keras/src/engine/training.py\", line 569, in __call__\n      return super().__call__(*args, **kwargs)\n    File \"/Users/riccardo/Desktop/Github/Exploring-the-power-of-rnns/venv2/lib/python3.10/site-packages/keras/src/utils/traceback_utils.py\", line 65, in error_handler\n      return fn(*args, **kwargs)\n    File \"/Users/riccardo/Desktop/Github/Exploring-the-power-of-rnns/venv2/lib/python3.10/site-packages/keras/src/engine/base_layer.py\", line 1150, in __call__\n      outputs = call_fn(inputs, *args, **kwargs)\n    File \"/Users/riccardo/Desktop/Github/Exploring-the-power-of-rnns/venv2/lib/python3.10/site-packages/keras/src/utils/traceback_utils.py\", line 96, in error_handler\n      return fn(*args, **kwargs)\n    File \"/Users/riccardo/Desktop/Github/Exploring-the-power-of-rnns/venv2/lib/python3.10/site-packages/keras/src/engine/sequential.py\", line 405, in call\n      return super().call(inputs, training=training, mask=mask)\n    File \"/Users/riccardo/Desktop/Github/Exploring-the-power-of-rnns/venv2/lib/python3.10/site-packages/keras/src/engine/functional.py\", line 512, in call\n      return self._run_internal_graph(inputs, training=training, mask=mask)\n    File \"/Users/riccardo/Desktop/Github/Exploring-the-power-of-rnns/venv2/lib/python3.10/site-packages/keras/src/engine/functional.py\", line 669, in _run_internal_graph\n      outputs = node.layer(*args, **kwargs)\n    File \"/Users/riccardo/Desktop/Github/Exploring-the-power-of-rnns/venv2/lib/python3.10/site-packages/keras/src/layers/rnn/base_rnn.py\", line 556, in __call__\n      return super().__call__(inputs, **kwargs)\n    File \"/Users/riccardo/Desktop/Github/Exploring-the-power-of-rnns/venv2/lib/python3.10/site-packages/keras/src/utils/traceback_utils.py\", line 65, in error_handler\n      return fn(*args, **kwargs)\n    File \"/Users/riccardo/Desktop/Github/Exploring-the-power-of-rnns/venv2/lib/python3.10/site-packages/keras/src/engine/base_layer.py\", line 1150, in __call__\n      outputs = call_fn(inputs, *args, **kwargs)\n    File \"/Users/riccardo/Desktop/Github/Exploring-the-power-of-rnns/venv2/lib/python3.10/site-packages/keras/src/utils/traceback_utils.py\", line 96, in error_handler\n      return fn(*args, **kwargs)\n    File \"/Users/riccardo/Desktop/Github/Exploring-the-power-of-rnns/venv2/lib/python3.10/site-packages/keras/src/layers/rnn/lstm.py\", line 749, in call\n      ) = lstm_with_backend_selection(**normal_lstm_kwargs)\n    File \"/Users/riccardo/Desktop/Github/Exploring-the-power-of-rnns/venv2/lib/python3.10/site-packages/keras/src/layers/rnn/lstm.py\", line 1339, in lstm_with_backend_selection\n      last_output, outputs, new_h, new_c, runtime = defun_standard_lstm(\n    File \"/Users/riccardo/Desktop/Github/Exploring-the-power-of-rnns/venv2/lib/python3.10/site-packages/keras/src/layers/rnn/lstm.py\", line 981, in standard_lstm\n      last_output, outputs, new_states = backend.rnn(\n    File \"/Users/riccardo/Desktop/Github/Exploring-the-power-of-rnns/venv2/lib/python3.10/site-packages/keras/src/backend.py\", line 5170, in rnn\n      final_outputs = tf.compat.v1.while_loop(\n    File \"/Users/riccardo/Desktop/Github/Exploring-the-power-of-rnns/venv2/lib/python3.10/site-packages/keras/src/backend.py\", line 5149, in _step\n      output, new_states = step_function(\n    File \"/Users/riccardo/Desktop/Github/Exploring-the-power-of-rnns/venv2/lib/python3.10/site-packages/keras/src/layers/rnn/lstm.py\", line 967, in step\n      z = backend.dot(cell_inputs, kernel)\n    File \"/Users/riccardo/Desktop/Github/Exploring-the-power-of-rnns/venv2/lib/python3.10/site-packages/keras/src/backend.py\", line 2465, in dot\n      out = tf.matmul(x, y)\nNode: 'while/MatMul'\nMatrix size-incompatible: In[0]: [1,1], In[1]: [5,256]\n\t [[{{node while/MatMul}}]]\n\t [[sequential_3/lstm_6/PartitionedCall]] [Op:__inference_predict_function_40933]"
     ]
    }
   ],
   "source": [
    "# Anzahl der zukünftigen Tage, die vorhergesagt werden sollen\n",
    "future_days = 10\n",
    "\n",
    "# Liste zur Speicherung der zukünftigen Vorhersagen\n",
    "futurePredict = []\n",
    "\n",
    "# Nehmen Sie die letzten bekannten Daten aus dem Datensatz\n",
    "last_known_data = testX[-1]  # Das letzte bekannte Fenster von Daten\n",
    "\n",
    "# Schleife, um die zukünftigen Werte zu generieren\n",
    "for _ in range(future_days):\n",
    "    # Machen Sie eine Vorhersage für den nächsten Tag\n",
    "    next_pred = model.predict(last_known_data.reshape(1, seq_size, 1))\n",
    "    \n",
    "    # Speichern Sie die Vorhersage\n",
    "    futurePredict.append(next_pred[0, 0])\n",
    "    \n",
    "    # Fügen Sie die Vorhersage an das Ende der Eingabedaten und entfernen Sie das erste Element\n",
    "    last_known_data = np.append(last_known_data[1:], next_pred)\n",
    "\n",
    "# Rücktransformation der zukünftigen Vorhersagen zu den ursprünglichen Werten\n",
    "futurePredict = np.array(futurePredict).reshape(-1, 1)\n",
    "futurePredict = scaler.inverse_transform(futurePredict)\n",
    "\n",
    "# Anzeigen der zukünftigen Vorhersagen\n",
    "print(f\"Future predictions for the next {future_days} days:\")\n",
    "for i, pred in enumerate(futurePredict):\n",
    "    print(f\"Day {i+1}: {pred[0]}\")\n"
   ]
  },
  {
   "cell_type": "code",
   "execution_count": 17,
   "metadata": {},
   "outputs": [
    {
     "ename": "InvalidParameterError",
     "evalue": "The 'y_true' parameter of mean_squared_error must be an array-like. Got 1026.69 instead.",
     "output_type": "error",
     "traceback": [
      "\u001b[0;31m---------------------------------------------------------------------------\u001b[0m",
      "\u001b[0;31mInvalidParameterError\u001b[0m                     Traceback (most recent call last)",
      "Cell \u001b[0;32mIn[17], line 2\u001b[0m\n\u001b[1;32m      1\u001b[0m \u001b[38;5;66;03m# calculate root mean squared error\u001b[39;00m\n\u001b[0;32m----> 2\u001b[0m trainScore \u001b[38;5;241m=\u001b[39m math\u001b[38;5;241m.\u001b[39msqrt(\u001b[43mmean_squared_error\u001b[49m\u001b[43m(\u001b[49m\u001b[43mtrainY\u001b[49m\u001b[43m[\u001b[49m\u001b[38;5;241;43m0\u001b[39;49m\u001b[43m]\u001b[49m\u001b[43m,\u001b[49m\u001b[43m \u001b[49m\u001b[43mtrainPredict\u001b[49m\u001b[43m[\u001b[49m\u001b[43m:\u001b[49m\u001b[43m,\u001b[49m\u001b[38;5;241;43m0\u001b[39;49m\u001b[43m]\u001b[49m\u001b[43m)\u001b[49m)\n\u001b[1;32m      3\u001b[0m \u001b[38;5;28mprint\u001b[39m(\u001b[38;5;124m'\u001b[39m\u001b[38;5;124mTrain Score: \u001b[39m\u001b[38;5;132;01m%.2f\u001b[39;00m\u001b[38;5;124m RMSE\u001b[39m\u001b[38;5;124m'\u001b[39m \u001b[38;5;241m%\u001b[39m (trainScore))\n\u001b[1;32m      5\u001b[0m testScore \u001b[38;5;241m=\u001b[39m math\u001b[38;5;241m.\u001b[39msqrt(mean_squared_error(testY[\u001b[38;5;241m0\u001b[39m], testPredict[:,\u001b[38;5;241m0\u001b[39m]))\n",
      "File \u001b[0;32m~/Desktop/Github/Bachelor/test_/lib/python3.10/site-packages/sklearn/utils/_param_validation.py:203\u001b[0m, in \u001b[0;36mvalidate_params.<locals>.decorator.<locals>.wrapper\u001b[0;34m(*args, **kwargs)\u001b[0m\n\u001b[1;32m    200\u001b[0m to_ignore \u001b[38;5;241m+\u001b[39m\u001b[38;5;241m=\u001b[39m [\u001b[38;5;124m\"\u001b[39m\u001b[38;5;124mself\u001b[39m\u001b[38;5;124m\"\u001b[39m, \u001b[38;5;124m\"\u001b[39m\u001b[38;5;124mcls\u001b[39m\u001b[38;5;124m\"\u001b[39m]\n\u001b[1;32m    201\u001b[0m params \u001b[38;5;241m=\u001b[39m {k: v \u001b[38;5;28;01mfor\u001b[39;00m k, v \u001b[38;5;129;01min\u001b[39;00m params\u001b[38;5;241m.\u001b[39marguments\u001b[38;5;241m.\u001b[39mitems() \u001b[38;5;28;01mif\u001b[39;00m k \u001b[38;5;129;01mnot\u001b[39;00m \u001b[38;5;129;01min\u001b[39;00m to_ignore}\n\u001b[0;32m--> 203\u001b[0m \u001b[43mvalidate_parameter_constraints\u001b[49m\u001b[43m(\u001b[49m\n\u001b[1;32m    204\u001b[0m \u001b[43m    \u001b[49m\u001b[43mparameter_constraints\u001b[49m\u001b[43m,\u001b[49m\u001b[43m \u001b[49m\u001b[43mparams\u001b[49m\u001b[43m,\u001b[49m\u001b[43m \u001b[49m\u001b[43mcaller_name\u001b[49m\u001b[38;5;241;43m=\u001b[39;49m\u001b[43mfunc\u001b[49m\u001b[38;5;241;43m.\u001b[39;49m\u001b[38;5;18;43m__qualname__\u001b[39;49m\n\u001b[1;32m    205\u001b[0m \u001b[43m\u001b[49m\u001b[43m)\u001b[49m\n\u001b[1;32m    207\u001b[0m \u001b[38;5;28;01mtry\u001b[39;00m:\n\u001b[1;32m    208\u001b[0m     \u001b[38;5;28;01mwith\u001b[39;00m config_context(\n\u001b[1;32m    209\u001b[0m         skip_parameter_validation\u001b[38;5;241m=\u001b[39m(\n\u001b[1;32m    210\u001b[0m             prefer_skip_nested_validation \u001b[38;5;129;01mor\u001b[39;00m global_skip_validation\n\u001b[1;32m    211\u001b[0m         )\n\u001b[1;32m    212\u001b[0m     ):\n",
      "File \u001b[0;32m~/Desktop/Github/Bachelor/test_/lib/python3.10/site-packages/sklearn/utils/_param_validation.py:95\u001b[0m, in \u001b[0;36mvalidate_parameter_constraints\u001b[0;34m(parameter_constraints, params, caller_name)\u001b[0m\n\u001b[1;32m     89\u001b[0m \u001b[38;5;28;01melse\u001b[39;00m:\n\u001b[1;32m     90\u001b[0m     constraints_str \u001b[38;5;241m=\u001b[39m (\n\u001b[1;32m     91\u001b[0m         \u001b[38;5;124mf\u001b[39m\u001b[38;5;124m\"\u001b[39m\u001b[38;5;132;01m{\u001b[39;00m\u001b[38;5;124m'\u001b[39m\u001b[38;5;124m, \u001b[39m\u001b[38;5;124m'\u001b[39m\u001b[38;5;241m.\u001b[39mjoin([\u001b[38;5;28mstr\u001b[39m(c)\u001b[38;5;250m \u001b[39m\u001b[38;5;28;01mfor\u001b[39;00m\u001b[38;5;250m \u001b[39mc\u001b[38;5;250m \u001b[39m\u001b[38;5;129;01min\u001b[39;00m\u001b[38;5;250m \u001b[39mconstraints[:\u001b[38;5;241m-\u001b[39m\u001b[38;5;241m1\u001b[39m]])\u001b[38;5;132;01m}\u001b[39;00m\u001b[38;5;124m or\u001b[39m\u001b[38;5;124m\"\u001b[39m\n\u001b[1;32m     92\u001b[0m         \u001b[38;5;124mf\u001b[39m\u001b[38;5;124m\"\u001b[39m\u001b[38;5;124m \u001b[39m\u001b[38;5;132;01m{\u001b[39;00mconstraints[\u001b[38;5;241m-\u001b[39m\u001b[38;5;241m1\u001b[39m]\u001b[38;5;132;01m}\u001b[39;00m\u001b[38;5;124m\"\u001b[39m\n\u001b[1;32m     93\u001b[0m     )\n\u001b[0;32m---> 95\u001b[0m \u001b[38;5;28;01mraise\u001b[39;00m InvalidParameterError(\n\u001b[1;32m     96\u001b[0m     \u001b[38;5;124mf\u001b[39m\u001b[38;5;124m\"\u001b[39m\u001b[38;5;124mThe \u001b[39m\u001b[38;5;132;01m{\u001b[39;00mparam_name\u001b[38;5;132;01m!r}\u001b[39;00m\u001b[38;5;124m parameter of \u001b[39m\u001b[38;5;132;01m{\u001b[39;00mcaller_name\u001b[38;5;132;01m}\u001b[39;00m\u001b[38;5;124m must be\u001b[39m\u001b[38;5;124m\"\u001b[39m\n\u001b[1;32m     97\u001b[0m     \u001b[38;5;124mf\u001b[39m\u001b[38;5;124m\"\u001b[39m\u001b[38;5;124m \u001b[39m\u001b[38;5;132;01m{\u001b[39;00mconstraints_str\u001b[38;5;132;01m}\u001b[39;00m\u001b[38;5;124m. Got \u001b[39m\u001b[38;5;132;01m{\u001b[39;00mparam_val\u001b[38;5;132;01m!r}\u001b[39;00m\u001b[38;5;124m instead.\u001b[39m\u001b[38;5;124m\"\u001b[39m\n\u001b[1;32m     98\u001b[0m )\n",
      "\u001b[0;31mInvalidParameterError\u001b[0m: The 'y_true' parameter of mean_squared_error must be an array-like. Got 1026.69 instead."
     ]
    }
   ],
   "source": [
    "# calculate root mean squared error\n",
    "trainScore = math.sqrt(mean_squared_error(trainY[0], trainPredict[:,0]))\n",
    "print('Train Score: %.2f RMSE' % (trainScore))\n",
    "\n",
    "testScore = math.sqrt(mean_squared_error(testY[0], testPredict[:,0]))\n",
    "print('Test Score: %.2f RMSE' % (testScore))"
   ]
  },
  {
   "cell_type": "code",
   "execution_count": 18,
   "metadata": {},
   "outputs": [],
   "source": [
    "# shift train predictions for plotting\n",
    "#we must shift the predictions so that they align on the x-axis with the original dataset. \n",
    "trainPredictPlot = np.empty_like(dataset)\n",
    "trainPredictPlot[:, :] = np.nan\n",
    "trainPredictPlot[seq_size:len(trainPredict)+seq_size, :] = trainPredict"
   ]
  },
  {
   "cell_type": "code",
   "execution_count": 19,
   "metadata": {},
   "outputs": [],
   "source": [
    "# shift test predictions for plotting\n",
    "testPredictPlot = np.empty_like(dataset)\n",
    "testPredictPlot[:, :] = np.nan\n",
    "testPredictPlot[len(trainPredict)+(seq_size*2)+1:len(dataset)-1, :] = testPredict"
   ]
  },
  {
   "cell_type": "code",
   "execution_count": null,
   "metadata": {},
   "outputs": [],
   "source": []
  },
  {
   "cell_type": "code",
   "execution_count": null,
   "metadata": {},
   "outputs": [],
   "source": []
  },
  {
   "cell_type": "code",
   "execution_count": 1,
   "metadata": {},
   "outputs": [],
   "source": [
    "import pandas as pd"
   ]
  },
  {
   "cell_type": "code",
   "execution_count": null,
   "metadata": {},
   "outputs": [],
   "source": []
  },
  {
   "cell_type": "code",
   "execution_count": 6,
   "metadata": {},
   "outputs": [],
   "source": [
    "df = pd.read_csv(\"/Users/riccardo/Desktop/Github/Exploring-the-power-of-rnns/data/processed/Weather_data.csv\")\n",
    "df.drop(columns=[\"Station_ID\"], inplace=True)"
   ]
  },
  {
   "cell_type": "code",
   "execution_count": 10,
   "metadata": {},
   "outputs": [],
   "source": [
    "df.to_csv(\"/Users/riccardo/Desktop/Github/Exploring-the-power-of-rnns/data/processed/Weather_data.csv\", index=False)"
   ]
  },
  {
   "cell_type": "code",
   "execution_count": 9,
   "metadata": {},
   "outputs": [
    {
     "data": {
      "text/html": [
       "<div>\n",
       "<style scoped>\n",
       "    .dataframe tbody tr th:only-of-type {\n",
       "        vertical-align: middle;\n",
       "    }\n",
       "\n",
       "    .dataframe tbody tr th {\n",
       "        vertical-align: top;\n",
       "    }\n",
       "\n",
       "    .dataframe thead th {\n",
       "        text-align: right;\n",
       "    }\n",
       "</style>\n",
       "<table border=\"1\" class=\"dataframe\">\n",
       "  <thead>\n",
       "    <tr style=\"text-align: right;\">\n",
       "      <th></th>\n",
       "      <th>Precipitation</th>\n",
       "      <th>Evaporation</th>\n",
       "      <th>Mean_Temperature</th>\n",
       "      <th>Mean_Humidity</th>\n",
       "      <th>Max_Temperature</th>\n",
       "      <th>Min_Temperature</th>\n",
       "      <th>Grass_Temperature</th>\n",
       "    </tr>\n",
       "  </thead>\n",
       "  <tbody>\n",
       "    <tr>\n",
       "      <th>count</th>\n",
       "      <td>23539.000000</td>\n",
       "      <td>23477.000000</td>\n",
       "      <td>23548.000000</td>\n",
       "      <td>23477.000000</td>\n",
       "      <td>23548.000000</td>\n",
       "      <td>23548.000000</td>\n",
       "      <td>23548.000000</td>\n",
       "    </tr>\n",
       "    <tr>\n",
       "      <th>mean</th>\n",
       "      <td>2.165423</td>\n",
       "      <td>9.840768</td>\n",
       "      <td>8.681506</td>\n",
       "      <td>80.515792</td>\n",
       "      <td>13.827412</td>\n",
       "      <td>4.050535</td>\n",
       "      <td>2.768859</td>\n",
       "    </tr>\n",
       "    <tr>\n",
       "      <th>std</th>\n",
       "      <td>4.833911</td>\n",
       "      <td>4.474825</td>\n",
       "      <td>8.004253</td>\n",
       "      <td>10.628020</td>\n",
       "      <td>9.533794</td>\n",
       "      <td>7.221508</td>\n",
       "      <td>7.166463</td>\n",
       "    </tr>\n",
       "    <tr>\n",
       "      <th>min</th>\n",
       "      <td>0.000000</td>\n",
       "      <td>0.600000</td>\n",
       "      <td>-27.000000</td>\n",
       "      <td>27.000000</td>\n",
       "      <td>-21.000000</td>\n",
       "      <td>-33.500000</td>\n",
       "      <td>-33.700000</td>\n",
       "    </tr>\n",
       "    <tr>\n",
       "      <th>25%</th>\n",
       "      <td>0.000000</td>\n",
       "      <td>6.200000</td>\n",
       "      <td>2.500000</td>\n",
       "      <td>74.000000</td>\n",
       "      <td>6.000000</td>\n",
       "      <td>-0.700000</td>\n",
       "      <td>-1.800000</td>\n",
       "    </tr>\n",
       "    <tr>\n",
       "      <th>50%</th>\n",
       "      <td>0.000000</td>\n",
       "      <td>9.000000</td>\n",
       "      <td>9.000000</td>\n",
       "      <td>82.000000</td>\n",
       "      <td>14.300000</td>\n",
       "      <td>4.150000</td>\n",
       "      <td>2.900000</td>\n",
       "    </tr>\n",
       "    <tr>\n",
       "      <th>75%</th>\n",
       "      <td>2.200000</td>\n",
       "      <td>13.200000</td>\n",
       "      <td>15.100000</td>\n",
       "      <td>89.000000</td>\n",
       "      <td>21.500000</td>\n",
       "      <td>9.800000</td>\n",
       "      <td>8.400000</td>\n",
       "    </tr>\n",
       "    <tr>\n",
       "      <th>max</th>\n",
       "      <td>117.500000</td>\n",
       "      <td>24.100000</td>\n",
       "      <td>27.400000</td>\n",
       "      <td>100.000000</td>\n",
       "      <td>37.900000</td>\n",
       "      <td>19.700000</td>\n",
       "      <td>18.600000</td>\n",
       "    </tr>\n",
       "  </tbody>\n",
       "</table>\n",
       "</div>"
      ],
      "text/plain": [
       "       Precipitation   Evaporation  Mean_Temperature  Mean_Humidity  \\\n",
       "count   23539.000000  23477.000000      23548.000000   23477.000000   \n",
       "mean        2.165423      9.840768          8.681506      80.515792   \n",
       "std         4.833911      4.474825          8.004253      10.628020   \n",
       "min         0.000000      0.600000        -27.000000      27.000000   \n",
       "25%         0.000000      6.200000          2.500000      74.000000   \n",
       "50%         0.000000      9.000000          9.000000      82.000000   \n",
       "75%         2.200000     13.200000         15.100000      89.000000   \n",
       "max       117.500000     24.100000         27.400000     100.000000   \n",
       "\n",
       "       Max_Temperature  Min_Temperature  Grass_Temperature  \n",
       "count     23548.000000     23548.000000       23548.000000  \n",
       "mean         13.827412         4.050535           2.768859  \n",
       "std           9.533794         7.221508           7.166463  \n",
       "min         -21.000000       -33.500000         -33.700000  \n",
       "25%           6.000000        -0.700000          -1.800000  \n",
       "50%          14.300000         4.150000           2.900000  \n",
       "75%          21.500000         9.800000           8.400000  \n",
       "max          37.900000        19.700000          18.600000  "
      ]
     },
     "execution_count": 9,
     "metadata": {},
     "output_type": "execute_result"
    }
   ],
   "source": [
    "df.describe()"
   ]
  },
  {
   "cell_type": "code",
   "execution_count": 54,
   "metadata": {},
   "outputs": [],
   "source": [
    "df.describe()\n",
    "df.to_csv(\"data/processed/Weather_data.csv\", index=False)"
   ]
  },
  {
   "cell_type": "code",
   "execution_count": null,
   "metadata": {},
   "outputs": [],
   "source": []
  },
  {
   "cell_type": "code",
   "execution_count": null,
   "metadata": {},
   "outputs": [],
   "source": []
  },
  {
   "cell_type": "code",
   "execution_count": null,
   "metadata": {},
   "outputs": [],
   "source": []
  },
  {
   "cell_type": "code",
   "execution_count": null,
   "metadata": {},
   "outputs": [],
   "source": []
  },
  {
   "cell_type": "code",
   "execution_count": 3,
   "metadata": {},
   "outputs": [
    {
     "data": {
      "image/png": "[encoded data removed]",
      "text/plain": [
       "<Figure size 1400x600 with 2 Axes>"
      ]
     },
     "metadata": {},
     "output_type": "display_data"
    }
   ],
   "source": [
    "import numpy as np\n",
    "import matplotlib.pyplot as plt\n",
    "\n",
    "# ReLU-Aktivierungsfunktion und ihre Ableitung\n",
    "def relu(x):\n",
    "    return np.maximum(0, x)\n",
    "\n",
    "def relu_derivative(x):\n",
    "    return np.where(x > 0, 1, 0)\n",
    "\n",
    "# Sigmoid-Aktivierungsfunktion und ihre Ableitung\n",
    "def sigmoid(x):\n",
    "    return 1 / (1 + np.exp(-x))\n",
    "\n",
    "def sigmoid_derivative(x):\n",
    "    s = sigmoid(x)\n",
    "    return s * (1 - s)\n",
    "\n",
    "# Eingabebereich\n",
    "x = np.linspace(-10, 10, 400)\n",
    "\n",
    "# Berechnung der Ausgaben und Ableitungen\n",
    "y_relu = relu(x)\n",
    "y_relu_derivative = relu_derivative(x)\n",
    "y_sigmoid = sigmoid(x)\n",
    "y_sigmoid_derivative = sigmoid_derivative(x)\n",
    "\n",
    "# Erstellung der Grafiken\n",
    "fig, axs = plt.subplots(1, 2, figsize=(14, 6))\n",
    "\n",
    "# ReLU-Grafik und Ableitung\n",
    "axs[0].plot(x, y_relu, label='ReLU', color='blue')\n",
    "axs[0].plot(x, y_relu_derivative, label='ReLU Ableitung', color='red', linestyle='--')\n",
    "axs[0].set_title('ReLU-Aktivierungsfunktion und Ableitung')\n",
    "axs[0].set_xlabel('Eingabe')\n",
    "axs[0].set_ylabel('Ausgabe')\n",
    "axs[0].legend()\n",
    "axs[0].grid(True)\n",
    "\n",
    "# Sigmoid-Grafik und Ableitung\n",
    "axs[1].plot(x, y_sigmoid, label='Sigmoid', color='green')\n",
    "axs[1].plot(x, y_sigmoid_derivative, label='Sigmoid Ableitung', color='purple', linestyle='--')\n",
    "axs[1].set_title('Sigmoid-Aktivierungsfunktion und Ableitung')\n",
    "axs[1].set_xlabel('Eingabe')\n",
    "axs[1].set_ylabel('Ausgabe')\n",
    "axs[1].legend()\n",
    "axs[1].grid(True)\n",
    "\n",
    "plt.tight_layout()\n",
    "plt.show()\n",
    "\n",
    "\n",
    "\n",
    "fig.savefig('activation_functions_derivatives.png')\n"
   ]
  },
  {
   "cell_type": "code",
   "execution_count": null,
   "metadata": {},
   "outputs": [],
   "source": []
  },
  {
   "cell_type": "code",
   "execution_count": 38,
   "metadata": {},
   "outputs": [],
   "source": [
    "\n",
    "import pandas as pd\n",
    "import numpy as np\n",
    "#from matplotlib import pyplot as plt\n"
   ]
  },
  {
   "cell_type": "code",
   "execution_count": 49,
   "metadata": {},
   "outputs": [],
   "source": [
    "country = \"US\", \"Germany\", \"India\",'France'\n",
    "#country = 'India'\n",
    "\n",
    "#Total COVID confirmed cases\n",
    "df_confirmed = pd.read_csv(\"https://raw.githubusercontent.com/CSSEGISandData/COVID-19/master/csse_covid_19_data/csse_covid_19_time_series/time_series_covid19_confirmed_global.csv\")\n",
    "#df_confirmed.to_csv('global.csv')\n",
    "df_confirmed_country = df_confirmed[df_confirmed[\"Country/Region\"] == country]\n",
    "df_confirmed_country = pd.DataFrame(df_confirmed_country[df_confirmed_country.columns[4:]].sum(),columns=[\"confirmed\"])\n",
    "df_confirmed_country.index = pd.to_datetime(df_confirmed_country.index,format='%m/%d/%y')\n",
    "\n",
    "\n"
   ]
  },
  {
   "cell_type": "code",
   "execution_count": 56,
   "metadata": {},
   "outputs": [],
   "source": [
    "import pandas as pd\n",
    "\n",
    "# Define the countries of interest\n",
    "countries = [\"US\", \"Germany\", \"India\", \"France\"]\n",
    "\n",
    "# Load the confirmed cases data from the provided URL\n",
    "url = \"https://raw.githubusercontent.com/CSSEGISandData/COVID-19/master/csse_covid_19_data/csse_covid_19_time_series/time_series_covid19_confirmed_global.csv\"\n",
    "df_confirmed = pd.read_csv(url)\n",
    "\n",
    "# Initialize an empty dataframe to store results\n",
    "df_confirmed_country = pd.DataFrame()\n",
    "\n",
    "# Process data for each country\n",
    "for country in countries:\n",
    "    # Filter data for the specific country\n",
    "    df_country = df_confirmed[df_confirmed[\"Country/Region\"] == country]\n",
    "    \n",
    "    # Sum the confirmed cases for the country and arrange by date\n",
    "    df_country_sum = pd.DataFrame(df_country[df_country.columns[4:]].sum(), columns=[country])\n",
    "    \n",
    "    # Ensure the index is in datetime format\n",
    "    df_country_sum.index = pd.to_datetime(df_country_sum.index, format='%m/%d/%y')\n",
    "    \n",
    "    # Add the country's data to the result dataframe\n",
    "    if df_confirmed_country.empty:\n",
    "        df_confirmed_country = df_country_sum\n",
    "    else:\n",
    "        df_confirmed_country = df_confirmed_country.join(df_country_sum)\n",
    "\n",
    "# Save the dataframe to a CSV file\n",
    "df_confirmed_country.index.name = \"Date\"\n"
   ]
  },
  {
   "cell_type": "code",
   "execution_count": 58,
   "metadata": {},
   "outputs": [],
   "source": [
    "df_confirmed_country.reset_index(inplace=True)"
   ]
  },
  {
   "cell_type": "code",
   "execution_count": 61,
   "metadata": {},
   "outputs": [
    {
     "data": {
      "text/html": [
       "<div>\n",
       "<style scoped>\n",
       "    .dataframe tbody tr th:only-of-type {\n",
       "        vertical-align: middle;\n",
       "    }\n",
       "\n",
       "    .dataframe tbody tr th {\n",
       "        vertical-align: top;\n",
       "    }\n",
       "\n",
       "    .dataframe thead th {\n",
       "        text-align: right;\n",
       "    }\n",
       "</style>\n",
       "<table border=\"1\" class=\"dataframe\">\n",
       "  <thead>\n",
       "    <tr style=\"text-align: right;\">\n",
       "      <th></th>\n",
       "      <th>Date</th>\n",
       "      <th>US</th>\n",
       "      <th>Germany</th>\n",
       "      <th>India</th>\n",
       "      <th>France</th>\n",
       "    </tr>\n",
       "  </thead>\n",
       "  <tbody>\n",
       "    <tr>\n",
       "      <th>0</th>\n",
       "      <td>2020-01-22</td>\n",
       "      <td>1</td>\n",
       "      <td>0</td>\n",
       "      <td>0</td>\n",
       "      <td>0</td>\n",
       "    </tr>\n",
       "    <tr>\n",
       "      <th>1</th>\n",
       "      <td>2020-01-23</td>\n",
       "      <td>1</td>\n",
       "      <td>0</td>\n",
       "      <td>0</td>\n",
       "      <td>0</td>\n",
       "    </tr>\n",
       "    <tr>\n",
       "      <th>2</th>\n",
       "      <td>2020-01-24</td>\n",
       "      <td>2</td>\n",
       "      <td>0</td>\n",
       "      <td>0</td>\n",
       "      <td>2</td>\n",
       "    </tr>\n",
       "    <tr>\n",
       "      <th>3</th>\n",
       "      <td>2020-01-25</td>\n",
       "      <td>2</td>\n",
       "      <td>0</td>\n",
       "      <td>0</td>\n",
       "      <td>3</td>\n",
       "    </tr>\n",
       "    <tr>\n",
       "      <th>4</th>\n",
       "      <td>2020-01-26</td>\n",
       "      <td>5</td>\n",
       "      <td>0</td>\n",
       "      <td>0</td>\n",
       "      <td>3</td>\n",
       "    </tr>\n",
       "    <tr>\n",
       "      <th>...</th>\n",
       "      <td>...</td>\n",
       "      <td>...</td>\n",
       "      <td>...</td>\n",
       "      <td>...</td>\n",
       "      <td>...</td>\n",
       "    </tr>\n",
       "    <tr>\n",
       "      <th>1138</th>\n",
       "      <td>2023-03-05</td>\n",
       "      <td>103646975</td>\n",
       "      <td>38210851</td>\n",
       "      <td>44689327</td>\n",
       "      <td>39839090</td>\n",
       "    </tr>\n",
       "    <tr>\n",
       "      <th>1139</th>\n",
       "      <td>2023-03-06</td>\n",
       "      <td>103655539</td>\n",
       "      <td>38210851</td>\n",
       "      <td>44689593</td>\n",
       "      <td>39847236</td>\n",
       "    </tr>\n",
       "    <tr>\n",
       "      <th>1140</th>\n",
       "      <td>2023-03-07</td>\n",
       "      <td>103690910</td>\n",
       "      <td>38231610</td>\n",
       "      <td>44689919</td>\n",
       "      <td>39854299</td>\n",
       "    </tr>\n",
       "    <tr>\n",
       "      <th>1141</th>\n",
       "      <td>2023-03-08</td>\n",
       "      <td>103755771</td>\n",
       "      <td>38241231</td>\n",
       "      <td>44690298</td>\n",
       "      <td>39860410</td>\n",
       "    </tr>\n",
       "    <tr>\n",
       "      <th>1142</th>\n",
       "      <td>2023-03-09</td>\n",
       "      <td>103802702</td>\n",
       "      <td>38249060</td>\n",
       "      <td>44690738</td>\n",
       "      <td>39866718</td>\n",
       "    </tr>\n",
       "  </tbody>\n",
       "</table>\n",
       "<p>1143 rows × 5 columns</p>\n",
       "</div>"
      ],
      "text/plain": [
       "           Date         US   Germany     India    France\n",
       "0    2020-01-22          1         0         0         0\n",
       "1    2020-01-23          1         0         0         0\n",
       "2    2020-01-24          2         0         0         2\n",
       "3    2020-01-25          2         0         0         3\n",
       "4    2020-01-26          5         0         0         3\n",
       "...         ...        ...       ...       ...       ...\n",
       "1138 2023-03-05  103646975  38210851  44689327  39839090\n",
       "1139 2023-03-06  103655539  38210851  44689593  39847236\n",
       "1140 2023-03-07  103690910  38231610  44689919  39854299\n",
       "1141 2023-03-08  103755771  38241231  44690298  39860410\n",
       "1142 2023-03-09  103802702  38249060  44690738  39866718\n",
       "\n",
       "[1143 rows x 5 columns]"
      ]
     },
     "execution_count": 61,
     "metadata": {},
     "output_type": "execute_result"
    }
   ],
   "source": [
    "df_confirmed_country"
   ]
  },
  {
   "cell_type": "code",
   "execution_count": 60,
   "metadata": {},
   "outputs": [],
   "source": [
    "\n",
    "# Display the dataframe\n",
    "df_confirmed_country.to_csv('confirmed_cases_by_country.csv')"
   ]
  },
  {
   "cell_type": "code",
   "execution_count": 41,
   "metadata": {},
   "outputs": [
    {
     "data": {
      "text/html": [
       "<div>\n",
       "<style scoped>\n",
       "    .dataframe tbody tr th:only-of-type {\n",
       "        vertical-align: middle;\n",
       "    }\n",
       "\n",
       "    .dataframe tbody tr th {\n",
       "        vertical-align: top;\n",
       "    }\n",
       "\n",
       "    .dataframe thead th {\n",
       "        text-align: right;\n",
       "    }\n",
       "</style>\n",
       "<table border=\"1\" class=\"dataframe\">\n",
       "  <thead>\n",
       "    <tr style=\"text-align: right;\">\n",
       "      <th></th>\n",
       "      <th>260</th>\n",
       "    </tr>\n",
       "  </thead>\n",
       "  <tbody>\n",
       "    <tr>\n",
       "      <th>Province/State</th>\n",
       "      <td>NaN</td>\n",
       "    </tr>\n",
       "    <tr>\n",
       "      <th>Country/Region</th>\n",
       "      <td>US</td>\n",
       "    </tr>\n",
       "    <tr>\n",
       "      <th>Lat</th>\n",
       "      <td>40.0</td>\n",
       "    </tr>\n",
       "    <tr>\n",
       "      <th>Long</th>\n",
       "      <td>-100.0</td>\n",
       "    </tr>\n",
       "    <tr>\n",
       "      <th>1/22/20</th>\n",
       "      <td>1</td>\n",
       "    </tr>\n",
       "    <tr>\n",
       "      <th>...</th>\n",
       "      <td>...</td>\n",
       "    </tr>\n",
       "    <tr>\n",
       "      <th>3/5/23</th>\n",
       "      <td>103646975</td>\n",
       "    </tr>\n",
       "    <tr>\n",
       "      <th>3/6/23</th>\n",
       "      <td>103655539</td>\n",
       "    </tr>\n",
       "    <tr>\n",
       "      <th>3/7/23</th>\n",
       "      <td>103690910</td>\n",
       "    </tr>\n",
       "    <tr>\n",
       "      <th>3/8/23</th>\n",
       "      <td>103755771</td>\n",
       "    </tr>\n",
       "    <tr>\n",
       "      <th>3/9/23</th>\n",
       "      <td>103802702</td>\n",
       "    </tr>\n",
       "  </tbody>\n",
       "</table>\n",
       "<p>1147 rows × 1 columns</p>\n",
       "</div>"
      ],
      "text/plain": [
       "                      260\n",
       "Province/State        NaN\n",
       "Country/Region         US\n",
       "Lat                  40.0\n",
       "Long               -100.0\n",
       "1/22/20                 1\n",
       "...                   ...\n",
       "3/5/23          103646975\n",
       "3/6/23          103655539\n",
       "3/7/23          103690910\n",
       "3/8/23          103755771\n",
       "3/9/23          103802702\n",
       "\n",
       "[1147 rows x 1 columns]"
      ]
     },
     "execution_count": 41,
     "metadata": {},
     "output_type": "execute_result"
    }
   ],
   "source": [
    "df_confirmed_country"
   ]
  },
  {
   "cell_type": "code",
   "execution_count": 11,
   "metadata": {},
   "outputs": [],
   "source": [
    "df_confirmed_country.rename(columns = {'confirmed': 'US confirmed Covid Cases'}, inplace = True)"
   ]
  },
  {
   "cell_type": "code",
   "execution_count": 22,
   "metadata": {},
   "outputs": [
    {
     "data": {
      "text/html": [
       "<div>\n",
       "<style scoped>\n",
       "    .dataframe tbody tr th:only-of-type {\n",
       "        vertical-align: middle;\n",
       "    }\n",
       "\n",
       "    .dataframe tbody tr th {\n",
       "        vertical-align: top;\n",
       "    }\n",
       "\n",
       "    .dataframe thead th {\n",
       "        text-align: right;\n",
       "    }\n",
       "</style>\n",
       "<table border=\"1\" class=\"dataframe\">\n",
       "  <thead>\n",
       "    <tr style=\"text-align: right;\">\n",
       "      <th></th>\n",
       "      <th>confirmed</th>\n",
       "    </tr>\n",
       "  </thead>\n",
       "  <tbody>\n",
       "    <tr>\n",
       "      <th>2020-01-22</th>\n",
       "      <td>0</td>\n",
       "    </tr>\n",
       "    <tr>\n",
       "      <th>2020-01-23</th>\n",
       "      <td>0</td>\n",
       "    </tr>\n",
       "    <tr>\n",
       "      <th>2020-01-24</th>\n",
       "      <td>0</td>\n",
       "    </tr>\n",
       "    <tr>\n",
       "      <th>2020-01-25</th>\n",
       "      <td>0</td>\n",
       "    </tr>\n",
       "    <tr>\n",
       "      <th>2020-01-26</th>\n",
       "      <td>0</td>\n",
       "    </tr>\n",
       "    <tr>\n",
       "      <th>...</th>\n",
       "      <td>...</td>\n",
       "    </tr>\n",
       "    <tr>\n",
       "      <th>2023-03-05</th>\n",
       "      <td>0</td>\n",
       "    </tr>\n",
       "    <tr>\n",
       "      <th>2023-03-06</th>\n",
       "      <td>0</td>\n",
       "    </tr>\n",
       "    <tr>\n",
       "      <th>2023-03-07</th>\n",
       "      <td>0</td>\n",
       "    </tr>\n",
       "    <tr>\n",
       "      <th>2023-03-08</th>\n",
       "      <td>0</td>\n",
       "    </tr>\n",
       "    <tr>\n",
       "      <th>2023-03-09</th>\n",
       "      <td>0</td>\n",
       "    </tr>\n",
       "  </tbody>\n",
       "</table>\n",
       "<p>1143 rows × 1 columns</p>\n",
       "</div>"
      ],
      "text/plain": [
       "            confirmed\n",
       "2020-01-22          0\n",
       "2020-01-23          0\n",
       "2020-01-24          0\n",
       "2020-01-25          0\n",
       "2020-01-26          0\n",
       "...               ...\n",
       "2023-03-05          0\n",
       "2023-03-06          0\n",
       "2023-03-07          0\n",
       "2023-03-08          0\n",
       "2023-03-09          0\n",
       "\n",
       "[1143 rows x 1 columns]"
      ]
     },
     "execution_count": 22,
     "metadata": {},
     "output_type": "execute_result"
    }
   ],
   "source": [
    "df_confirmed_country"
   ]
  }
 ],
 "metadata": {
  "kernelspec": {
   "display_name": "test_",
   "language": "python",
   "name": "python3"
  },
  "language_info": {
   "codemirror_mode": {
    "name": "ipython",
    "version": 3
   },
   "file_extension": ".py",
   "mimetype": "text/x-python",
   "name": "python",
   "nbconvert_exporter": "python",
   "pygments_lexer": "ipython3",
   "version": "3.10.9"
  }
 },
 "nbformat": 4,
 "nbformat_minor": 2
}
