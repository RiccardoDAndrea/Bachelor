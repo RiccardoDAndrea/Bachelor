{
 "cells": [
  {
   "cell_type": "code",
   "execution_count": null,
   "metadata": {},
   "outputs": [
    {
     "ename": "",
     "evalue": "",
     "output_type": "error",
     "traceback": [
      "\u001b[1;31mDer Kernel konnte aufgrund des fehlenden Moduls „typing_extensions“ nicht gestartet werden. Erwägen Sie die Installation dieses Moduls.\n",
      "\u001b[1;31mKlicken Sie <a href='https://aka.ms/kernelFailuresMissingModule'>hier</a>, um weitere Informationen zu erhalten."
     ]
    }
   ],
   "source": [
    "from sklearn.model_selection import GridSearchCV\n",
    "import numpy as np\n",
    "#import matplotlib.pyplot as plt\n",
    "import math\n",
    "import pandas as pd\n",
    "from keras.models import Sequential\n",
    "from keras.layers import Dense\n",
    "from keras.layers import LSTM, Flatten, SimpleRNN, GRU, Dropout\n",
    "from sklearn.preprocessing import MinMaxScaler\n",
    "from sklearn.metrics import mean_squared_error\n",
    "from keras.optimizers import Adam\n",
    "#from keras.constraints import maxnorm"
   ]
  },
  {
   "cell_type": "code",
   "execution_count": 2,
   "metadata": {},
   "outputs": [
    {
     "name": "stdout",
     "output_type": "stream",
     "text": [
      "Collecting tensorflow==2.14.0\n",
      "  Using cached tensorflow-2.14.0-cp310-cp310-macosx_12_0_arm64.whl (2.1 kB)\n",
      "Collecting tensorflow-macos==2.14.0\n",
      "  Using cached tensorflow_macos-2.14.0-cp310-cp310-macosx_12_0_arm64.whl (199.7 MB)\n",
      "Requirement already satisfied: absl-py>=1.0.0 in /Users/riccardo/anaconda3/lib/python3.10/site-packages (from tensorflow-macos==2.14.0->tensorflow==2.14.0) (1.4.0)\n",
      "Requirement already satisfied: gast!=0.5.0,!=0.5.1,!=0.5.2,>=0.2.1 in /Users/riccardo/anaconda3/lib/python3.10/site-packages (from tensorflow-macos==2.14.0->tensorflow==2.14.0) (0.4.0)\n",
      "Requirement already satisfied: libclang>=13.0.0 in /Users/riccardo/anaconda3/lib/python3.10/site-packages (from tensorflow-macos==2.14.0->tensorflow==2.14.0) (16.0.6)\n",
      "Requirement already satisfied: protobuf!=4.21.0,!=4.21.1,!=4.21.2,!=4.21.3,!=4.21.4,!=4.21.5,<5.0.0dev,>=3.20.3 in /Users/riccardo/anaconda3/lib/python3.10/site-packages (from tensorflow-macos==2.14.0->tensorflow==2.14.0) (4.25.1)\n",
      "Collecting tensorboard<2.15,>=2.14\n",
      "  Using cached tensorboard-2.14.1-py3-none-any.whl (5.5 MB)\n",
      "Requirement already satisfied: astunparse>=1.6.0 in /Users/riccardo/anaconda3/lib/python3.10/site-packages (from tensorflow-macos==2.14.0->tensorflow==2.14.0) (1.6.3)\n",
      "Collecting tensorflow-io-gcs-filesystem>=0.23.1\n",
      "  Using cached tensorflow_io_gcs_filesystem-0.37.1-cp310-cp310-macosx_12_0_arm64.whl (3.5 MB)\n",
      "Collecting wrapt<1.15,>=1.11.0\n",
      "  Using cached wrapt-1.14.1-cp310-cp310-macosx_11_0_arm64.whl (35 kB)\n",
      "Collecting keras<2.15,>=2.14.0\n",
      "  Using cached keras-2.14.0-py3-none-any.whl (1.7 MB)\n",
      "Requirement already satisfied: h5py>=2.9.0 in /Users/riccardo/anaconda3/lib/python3.10/site-packages (from tensorflow-macos==2.14.0->tensorflow==2.14.0) (3.7.0)\n",
      "Requirement already satisfied: google-pasta>=0.1.1 in /Users/riccardo/anaconda3/lib/python3.10/site-packages (from tensorflow-macos==2.14.0->tensorflow==2.14.0) (0.2.0)\n",
      "Requirement already satisfied: grpcio<2.0,>=1.24.3 in /Users/riccardo/anaconda3/lib/python3.10/site-packages (from tensorflow-macos==2.14.0->tensorflow==2.14.0) (1.59.3)\n",
      "Collecting tensorflow-estimator<2.15,>=2.14.0\n",
      "  Using cached tensorflow_estimator-2.14.0-py2.py3-none-any.whl (440 kB)\n",
      "Requirement already satisfied: opt-einsum>=2.3.2 in /Users/riccardo/anaconda3/lib/python3.10/site-packages (from tensorflow-macos==2.14.0->tensorflow==2.14.0) (3.3.0)\n",
      "Requirement already satisfied: numpy>=1.23.5 in /Users/riccardo/anaconda3/lib/python3.10/site-packages (from tensorflow-macos==2.14.0->tensorflow==2.14.0) (1.24.3)\n",
      "Requirement already satisfied: setuptools in /Users/riccardo/anaconda3/lib/python3.10/site-packages (from tensorflow-macos==2.14.0->tensorflow==2.14.0) (70.0.0)\n",
      "Requirement already satisfied: termcolor>=1.1.0 in /Users/riccardo/anaconda3/lib/python3.10/site-packages (from tensorflow-macos==2.14.0->tensorflow==2.14.0) (2.3.0)\n",
      "Requirement already satisfied: flatbuffers>=23.5.26 in /Users/riccardo/anaconda3/lib/python3.10/site-packages (from tensorflow-macos==2.14.0->tensorflow==2.14.0) (23.5.26)\n",
      "Requirement already satisfied: six>=1.12.0 in /Users/riccardo/anaconda3/lib/python3.10/site-packages (from tensorflow-macos==2.14.0->tensorflow==2.14.0) (1.16.0)\n",
      "Requirement already satisfied: packaging in /Users/riccardo/anaconda3/lib/python3.10/site-packages (from tensorflow-macos==2.14.0->tensorflow==2.14.0) (24.1)\n",
      "Requirement already satisfied: typing-extensions>=3.6.6 in /Users/riccardo/anaconda3/lib/python3.10/site-packages (from tensorflow-macos==2.14.0->tensorflow==2.14.0) (4.12.2)\n",
      "Collecting ml-dtypes==0.2.0\n",
      "  Using cached ml_dtypes-0.2.0-cp310-cp310-macosx_10_9_universal2.whl (1.2 MB)\n",
      "Requirement already satisfied: wheel<1.0,>=0.23.0 in /Users/riccardo/anaconda3/lib/python3.10/site-packages (from astunparse>=1.6.0->tensorflow-macos==2.14.0->tensorflow==2.14.0) (0.38.4)\n",
      "Requirement already satisfied: google-auth-oauthlib<1.1,>=0.5 in /Users/riccardo/anaconda3/lib/python3.10/site-packages (from tensorboard<2.15,>=2.14->tensorflow-macos==2.14.0->tensorflow==2.14.0) (1.0.0)\n",
      "Requirement already satisfied: tensorboard-data-server<0.8.0,>=0.7.0 in /Users/riccardo/anaconda3/lib/python3.10/site-packages (from tensorboard<2.15,>=2.14->tensorflow-macos==2.14.0->tensorflow==2.14.0) (0.7.1)\n",
      "Requirement already satisfied: requests<3,>=2.21.0 in /Users/riccardo/anaconda3/lib/python3.10/site-packages (from tensorboard<2.15,>=2.14->tensorflow-macos==2.14.0->tensorflow==2.14.0) (2.32.3)\n",
      "Requirement already satisfied: google-auth<3,>=1.6.3 in /Users/riccardo/anaconda3/lib/python3.10/site-packages (from tensorboard<2.15,>=2.14->tensorflow-macos==2.14.0->tensorflow==2.14.0) (2.24.0)\n",
      "Requirement already satisfied: werkzeug>=1.0.1 in /Users/riccardo/anaconda3/lib/python3.10/site-packages (from tensorboard<2.15,>=2.14->tensorflow-macos==2.14.0->tensorflow==2.14.0) (2.2.2)\n",
      "Requirement already satisfied: markdown>=2.6.8 in /Users/riccardo/anaconda3/lib/python3.10/site-packages (from tensorboard<2.15,>=2.14->tensorflow-macos==2.14.0->tensorflow==2.14.0) (3.4.1)\n",
      "Requirement already satisfied: rsa<5,>=3.1.4 in /Users/riccardo/anaconda3/lib/python3.10/site-packages (from google-auth<3,>=1.6.3->tensorboard<2.15,>=2.14->tensorflow-macos==2.14.0->tensorflow==2.14.0) (4.9)\n",
      "Requirement already satisfied: cachetools<6.0,>=2.0.0 in /Users/riccardo/anaconda3/lib/python3.10/site-packages (from google-auth<3,>=1.6.3->tensorboard<2.15,>=2.14->tensorflow-macos==2.14.0->tensorflow==2.14.0) (5.3.2)\n",
      "Requirement already satisfied: pyasn1-modules>=0.2.1 in /Users/riccardo/anaconda3/lib/python3.10/site-packages (from google-auth<3,>=1.6.3->tensorboard<2.15,>=2.14->tensorflow-macos==2.14.0->tensorflow==2.14.0) (0.3.0)\n",
      "Requirement already satisfied: requests-oauthlib>=0.7.0 in /Users/riccardo/anaconda3/lib/python3.10/site-packages (from google-auth-oauthlib<1.1,>=0.5->tensorboard<2.15,>=2.14->tensorflow-macos==2.14.0->tensorflow==2.14.0) (1.3.1)\n",
      "Requirement already satisfied: idna<4,>=2.5 in /Users/riccardo/anaconda3/lib/python3.10/site-packages (from requests<3,>=2.21.0->tensorboard<2.15,>=2.14->tensorflow-macos==2.14.0->tensorflow==2.14.0) (3.6)\n",
      "Requirement already satisfied: charset-normalizer<4,>=2 in /Users/riccardo/anaconda3/lib/python3.10/site-packages (from requests<3,>=2.21.0->tensorboard<2.15,>=2.14->tensorflow-macos==2.14.0->tensorflow==2.14.0) (3.3.2)\n",
      "Requirement already satisfied: urllib3<3,>=1.21.1 in /Users/riccardo/anaconda3/lib/python3.10/site-packages (from requests<3,>=2.21.0->tensorboard<2.15,>=2.14->tensorflow-macos==2.14.0->tensorflow==2.14.0) (1.26.18)\n",
      "Requirement already satisfied: certifi>=2017.4.17 in /Users/riccardo/anaconda3/lib/python3.10/site-packages (from requests<3,>=2.21.0->tensorboard<2.15,>=2.14->tensorflow-macos==2.14.0->tensorflow==2.14.0) (2023.11.17)\n",
      "Requirement already satisfied: MarkupSafe>=2.1.1 in /Users/riccardo/anaconda3/lib/python3.10/site-packages (from werkzeug>=1.0.1->tensorboard<2.15,>=2.14->tensorflow-macos==2.14.0->tensorflow==2.14.0) (2.1.3)\n",
      "Requirement already satisfied: pyasn1<0.6.0,>=0.4.6 in /Users/riccardo/anaconda3/lib/python3.10/site-packages (from pyasn1-modules>=0.2.1->google-auth<3,>=1.6.3->tensorboard<2.15,>=2.14->tensorflow-macos==2.14.0->tensorflow==2.14.0) (0.5.1)\n",
      "Requirement already satisfied: oauthlib>=3.0.0 in /Users/riccardo/anaconda3/lib/python3.10/site-packages (from requests-oauthlib>=0.7.0->google-auth-oauthlib<1.1,>=0.5->tensorboard<2.15,>=2.14->tensorflow-macos==2.14.0->tensorflow==2.14.0) (3.2.2)\n",
      "Installing collected packages: wrapt, tensorflow-io-gcs-filesystem, tensorflow-estimator, ml-dtypes, keras, tensorboard, tensorflow-macos, tensorflow\n",
      "  Attempting uninstall: wrapt\n",
      "    Found existing installation: wrapt 1.16.0\n",
      "    Uninstalling wrapt-1.16.0:\n",
      "      Successfully uninstalled wrapt-1.16.0\n",
      "  Attempting uninstall: tensorflow-estimator\n",
      "    Found existing installation: tensorflow-estimator 2.13.0\n",
      "    Uninstalling tensorflow-estimator-2.13.0:\n",
      "      Successfully uninstalled tensorflow-estimator-2.13.0\n",
      "  Attempting uninstall: keras\n",
      "    Found existing installation: keras 2.13.1\n",
      "    Uninstalling keras-2.13.1:\n",
      "      Successfully uninstalled keras-2.13.1\n",
      "  Attempting uninstall: tensorboard\n",
      "    Found existing installation: tensorboard 2.13.0\n",
      "    Uninstalling tensorboard-2.13.0:\n",
      "      Successfully uninstalled tensorboard-2.13.0\n",
      "  Attempting uninstall: tensorflow-macos\n",
      "    Found existing installation: tensorflow-macos 2.13.0\n",
      "    Uninstalling tensorflow-macos-2.13.0:\n",
      "      Successfully uninstalled tensorflow-macos-2.13.0\n",
      "  Attempting uninstall: tensorflow\n",
      "    Found existing installation: tensorflow 2.13.0\n",
      "    Uninstalling tensorflow-2.13.0:\n",
      "      Successfully uninstalled tensorflow-2.13.0\n",
      "\u001b[31mERROR: pip's dependency resolver does not currently take into account all the packages that are installed. This behaviour is the source of the following dependency conflicts.\n",
      "streamlit-chromadb-connection 1.0.3 requires exceptiongroup==1.2.0, but you have exceptiongroup 1.2.2 which is incompatible.\n",
      "streamlit-chromadb-connection 1.0.3 requires numpy==1.26.2, but you have numpy 1.24.3 which is incompatible.\n",
      "streamlit-chromadb-connection 1.0.3 requires packaging==23.2, but you have packaging 24.1 which is incompatible.\n",
      "streamlit-chromadb-connection 1.0.3 requires pandas==2.1.3, but you have pandas 2.2.2 which is incompatible.\n",
      "streamlit-chromadb-connection 1.0.3 requires Pygments==2.17.2, but you have pygments 2.18.0 which is incompatible.\n",
      "streamlit-chromadb-connection 1.0.3 requires python-dateutil==2.8.2, but you have python-dateutil 2.9.0.post0 which is incompatible.\n",
      "streamlit-chromadb-connection 1.0.3 requires requests==2.31.0, but you have requests 2.32.3 which is incompatible.\n",
      "streamlit-chromadb-connection 1.0.3 requires streamlit==1.29.0, but you have streamlit 1.35.0 which is incompatible.\n",
      "streamlit-chromadb-connection 1.0.3 requires tornado==6.4, but you have tornado 6.4.1 which is incompatible.\n",
      "streamlit-chromadb-connection 1.0.3 requires typing-extensions==4.8.0, but you have typing-extensions 4.12.2 which is incompatible.\n",
      "streamlit-chromadb-connection 1.0.3 requires wrapt==1.16.0, but you have wrapt 1.14.1 which is incompatible.\u001b[0m\u001b[31m\n",
      "\u001b[0mSuccessfully installed keras-2.14.0 ml-dtypes-0.2.0 tensorboard-2.14.1 tensorflow-2.14.0 tensorflow-estimator-2.14.0 tensorflow-io-gcs-filesystem-0.37.1 tensorflow-macos-2.14.0 wrapt-1.14.1\n"
     ]
    }
   ],
   "source": [
    "!pip install tensorflow==2.14.0"
   ]
  },
  {
   "cell_type": "code",
   "execution_count": 3,
   "metadata": {},
   "outputs": [
    {
     "name": "stdout",
     "output_type": "stream",
     "text": [
      "Requirement already satisfied: keras==2.14.0 in /Users/riccardo/anaconda3/lib/python3.10/site-packages (2.14.0)\n"
     ]
    }
   ],
   "source": [
    "!pip install keras==2.14.0"
   ]
  },
  {
   "cell_type": "code",
   "execution_count": 4,
   "metadata": {},
   "outputs": [
    {
     "name": "stdout",
     "output_type": "stream",
     "text": [
      "TensorFlow version: 2.13.0\n",
      "Keras version: 2.13.1\n"
     ]
    }
   ],
   "source": [
    "import tensorflow as tf\n",
    "import keras as keras\n",
    "print(\"TensorFlow version:\", tf.__version__)\n",
    "print(\"Keras version:\", keras.__version__)"
   ]
  },
  {
   "cell_type": "code",
   "execution_count": 5,
   "metadata": {},
   "outputs": [
    {
     "data": {
      "text/plain": [
       "(9213, 1)"
      ]
     },
     "execution_count": 5,
     "metadata": {},
     "output_type": "execute_result"
    }
   ],
   "source": [
    "dataframe = pd.read_csv(\"data/raw/DAX_Data.csv\", usecols=[1])\n",
    "dataframe = dataframe.dropna()\n",
    "#plt.plot(dataframe)\n",
    "dataframe.shape"
   ]
  },
  {
   "cell_type": "code",
   "execution_count": 6,
   "metadata": {},
   "outputs": [
    {
     "data": {
      "text/plain": [
       "(9213, 1)"
      ]
     },
     "execution_count": 6,
     "metadata": {},
     "output_type": "execute_result"
    }
   ],
   "source": [
    "#Convert pandas dataframe to numpy array\n",
    "dataset = dataframe.values\n",
    "dataset = dataset.astype('float32')\n",
    "dataset.shape"
   ]
  },
  {
   "cell_type": "code",
   "execution_count": 7,
   "metadata": {},
   "outputs": [
    {
     "data": {
      "text/plain": [
       "(9213, 1)"
      ]
     },
     "execution_count": 7,
     "metadata": {},
     "output_type": "execute_result"
    }
   ],
   "source": [
    "scaler = MinMaxScaler(feature_range=(0, 1)) #Also try QuantileTransformer\n",
    "dataset = scaler.fit_transform(dataset)\n",
    "dataset.shape\n"
   ]
  },
  {
   "cell_type": "code",
   "execution_count": 8,
   "metadata": {},
   "outputs": [],
   "source": [
    "train_size = int(len(dataset) * 0.66)\n",
    "test_size = len(dataset) - train_size\n",
    "train, test = dataset[0:train_size,:], dataset[train_size:len(dataset),:]"
   ]
  },
  {
   "cell_type": "code",
   "execution_count": 9,
   "metadata": {},
   "outputs": [],
   "source": [
    "def to_sequences(dataset, seq_size=1):\n",
    "    x = []\n",
    "    y = []\n",
    "\n",
    "    for i in range(len(dataset)-seq_size-1):\n",
    "        #print(i)\n",
    "        window = dataset[i:(i+seq_size), 0]\n",
    "        x.append(window)\n",
    "        y.append(dataset[i+seq_size, 0])\n",
    "        \n",
    "    return np.array(x),np.array(y)"
   ]
  },
  {
   "cell_type": "code",
   "execution_count": 10,
   "metadata": {},
   "outputs": [
    {
     "name": "stdout",
     "output_type": "stream",
     "text": [
      "Shape of training set: (6074, 5)\n",
      "Shape of test set: (3127, 5)\n"
     ]
    }
   ],
   "source": [
    "seq_size = 5  # Number of time steps to look back \n",
    "#Larger sequences (look further back) may improve forecasting.\n",
    "\n",
    "trainX, trainY = to_sequences(train, seq_size)\n",
    "testX, testY = to_sequences(test, seq_size)\n",
    "\n",
    "\n",
    "\n",
    "print(\"Shape of training set: {}\".format(trainX.shape))\n",
    "print(\"Shape of test set: {}\".format(testX.shape))"
   ]
  },
  {
   "cell_type": "code",
   "execution_count": 11,
   "metadata": {},
   "outputs": [],
   "source": [
    "# Reshape input to be [samples, time steps, features]\n",
    "trainX = np.reshape(trainX, (trainX.shape[0], 1, trainX.shape[1]))\n",
    "testX = np.reshape(testX, (testX.shape[0], 1, testX.shape[1]))"
   ]
  },
  {
   "cell_type": "code",
   "execution_count": null,
   "metadata": {},
   "outputs": [],
   "source": [
    "#NOTE: Add default optimizer, otherwise throws error 'optimizer not legal parameter'\n",
    "def define_model(dropout_rate=0.0, weight_constraint=0, neurons=10):   \n",
    "    model = Sequential()\n",
    "    model.add(Dense(neurons, activation='relu', kernel_initializer='he_uniform', \n",
    "                    input_dim = input_dim, kernel_constraint=maxnorm(weight_constraint))) \n",
    "    model.add(Dropout(dropout_rate))\n",
    "    model.add(Dense(neurons, kernel_initializer='he_uniform', activation='relu'))\n",
    "    model.add(Dense(num_classes, kernel_initializer='he_uniform', activation='softmax'))\n",
    "    \n",
    "    # compile the model\n",
    "    model.compile(loss='categorical_crossentropy',\n",
    "                  optimizer='Adam',      \n",
    "                  metrics=['acc'])\n",
    "    return model"
   ]
  },
  {
   "cell_type": "code",
   "execution_count": null,
   "metadata": {},
   "outputs": [],
   "source": []
  },
  {
   "cell_type": "code",
   "execution_count": null,
   "metadata": {},
   "outputs": [],
   "source": []
  },
  {
   "cell_type": "code",
   "execution_count": null,
   "metadata": {},
   "outputs": [],
   "source": []
  },
  {
   "cell_type": "code",
   "execution_count": null,
   "metadata": {},
   "outputs": [],
   "source": [
    "x_grid, x_not_use, y_grid, y_not_use = train_test_split(x_train, y_train, test_size=0.9, random_state=42)\n"
   ]
  }
 ],
 "metadata": {
  "kernelspec": {
   "display_name": "venv",
   "language": "python",
   "name": "python3"
  },
  "language_info": {
   "codemirror_mode": {
    "name": "ipython",
    "version": 3
   },
   "file_extension": ".py",
   "mimetype": "text/x-python",
   "name": "python",
   "nbconvert_exporter": "python",
   "pygments_lexer": "ipython3",
   "version": "3.10.9"
  }
 },
 "nbformat": 4,
 "nbformat_minor": 2
}
